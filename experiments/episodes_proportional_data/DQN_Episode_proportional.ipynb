{
 "cells": [
  {
   "cell_type": "markdown",
   "metadata": {},
   "source": [
    "<h1 style=\"text-align: center;\">DQN EPISODE PARITY DATA</h1>"
   ]
  },
  {
   "cell_type": "markdown",
   "metadata": {},
   "source": [
    "## 0. PACKAGE REQUIREMENTS"
   ]
  },
  {
   "cell_type": "code",
   "execution_count": 1,
   "metadata": {},
   "outputs": [
    {
     "name": "stderr",
     "output_type": "stream",
     "text": [
      "/Users/emilialautz/opt/anaconda3/lib/python3.9/site-packages/scipy/__init__.py:155: UserWarning: A NumPy version >=1.18.5 and <1.25.0 is required for this version of SciPy (detected version 1.26.4\n",
      "  warnings.warn(f\"A NumPy version >={np_minversion} and <{np_maxversion}\"\n"
     ]
    }
   ],
   "source": [
    "# Packages\n",
    "import random\n",
    "import pandas as pd\n",
    "import numpy as np\n",
    "import matplotlib.pyplot as plt\n",
    "import matplotlib \n",
    "from matplotlib.colors import LinearSegmentedColormap\n",
    "import seaborn as sns\n",
    "from IPython import display\n",
    "from IPython.display import clear_output\n",
    "from ipywidgets import Output\n",
    "import warnings\n",
    "\n",
    "# DQN Requirements\n",
    "import torch\n",
    "import torch.nn as nn\n",
    "import torch.optim as optim\n",
    "import torch.nn.functional as F\n",
    "from collections import namedtuple\n",
    "\n",
    "# Model imports\n",
    "import sys\n",
    "import os"
   ]
  },
  {
   "cell_type": "code",
   "execution_count": 2,
   "metadata": {},
   "outputs": [],
   "source": [
    "warnings.filterwarnings(\"ignore\", message=\".*To copy construct from a tensor.*\")"
   ]
  },
  {
   "cell_type": "code",
   "execution_count": 3,
   "metadata": {},
   "outputs": [],
   "source": [
    "# Environment requirements\n",
    "module_path = os.path.abspath(os.path.join('..', '..', 'environment'))\n",
    "if module_path not in sys.path:\n",
    "    sys.path.append(module_path)\n",
    "from environment import Job, Candidate, Environment\n",
    "\n",
    "module_path = os.path.abspath(os.path.join('..', '..', 'environment'))\n",
    "if module_path not in sys.path:\n",
    "    sys.path.append(module_path)\n",
    "from environment_debias import EnvironmentDebiased\n",
    "\n",
    "# Agent requirements\n",
    "module_path = os.path.abspath(os.path.join('..', '..', 'agents'))\n",
    "if module_path not in sys.path:\n",
    "    sys.path.append(module_path)\n",
    "from agents import DQNAgent, DQN, ReplayBuffer\n",
    "\n",
    "# Tool requirements\n",
    "module_path = os.path.abspath(os.path.join('..', '..', 'tools'))\n",
    "if module_path not in sys.path:\n",
    "    sys.path.append(module_path)\n",
    "from tools import calculate_sampled_men, calculate_hired_men, get_best_allocation, visualize_loss, set_seed"
   ]
  },
  {
   "cell_type": "markdown",
   "metadata": {},
   "source": [
    "## 1. DQN EPISODE FUNCTIONS"
   ]
  },
  {
   "cell_type": "code",
   "execution_count": 4,
   "metadata": {},
   "outputs": [],
   "source": [
    "def run_dqn_agent(sample_jobs, sample_candidates, batch_size, gamma, epsilon, epsilon_min, epsilon_decay, learning_rate, num_episodes, show_schedule = False):\n",
    "    # Initialise the environment\n",
    "    env = Environment(sample_jobs, sample_candidates)\n",
    "    state = env.reset()\n",
    "    state_tensor = torch.tensor(state.to_tensor(), dtype=torch.float32).unsqueeze(0)\n",
    "\n",
    "    # Initialise the state and action sizes\n",
    "    state_size = state.num_jobs * state.num_candidates \n",
    "    action_size = len(state.available_actions)\n",
    "\n",
    "    episode_rewards = []\n",
    "    loss_list = []\n",
    "    iteration = 0\n",
    "\n",
    "    # Initialise the agent\n",
    "    agent = DQNAgent(state_size, action_size, env, batch_size, gamma, epsilon, epsilon_min, epsilon_decay, learning_rate)\n",
    "    print(f\"State size: {state_size}, Action size: {action_size}\")\n",
    "\n",
    "    for _ in range(num_episodes):\n",
    "        iteration += 1\n",
    "        state = env.reset()\n",
    "        state_tensor = torch.tensor(state.to_tensor(), dtype=torch.float32).unsqueeze(0)\n",
    "        total_reward = 0\n",
    "        done = False\n",
    "\n",
    "        while not done:\n",
    "            action_tuple = agent.select_action(state_tensor, env.current_state.available_actions, env.action_indices)\n",
    "            next_state, reward, done = env.step(action_tuple)\n",
    "            next_state_tensor = torch.tensor(next_state.to_tensor(), dtype=torch.float32).unsqueeze(0)\n",
    "\n",
    "            agent.store_transition(state_tensor, action_tuple, reward, next_state_tensor, done)\n",
    "            state_tensor = next_state_tensor\n",
    "\n",
    "            loss = agent.optimize_model()\n",
    "            total_reward += reward\n",
    "\n",
    "            if done:\n",
    "                agent.update_target_net()\n",
    "                episode_rewards.append(total_reward)\n",
    "                break\n",
    "        \n",
    "        loss_list.append(loss)\n",
    "\n",
    "        # Visualise the loss\n",
    "        if iteration % 50 == 0:\n",
    "            visualize_loss(loss_list)\n",
    "            print(f\"Episode {iteration}: Model loss = {loss}\")\n",
    "    \n",
    "    # Save and load the model\n",
    "    agent.save_model('DQN_optimisation')\n",
    "    agent.load_model('DQN_optimisation')\n",
    "        \n",
    "    gender_distribution, tot_reward = get_best_allocation(agent, env, show_schedule=True)\n",
    "\n",
    "    return gender_distribution, tot_reward, loss_list"
   ]
  },
  {
   "cell_type": "code",
   "execution_count": 13,
   "metadata": {},
   "outputs": [],
   "source": [
    "def episode_dqn_agent(num_jobs, num_candidates, job_list, candidate_list, results_parameters_dqn, running_seed, num_episodes, results_df):\n",
    "    # Initialise the data\n",
    "    random.seed(1)\n",
    "    sample_jobs = random.sample(job_list, num_jobs)\n",
    "    random.seed(1)\n",
    "    sample_candidates = random.sample(candidate_list, num_candidates)\n",
    "\n",
    "    # Extract the optimised parameters\n",
    "    parameters_df = results_parameters_dqn[(results_parameters_dqn['jobs'] == num_jobs) & (results_parameters_dqn['candidates'] == num_candidates)]\n",
    "    best_row = results_parameters_dqn.iloc[parameters_df['total_reward'].idxmax()]\n",
    "\n",
    "    batch_size = int(best_row['batch_size'])\n",
    "    gamma = best_row['gamma']\n",
    "    epsilon = best_row['epsilon']\n",
    "    epsilon_min = best_row['epsilon_min']\n",
    "    epsilon_decay = best_row['epsilon_decay']\n",
    "    learning_rate = best_row['learning_rate']\n",
    "\n",
    "    # Run the dqn agent\n",
    "    set_seed(running_seed)\n",
    "    gender_distribution, total_reward, loss_list = run_dqn_agent(sample_jobs, sample_candidates, batch_size, gamma, epsilon, epsilon_min, epsilon_decay, learning_rate, num_episodes)\n",
    "\n",
    "    # Evaluate the allocations\n",
    "    sampled_men = calculate_sampled_men(sample_candidates)\n",
    "    hired_men = calculate_hired_men(gender_distribution)\n",
    "\n",
    "    men_count = gender_distribution['Man'][0]\n",
    "    women_count = gender_distribution['Woman'][0]\n",
    "    \n",
    "    # Add the results to results_df\n",
    "    new_row = pd.DataFrame([{\"agent\": \"DQN\", \"running_seed\": running_seed, \"sample_seed\": 1, \"num_jobs\": num_jobs, \"num_candidates\": num_candidates, \"reward\": total_reward,  \n",
    "                             \"sampled_men_percent\": sampled_men, \"hired_men_percent\": hired_men, \"hired_women_count\": women_count, \"hired_men_count\": men_count,\n",
    "                             \"data\": 'normalised_data', \"debiased\": 'No'}])\n",
    "    results_df = pd.concat([results_df, new_row], ignore_index=True)\n",
    "\n",
    "    return results_df, loss_list\n"
   ]
  },
  {
   "cell_type": "code",
   "execution_count": 14,
   "metadata": {},
   "outputs": [],
   "source": [
    "def run_dqn_agent_debiased(sample_jobs, sample_candidates, batch_size, gamma, epsilon, epsilon_min, epsilon_decay, learning_rate, num_episodes, show_schedule = False):\n",
    "    # Initialise the environment\n",
    "    env = EnvironmentDebiased(sample_jobs, sample_candidates)\n",
    "    state = env.reset()\n",
    "    state_tensor = torch.tensor(state.to_tensor(), dtype=torch.float32).unsqueeze(0)\n",
    "\n",
    "    # Initialise the state and action sizes\n",
    "    state_size = state.num_jobs * state.num_candidates \n",
    "    action_size = len(state.available_actions)\n",
    "\n",
    "    episode_rewards = []\n",
    "    loss_list = []\n",
    "    iteration = 0\n",
    "\n",
    "    # Initialise the agent\n",
    "    agent = DQNAgent(state_size, action_size, env, batch_size, gamma, epsilon, epsilon_min, epsilon_decay, learning_rate)\n",
    "    print(f\"State size: {state_size}, Action size: {action_size}\")\n",
    "\n",
    "    for _ in range(num_episodes):\n",
    "        iteration += 1\n",
    "        state = env.reset()\n",
    "        state_tensor = torch.tensor(state.to_tensor(), dtype=torch.float32).unsqueeze(0)\n",
    "        total_reward = 0\n",
    "        done = False\n",
    "\n",
    "        while not done:\n",
    "            action_tuple = agent.select_action(state_tensor, env.current_state.available_actions, env.action_indices)\n",
    "            next_state, reward, done = env.step(action_tuple)\n",
    "            next_state_tensor = torch.tensor(next_state.to_tensor(), dtype=torch.float32).unsqueeze(0)\n",
    "\n",
    "            agent.store_transition(state_tensor, action_tuple, reward, next_state_tensor, done)\n",
    "            state_tensor = next_state_tensor\n",
    "\n",
    "            loss = agent.optimize_model()\n",
    "            total_reward += reward\n",
    "\n",
    "            if done:\n",
    "                agent.update_target_net()\n",
    "                episode_rewards.append(total_reward)\n",
    "                break\n",
    "        \n",
    "        loss_list.append(loss)\n",
    "\n",
    "        # Visualise the loss\n",
    "        if iteration % 50 == 0:\n",
    "            visualize_loss(loss_list)\n",
    "            print(f\"Episode {iteration}: Model loss = {loss}\")\n",
    "    \n",
    "    # Save and load the model\n",
    "    agent.save_model('DQN_optimisation')\n",
    "    agent.load_model('DQN_optimisation')\n",
    "        \n",
    "    gender_distribution, tot_reward = get_best_allocation(agent, env, show_schedule=True)\n",
    "\n",
    "    return gender_distribution, tot_reward, loss_list"
   ]
  },
  {
   "cell_type": "code",
   "execution_count": 15,
   "metadata": {},
   "outputs": [],
   "source": [
    "def episode_dqn_agent_debiased(num_jobs, num_candidates, job_list, candidate_list, results_parameters_dqn, running_seed, num_episodes, results_df):\n",
    "    # Initialise the data\n",
    "    random.seed(1)\n",
    "    sample_jobs = random.sample(job_list, num_jobs)\n",
    "    random.seed(1)\n",
    "    sample_candidates = random.sample(candidate_list, num_candidates)\n",
    "\n",
    "    # Extract the optimised parameters\n",
    "    parameters_df = results_parameters_dqn[(results_parameters_dqn['jobs'] == num_jobs) & (results_parameters_dqn['candidates'] == num_candidates)]\n",
    "    best_row = results_parameters_dqn.iloc[parameters_df['total_reward'].idxmax()]\n",
    "\n",
    "    batch_size = int(best_row['batch_size'])\n",
    "    gamma = best_row['gamma']\n",
    "    epsilon = best_row['epsilon']\n",
    "    epsilon_min = best_row['epsilon_min']\n",
    "    epsilon_decay = best_row['epsilon_decay']\n",
    "    learning_rate = best_row['learning_rate']\n",
    "\n",
    "    # Run the dqn agent\n",
    "    set_seed(running_seed)\n",
    "    gender_distribution, total_reward, loss_list = run_dqn_agent_debiased(sample_jobs, sample_candidates, batch_size, gamma, epsilon, epsilon_min, epsilon_decay, learning_rate, num_episodes)\n",
    "\n",
    "    # Evaluate the allocations\n",
    "    sampled_men = calculate_sampled_men(sample_candidates)\n",
    "    hired_men = calculate_hired_men(gender_distribution)\n",
    "\n",
    "    men_count = gender_distribution['Man'][0]\n",
    "    women_count = gender_distribution['Woman'][0]\n",
    "    \n",
    "    # Add the results to results_df\n",
    "    new_row = pd.DataFrame([{\"agent\": \"DQN\", \"running_seed\": running_seed, \"sample_seed\": 1, \"num_jobs\": num_jobs, \"num_candidates\": num_candidates, \"reward\": total_reward,  \n",
    "                             \"sampled_men_percent\": sampled_men, \"hired_men_percent\": hired_men, \"hired_women_count\": women_count, \"hired_men_count\": men_count,\n",
    "                             \"data\": 'normalised_data', \"debiased\": 'Yes'}])\n",
    "    results_df = pd.concat([results_df, new_row], ignore_index=True)\n",
    "\n",
    "    return results_df, loss_list"
   ]
  },
  {
   "cell_type": "markdown",
   "metadata": {},
   "source": [
    "## 2. INITIALISE THE DATA"
   ]
  },
  {
   "cell_type": "code",
   "execution_count": 16,
   "metadata": {},
   "outputs": [
    {
     "data": {
      "text/plain": [
       "2    10610\n",
       "1     2329\n",
       "Name: Gender, dtype: int64"
      ]
     },
     "execution_count": 16,
     "metadata": {},
     "output_type": "execute_result"
    }
   ],
   "source": [
    "# Read in the job data\n",
    "file_path = '../../data/jobs_data_cleaned.csv'\n",
    "jobs_df = pd.read_csv(file_path)\n",
    "\n",
    "# Read in the candidate data\n",
    "file_path = '../../data/candidates_data_cleaned.csv'\n",
    "candidates_df = pd.read_csv(file_path)\n",
    "\n",
    "# Create a normalised data set, where women make up 18%\n",
    "women_df = candidates_df[candidates_df['Gender'] == 1]\n",
    "men_df = candidates_df[candidates_df['Gender'] == 2]\n",
    "\n",
    "total_women = len(women_df)\n",
    "women_percentage = 0.18\n",
    "\n",
    "new_dataset_size = round(total_women/women_percentage)\n",
    "required_men = new_dataset_size - total_women\n",
    "\n",
    "sampled_men_df = men_df.sample(n=required_men, random_state=1)\n",
    "normalised_df = pd.concat([women_df, sampled_men_df], ignore_index=True)\n",
    "\n",
    "normalised_df['Gender'].value_counts()"
   ]
  },
  {
   "cell_type": "code",
   "execution_count": 17,
   "metadata": {},
   "outputs": [
    {
     "name": "stdout",
     "output_type": "stream",
     "text": [
      "Job Data: 806  Candidate Data: 12939\n"
     ]
    }
   ],
   "source": [
    "# Initialise the class objects with data from the dataframes\n",
    "job_list = []\n",
    "for i in range(len(jobs_df)):\n",
    "    job = Job(i+1, jobs_df['Degree_Bachelor'][i], jobs_df['Degree_Master'][i], jobs_df['Degree_Other'][i],\n",
    "              jobs_df['Software_Programming'][i], jobs_df['C_Programming'][i], jobs_df['Python_Programming'][i], \n",
    "              jobs_df['JavaScript_Programming'][i], jobs_df['Professional_Software_Experience'][i], \n",
    "              jobs_df['Management_Skills'][i], jobs_df['Engineer'][i], int(jobs_df['Minimum_Pay'][i]))\n",
    "    job_list.append(job)\n",
    "\n",
    "candidate_list = []\n",
    "for i in range(len(normalised_df)):\n",
    "    candidate = Candidate(i+1, normalised_df['Gender'][i], normalised_df['Degree_Bachelor'][i], normalised_df['Degree_Master'][i], normalised_df['Degree_Other'][i], \n",
    "                          normalised_df['Software_Programming'][i], normalised_df['C_Programming'][i], normalised_df['Python_Programming'][i], \n",
    "                          normalised_df['JavaScript_Programming'][i], normalised_df['Professional_Software_Experience'][i], \n",
    "                          normalised_df['Management_Skills'][i], normalised_df['Engineer'][i], int(normalised_df['Previous_Pay'][i]))\n",
    "    candidate_list.append(candidate)\n",
    "\n",
    "print(\"Job Data:\", len(job_list), \" Candidate Data:\", len(candidate_list))"
   ]
  },
  {
   "cell_type": "markdown",
   "metadata": {},
   "source": [
    "## 3. EPISODES (ORIGINAL)"
   ]
  },
  {
   "cell_type": "code",
   "execution_count": 18,
   "metadata": {},
   "outputs": [],
   "source": [
    "# Read in the hyperparameter results\n",
    "results_parameters_dqn = pd.read_csv('../../optimisation/optimisation_parity_data/results_parameters_dqn_parity.csv')\n",
    "\n",
    "# Initialise a dataframe to store the results\n",
    "columns = [\"agent\", \"running_seed\", \"sample_seed\", \"num_jobs\", \"num_candidates\", \"reward\", \"sampled_men_percent\", \"hired_men_percent\", \"hired_women_count\", \"hired_men_count\", \"data\", \"debiased\"]\n",
    "dqn_results_df = pd.DataFrame(columns=columns)"
   ]
  },
  {
   "cell_type": "code",
   "execution_count": 19,
   "metadata": {},
   "outputs": [
    {
     "data": {
      "text/plain": [
       "<Figure size 640x480 with 0 Axes>"
      ]
     },
     "metadata": {},
     "output_type": "display_data"
    },
    {
     "data": {
      "image/png": "[encoded data removed]",
      "text/plain": [
       "<Figure size 640x480 with 1 Axes>"
      ]
     },
     "metadata": {},
     "output_type": "display_data"
    },
    {
     "name": "stdout",
     "output_type": "stream",
     "text": [
      "Episode 6000: Model loss = 65239.04296875\n",
      "Allocations:\n",
      "Job 0 allocated to Candidate 48\n",
      "Job 1 allocated to Candidate 64\n",
      "Job 2 allocated to Candidate 29\n",
      "Job 3 allocated to Candidate 20\n",
      "Job 4 allocated to Candidate 31\n",
      "Job 5 allocated to Candidate 56\n",
      "Job 6 allocated to Candidate 70\n",
      "Job 7 allocated to Candidate 28\n",
      "Job 9 allocated to Candidate 68\n",
      "\n",
      "Gender distribution:\n",
      "   Woman  Man\n",
      "0      3    6\n",
      "None\n",
      "Reward:  -147909\n"
     ]
    }
   ],
   "source": [
    "# 10 Jobs, 100 Candidates, running seed 1 (-147909)\n",
    "dqn_results_df, loss_list_10 = episode_dqn_agent(10, 100, job_list, candidate_list, results_parameters_dqn, 1, 6000, dqn_results_df)"
   ]
  },
  {
   "cell_type": "code",
   "execution_count": 21,
   "metadata": {},
   "outputs": [
    {
     "data": {
      "text/plain": [
       "<Figure size 640x480 with 0 Axes>"
      ]
     },
     "metadata": {},
     "output_type": "display_data"
    },
    {
     "data": {
      "image/png": "[encoded data removed]",
      "text/plain": [
       "<Figure size 640x480 with 1 Axes>"
      ]
     },
     "metadata": {},
     "output_type": "display_data"
    },
    {
     "name": "stdout",
     "output_type": "stream",
     "text": [
      "Episode 6000: Model loss = 56788.12109375\n",
      "Allocations:\n",
      "Job 0 allocated to Candidate 7\n",
      "Job 1 allocated to Candidate 64\n",
      "Job 2 allocated to Candidate 66\n",
      "Job 3 allocated to Candidate 45\n",
      "Job 4 allocated to Candidate 20\n",
      "Job 5 allocated to Candidate 68\n",
      "Job 6 allocated to Candidate 70\n",
      "Job 7 allocated to Candidate 28\n",
      "Job 9 allocated to Candidate 76\n",
      "Job 10 allocated to Candidate 12\n",
      "Job 11 allocated to Candidate 48\n",
      "Job 12 allocated to Candidate 31\n",
      "Job 13 allocated to Candidate 22\n",
      "Job 14 allocated to Candidate 86\n",
      "Job 16 allocated to Candidate 17\n",
      "Job 17 allocated to Candidate 56\n",
      "Job 18 allocated to Candidate 75\n",
      "Job 19 allocated to Candidate 29\n",
      "\n",
      "Gender distribution:\n",
      "   Woman  Man\n",
      "0      4   14\n",
      "None\n",
      "Reward:  -382606\n"
     ]
    }
   ],
   "source": [
    "# 20 Jobs, 100 Candidates, running seed 1 (-382606)\n",
    "dqn_results_df, loss_list_20 = episode_dqn_agent(20, 100, job_list, candidate_list, results_parameters_dqn, 1, 6000, dqn_results_df)"
   ]
  },
  {
   "cell_type": "code",
   "execution_count": 22,
   "metadata": {},
   "outputs": [
    {
     "data": {
      "text/plain": [
       "<Figure size 640x480 with 0 Axes>"
      ]
     },
     "metadata": {},
     "output_type": "display_data"
    },
    {
     "data": {
      "image/png": "[encoded data removed]",
      "text/plain": [
       "<Figure size 640x480 with 1 Axes>"
      ]
     },
     "metadata": {},
     "output_type": "display_data"
    },
    {
     "name": "stdout",
     "output_type": "stream",
     "text": [
      "Episode 6000: Model loss = 6.81252843099127e+24\n",
      "Allocations:\n",
      "Job 0 allocated to Candidate 85\n",
      "Job 1 allocated to Candidate 74\n",
      "Job 2 allocated to Candidate 76\n",
      "Job 3 allocated to Candidate 9\n",
      "Job 4 allocated to Candidate 99\n",
      "Job 5 allocated to Candidate 67\n",
      "Job 6 allocated to Candidate 86\n",
      "Job 7 allocated to Candidate 52\n",
      "Job 9 allocated to Candidate 23\n",
      "Job 10 allocated to Candidate 12\n",
      "Job 11 allocated to Candidate 22\n",
      "Job 12 allocated to Candidate 63\n",
      "Job 13 allocated to Candidate 46\n",
      "Job 16 allocated to Candidate 17\n",
      "Job 17 allocated to Candidate 56\n",
      "Job 18 allocated to Candidate 29\n",
      "Job 19 allocated to Candidate 75\n",
      "Job 20 allocated to Candidate 66\n",
      "Job 22 allocated to Candidate 88\n",
      "Job 23 allocated to Candidate 79\n",
      "Job 24 allocated to Candidate 32\n",
      "Job 25 allocated to Candidate 70\n",
      "Job 27 allocated to Candidate 57\n",
      "Job 28 allocated to Candidate 92\n",
      "Job 30 allocated to Candidate 55\n",
      "Job 32 allocated to Candidate 58\n",
      "Job 33 allocated to Candidate 28\n",
      "Job 34 allocated to Candidate 18\n",
      "Job 35 allocated to Candidate 20\n",
      "Job 37 allocated to Candidate 48\n",
      "Job 40 allocated to Candidate 7\n",
      "Job 41 allocated to Candidate 68\n",
      "Job 42 allocated to Candidate 94\n",
      "Job 43 allocated to Candidate 31\n",
      "Job 44 allocated to Candidate 60\n",
      "Job 45 allocated to Candidate 64\n",
      "Job 46 allocated to Candidate 54\n",
      "Job 47 allocated to Candidate 38\n",
      "Job 48 allocated to Candidate 65\n",
      "Job 49 allocated to Candidate 45\n",
      "\n",
      "Gender distribution:\n",
      "   Woman  Man\n",
      "0      7   33\n",
      "None\n",
      "Reward:  -1700248\n"
     ]
    }
   ],
   "source": [
    "# 50 Jobs, 100 Candidates, running seed 1 (-1700248)\n",
    "dqn_results_df, loss_list_50 = episode_dqn_agent(50, 100, job_list, candidate_list, results_parameters_dqn, 1, 6000, dqn_results_df)"
   ]
  },
  {
   "cell_type": "markdown",
   "metadata": {},
   "source": [
    "## 4. RESULTS (ORIGINAL)"
   ]
  },
  {
   "cell_type": "code",
   "execution_count": 23,
   "metadata": {},
   "outputs": [
    {
     "data": {
      "text/html": [
       "<div>\n",
       "<style scoped>\n",
       "    .dataframe tbody tr th:only-of-type {\n",
       "        vertical-align: middle;\n",
       "    }\n",
       "\n",
       "    .dataframe tbody tr th {\n",
       "        vertical-align: top;\n",
       "    }\n",
       "\n",
       "    .dataframe thead th {\n",
       "        text-align: right;\n",
       "    }\n",
       "</style>\n",
       "<table border=\"1\" class=\"dataframe\">\n",
       "  <thead>\n",
       "    <tr style=\"text-align: right;\">\n",
       "      <th></th>\n",
       "      <th>agent</th>\n",
       "      <th>running_seed</th>\n",
       "      <th>sample_seed</th>\n",
       "      <th>num_jobs</th>\n",
       "      <th>num_candidates</th>\n",
       "      <th>reward</th>\n",
       "      <th>sampled_men_percent</th>\n",
       "      <th>hired_men_percent</th>\n",
       "      <th>hired_women_count</th>\n",
       "      <th>hired_men_count</th>\n",
       "      <th>data</th>\n",
       "      <th>debiased</th>\n",
       "    </tr>\n",
       "  </thead>\n",
       "  <tbody>\n",
       "    <tr>\n",
       "      <th>0</th>\n",
       "      <td>DQN</td>\n",
       "      <td>1</td>\n",
       "      <td>1</td>\n",
       "      <td>10</td>\n",
       "      <td>100</td>\n",
       "      <td>-147909</td>\n",
       "      <td>0.83</td>\n",
       "      <td>0.666667</td>\n",
       "      <td>3</td>\n",
       "      <td>6</td>\n",
       "      <td>normalised_data</td>\n",
       "      <td>No</td>\n",
       "    </tr>\n",
       "    <tr>\n",
       "      <th>1</th>\n",
       "      <td>DQN</td>\n",
       "      <td>1</td>\n",
       "      <td>1</td>\n",
       "      <td>20</td>\n",
       "      <td>100</td>\n",
       "      <td>-382606</td>\n",
       "      <td>0.83</td>\n",
       "      <td>0.777778</td>\n",
       "      <td>4</td>\n",
       "      <td>14</td>\n",
       "      <td>normalised_data</td>\n",
       "      <td>No</td>\n",
       "    </tr>\n",
       "    <tr>\n",
       "      <th>2</th>\n",
       "      <td>DQN</td>\n",
       "      <td>1</td>\n",
       "      <td>1</td>\n",
       "      <td>50</td>\n",
       "      <td>100</td>\n",
       "      <td>-1700248</td>\n",
       "      <td>0.83</td>\n",
       "      <td>0.825000</td>\n",
       "      <td>7</td>\n",
       "      <td>33</td>\n",
       "      <td>normalised_data</td>\n",
       "      <td>No</td>\n",
       "    </tr>\n",
       "  </tbody>\n",
       "</table>\n",
       "</div>"
      ],
      "text/plain": [
       "  agent running_seed sample_seed num_jobs num_candidates    reward  \\\n",
       "0   DQN            1           1       10            100   -147909   \n",
       "1   DQN            1           1       20            100   -382606   \n",
       "2   DQN            1           1       50            100  -1700248   \n",
       "\n",
       "   sampled_men_percent  hired_men_percent hired_women_count hired_men_count  \\\n",
       "0                 0.83           0.666667                 3               6   \n",
       "1                 0.83           0.777778                 4              14   \n",
       "2                 0.83           0.825000                 7              33   \n",
       "\n",
       "              data debiased  \n",
       "0  normalised_data       No  \n",
       "1  normalised_data       No  \n",
       "2  normalised_data       No  "
      ]
     },
     "execution_count": 23,
     "metadata": {},
     "output_type": "execute_result"
    }
   ],
   "source": [
    "dqn_results_df"
   ]
  },
  {
   "cell_type": "code",
   "execution_count": 24,
   "metadata": {},
   "outputs": [],
   "source": [
    "# Save the dqn results to a csv file\n",
    "dqn_results_df.to_csv(\"dqn_results_normalised.csv\")"
   ]
  },
  {
   "cell_type": "markdown",
   "metadata": {},
   "source": [
    "## 5. LOSS (ORIGINAL)"
   ]
  },
  {
   "cell_type": "code",
   "execution_count": 25,
   "metadata": {},
   "outputs": [],
   "source": [
    "# Store the loss_lists in a csv file to create graphs\n",
    "loss_list_df = pd.DataFrame({10: loss_list_10, 20: loss_list_20, 50: loss_list_50})\n",
    "\n",
    "loss_list_df.to_csv(\"dqn_loss_list_normalised.csv\")"
   ]
  },
  {
   "cell_type": "code",
   "execution_count": 26,
   "metadata": {},
   "outputs": [
    {
     "data": {
      "text/html": [
       "<div>\n",
       "<style scoped>\n",
       "    .dataframe tbody tr th:only-of-type {\n",
       "        vertical-align: middle;\n",
       "    }\n",
       "\n",
       "    .dataframe tbody tr th {\n",
       "        vertical-align: top;\n",
       "    }\n",
       "\n",
       "    .dataframe thead th {\n",
       "        text-align: right;\n",
       "    }\n",
       "</style>\n",
       "<table border=\"1\" class=\"dataframe\">\n",
       "  <thead>\n",
       "    <tr style=\"text-align: right;\">\n",
       "      <th></th>\n",
       "      <th>10</th>\n",
       "      <th>20</th>\n",
       "      <th>50</th>\n",
       "    </tr>\n",
       "  </thead>\n",
       "  <tbody>\n",
       "    <tr>\n",
       "      <th>0</th>\n",
       "      <td>NaN</td>\n",
       "      <td>3.563532e+09</td>\n",
       "      <td>NaN</td>\n",
       "    </tr>\n",
       "    <tr>\n",
       "      <th>1</th>\n",
       "      <td>5.772470e+09</td>\n",
       "      <td>3.962408e+09</td>\n",
       "      <td>4.979433e+09</td>\n",
       "    </tr>\n",
       "    <tr>\n",
       "      <th>2</th>\n",
       "      <td>7.008353e+09</td>\n",
       "      <td>5.592339e+09</td>\n",
       "      <td>4.671023e+09</td>\n",
       "    </tr>\n",
       "    <tr>\n",
       "      <th>3</th>\n",
       "      <td>5.343833e+09</td>\n",
       "      <td>5.044832e+09</td>\n",
       "      <td>4.321784e+09</td>\n",
       "    </tr>\n",
       "    <tr>\n",
       "      <th>4</th>\n",
       "      <td>6.646540e+09</td>\n",
       "      <td>4.503693e+09</td>\n",
       "      <td>5.772655e+09</td>\n",
       "    </tr>\n",
       "    <tr>\n",
       "      <th>...</th>\n",
       "      <td>...</td>\n",
       "      <td>...</td>\n",
       "      <td>...</td>\n",
       "    </tr>\n",
       "    <tr>\n",
       "      <th>5995</th>\n",
       "      <td>1.775376e+06</td>\n",
       "      <td>9.357848e+04</td>\n",
       "      <td>8.472342e+24</td>\n",
       "    </tr>\n",
       "    <tr>\n",
       "      <th>5996</th>\n",
       "      <td>7.743332e+05</td>\n",
       "      <td>6.915256e+04</td>\n",
       "      <td>6.679421e+24</td>\n",
       "    </tr>\n",
       "    <tr>\n",
       "      <th>5997</th>\n",
       "      <td>1.145804e+05</td>\n",
       "      <td>3.405919e+04</td>\n",
       "      <td>6.533094e+24</td>\n",
       "    </tr>\n",
       "    <tr>\n",
       "      <th>5998</th>\n",
       "      <td>2.990568e+06</td>\n",
       "      <td>1.446732e+05</td>\n",
       "      <td>7.635573e+24</td>\n",
       "    </tr>\n",
       "    <tr>\n",
       "      <th>5999</th>\n",
       "      <td>6.523904e+04</td>\n",
       "      <td>5.678812e+04</td>\n",
       "      <td>6.812528e+24</td>\n",
       "    </tr>\n",
       "  </tbody>\n",
       "</table>\n",
       "<p>6000 rows × 3 columns</p>\n",
       "</div>"
      ],
      "text/plain": [
       "                10            20            50\n",
       "0              NaN  3.563532e+09           NaN\n",
       "1     5.772470e+09  3.962408e+09  4.979433e+09\n",
       "2     7.008353e+09  5.592339e+09  4.671023e+09\n",
       "3     5.343833e+09  5.044832e+09  4.321784e+09\n",
       "4     6.646540e+09  4.503693e+09  5.772655e+09\n",
       "...            ...           ...           ...\n",
       "5995  1.775376e+06  9.357848e+04  8.472342e+24\n",
       "5996  7.743332e+05  6.915256e+04  6.679421e+24\n",
       "5997  1.145804e+05  3.405919e+04  6.533094e+24\n",
       "5998  2.990568e+06  1.446732e+05  7.635573e+24\n",
       "5999  6.523904e+04  5.678812e+04  6.812528e+24\n",
       "\n",
       "[6000 rows x 3 columns]"
      ]
     },
     "execution_count": 26,
     "metadata": {},
     "output_type": "execute_result"
    }
   ],
   "source": [
    "loss_list_df"
   ]
  },
  {
   "cell_type": "markdown",
   "metadata": {},
   "source": [
    "## 6. EPISODES (DEBIASED)"
   ]
  },
  {
   "cell_type": "code",
   "execution_count": 27,
   "metadata": {},
   "outputs": [],
   "source": [
    "# Read in the hyperparameter results\n",
    "results_parameters_dqn_debiased = pd.read_csv('../../optimisation/optimisation_debias/results_parameters_dqn_debiased.csv')\n",
    "results_parameters_dqn_debiased = results_parameters_dqn_debiased[results_parameters_dqn_debiased['data'] == 'normalised_data'].reset_index(drop=True)\n",
    "\n",
    "# Initialise a dataframe to store the results\n",
    "columns = [\"agent\", \"running_seed\", \"sample_seed\", \"num_jobs\", \"num_candidates\", \"reward\", \"sampled_men_percent\", \"hired_men_percent\", \"hired_women_count\", \"hired_men_count\", \"data\", \"debiased\"]\n",
    "dqn_debiased_results_df = pd.DataFrame(columns=columns)"
   ]
  },
  {
   "cell_type": "code",
   "execution_count": 28,
   "metadata": {},
   "outputs": [
    {
     "data": {
      "text/plain": [
       "<Figure size 640x480 with 0 Axes>"
      ]
     },
     "metadata": {},
     "output_type": "display_data"
    },
    {
     "data": {
      "image/png": "[encoded data removed]",
      "text/plain": [
       "<Figure size 640x480 with 1 Axes>"
      ]
     },
     "metadata": {},
     "output_type": "display_data"
    },
    {
     "name": "stdout",
     "output_type": "stream",
     "text": [
      "Episode 6000: Model loss = 453764.3125\n",
      "Allocations:\n",
      "Job 0 allocated to Candidate 48\n",
      "Job 1 allocated to Candidate 64\n",
      "Job 2 allocated to Candidate 29\n",
      "Job 3 allocated to Candidate 31\n",
      "Job 4 allocated to Candidate 68\n",
      "Job 5 allocated to Candidate 20\n",
      "Job 6 allocated to Candidate 70\n",
      "Job 7 allocated to Candidate 28\n",
      "Job 9 allocated to Candidate 56\n",
      "\n",
      "Gender distribution:\n",
      "   Woman  Man\n",
      "0      3    6\n",
      "None\n",
      "Reward:  -177108.5\n"
     ]
    }
   ],
   "source": [
    "# 10 Jobs, 100 Candidates, running seed 1 (-177108.5)\n",
    "dqn_debiased_results_df, loss_list_debiased_10 = episode_dqn_agent_debiased(10, 100, job_list, candidate_list, results_parameters_dqn_debiased, 1, 6000, dqn_debiased_results_df)"
   ]
  },
  {
   "cell_type": "code",
   "execution_count": 30,
   "metadata": {},
   "outputs": [
    {
     "data": {
      "text/plain": [
       "<Figure size 640x480 with 0 Axes>"
      ]
     },
     "metadata": {},
     "output_type": "display_data"
    },
    {
     "data": {
      "image/png": "[encoded data removed]",
      "text/plain": [
       "<Figure size 640x480 with 1 Axes>"
      ]
     },
     "metadata": {},
     "output_type": "display_data"
    },
    {
     "name": "stdout",
     "output_type": "stream",
     "text": [
      "Episode 6000: Model loss = 88972.671875\n",
      "Allocations:\n",
      "Job 0 allocated to Candidate 66\n",
      "Job 1 allocated to Candidate 86\n",
      "Job 2 allocated to Candidate 60\n",
      "Job 3 allocated to Candidate 32\n",
      "Job 4 allocated to Candidate 20\n",
      "Job 5 allocated to Candidate 45\n",
      "Job 6 allocated to Candidate 70\n",
      "Job 7 allocated to Candidate 28\n",
      "Job 9 allocated to Candidate 56\n",
      "Job 10 allocated to Candidate 12\n",
      "Job 11 allocated to Candidate 22\n",
      "Job 12 allocated to Candidate 31\n",
      "Job 13 allocated to Candidate 68\n",
      "Job 14 allocated to Candidate 64\n",
      "Job 16 allocated to Candidate 17\n",
      "Job 17 allocated to Candidate 48\n",
      "Job 18 allocated to Candidate 29\n",
      "Job 19 allocated to Candidate 75\n",
      "\n",
      "Gender distribution:\n",
      "   Woman  Man\n",
      "0      6   12\n",
      "None\n",
      "Reward:  -535495.3\n"
     ]
    }
   ],
   "source": [
    "# 20 Jobs, 100 Candidates, running seed 1 (-535495.3)\n",
    "dqn_debiased_results_df, loss_list_debiased_20 = episode_dqn_agent_debiased(20, 100, job_list, candidate_list, results_parameters_dqn_debiased, 1, 6000, dqn_debiased_results_df)"
   ]
  },
  {
   "cell_type": "code",
   "execution_count": 31,
   "metadata": {},
   "outputs": [
    {
     "data": {
      "text/plain": [
       "<Figure size 640x480 with 0 Axes>"
      ]
     },
     "metadata": {},
     "output_type": "display_data"
    },
    {
     "data": {
      "image/png": "[encoded data removed]",
      "text/plain": [
       "<Figure size 640x480 with 1 Axes>"
      ]
     },
     "metadata": {},
     "output_type": "display_data"
    },
    {
     "name": "stdout",
     "output_type": "stream",
     "text": [
      "Episode 6000: Model loss = 8.274807252445298e+25\n",
      "Allocations:\n",
      "Job 0 allocated to Candidate 48\n",
      "Job 2 allocated to Candidate 75\n",
      "Job 3 allocated to Candidate 45\n",
      "Job 4 allocated to Candidate 32\n",
      "Job 5 allocated to Candidate 60\n",
      "Job 6 allocated to Candidate 74\n",
      "Job 7 allocated to Candidate 28\n",
      "Job 9 allocated to Candidate 90\n",
      "Job 10 allocated to Candidate 12\n",
      "Job 11 allocated to Candidate 66\n",
      "Job 12 allocated to Candidate 76\n",
      "Job 13 allocated to Candidate 58\n",
      "Job 16 allocated to Candidate 94\n",
      "Job 17 allocated to Candidate 86\n",
      "Job 18 allocated to Candidate 29\n",
      "Job 19 allocated to Candidate 9\n",
      "Job 20 allocated to Candidate 17\n",
      "Job 21 allocated to Candidate 65\n",
      "Job 22 allocated to Candidate 88\n",
      "Job 23 allocated to Candidate 79\n",
      "Job 24 allocated to Candidate 92\n",
      "Job 27 allocated to Candidate 18\n",
      "Job 28 allocated to Candidate 31\n",
      "Job 29 allocated to Candidate 52\n",
      "Job 30 allocated to Candidate 99\n",
      "Job 32 allocated to Candidate 22\n",
      "Job 34 allocated to Candidate 42\n",
      "Job 35 allocated to Candidate 54\n",
      "Job 37 allocated to Candidate 56\n",
      "Job 40 allocated to Candidate 70\n",
      "Job 41 allocated to Candidate 68\n",
      "Job 42 allocated to Candidate 36\n",
      "Job 43 allocated to Candidate 7\n",
      "Job 44 allocated to Candidate 0\n",
      "Job 45 allocated to Candidate 64\n",
      "Job 46 allocated to Candidate 20\n",
      "Job 47 allocated to Candidate 57\n",
      "Job 49 allocated to Candidate 33\n",
      "\n",
      "Gender distribution:\n",
      "   Woman  Man\n",
      "0     11   27\n",
      "None\n",
      "Reward:  -2704213.8\n"
     ]
    }
   ],
   "source": [
    "# 50 Jobs, 100 Candidates, running seed 1 (-2704213.8)\n",
    "dqn_debiased_results_df, loss_list_debiased_50 = episode_dqn_agent_debiased(50, 100, job_list, candidate_list, results_parameters_dqn_debiased, 1, 6000, dqn_debiased_results_df)"
   ]
  },
  {
   "cell_type": "markdown",
   "metadata": {},
   "source": [
    "## 8. RESULTS (DEBIASED)"
   ]
  },
  {
   "cell_type": "code",
   "execution_count": 32,
   "metadata": {},
   "outputs": [
    {
     "data": {
      "text/html": [
       "<div>\n",
       "<style scoped>\n",
       "    .dataframe tbody tr th:only-of-type {\n",
       "        vertical-align: middle;\n",
       "    }\n",
       "\n",
       "    .dataframe tbody tr th {\n",
       "        vertical-align: top;\n",
       "    }\n",
       "\n",
       "    .dataframe thead th {\n",
       "        text-align: right;\n",
       "    }\n",
       "</style>\n",
       "<table border=\"1\" class=\"dataframe\">\n",
       "  <thead>\n",
       "    <tr style=\"text-align: right;\">\n",
       "      <th></th>\n",
       "      <th>agent</th>\n",
       "      <th>running_seed</th>\n",
       "      <th>sample_seed</th>\n",
       "      <th>num_jobs</th>\n",
       "      <th>num_candidates</th>\n",
       "      <th>reward</th>\n",
       "      <th>sampled_men_percent</th>\n",
       "      <th>hired_men_percent</th>\n",
       "      <th>hired_women_count</th>\n",
       "      <th>hired_men_count</th>\n",
       "      <th>data</th>\n",
       "      <th>debiased</th>\n",
       "    </tr>\n",
       "  </thead>\n",
       "  <tbody>\n",
       "    <tr>\n",
       "      <th>0</th>\n",
       "      <td>DQN</td>\n",
       "      <td>1</td>\n",
       "      <td>1</td>\n",
       "      <td>10</td>\n",
       "      <td>100</td>\n",
       "      <td>-177108.5</td>\n",
       "      <td>0.83</td>\n",
       "      <td>0.666667</td>\n",
       "      <td>3</td>\n",
       "      <td>6</td>\n",
       "      <td>normalised_data</td>\n",
       "      <td>Yes</td>\n",
       "    </tr>\n",
       "    <tr>\n",
       "      <th>1</th>\n",
       "      <td>DQN</td>\n",
       "      <td>1</td>\n",
       "      <td>1</td>\n",
       "      <td>20</td>\n",
       "      <td>100</td>\n",
       "      <td>-535495.3</td>\n",
       "      <td>0.83</td>\n",
       "      <td>0.666667</td>\n",
       "      <td>6</td>\n",
       "      <td>12</td>\n",
       "      <td>normalised_data</td>\n",
       "      <td>Yes</td>\n",
       "    </tr>\n",
       "    <tr>\n",
       "      <th>2</th>\n",
       "      <td>DQN</td>\n",
       "      <td>1</td>\n",
       "      <td>1</td>\n",
       "      <td>50</td>\n",
       "      <td>100</td>\n",
       "      <td>-2704213.8</td>\n",
       "      <td>0.83</td>\n",
       "      <td>0.710526</td>\n",
       "      <td>11</td>\n",
       "      <td>27</td>\n",
       "      <td>normalised_data</td>\n",
       "      <td>Yes</td>\n",
       "    </tr>\n",
       "  </tbody>\n",
       "</table>\n",
       "</div>"
      ],
      "text/plain": [
       "  agent running_seed sample_seed num_jobs num_candidates     reward  \\\n",
       "0   DQN            1           1       10            100  -177108.5   \n",
       "1   DQN            1           1       20            100  -535495.3   \n",
       "2   DQN            1           1       50            100 -2704213.8   \n",
       "\n",
       "   sampled_men_percent  hired_men_percent hired_women_count hired_men_count  \\\n",
       "0                 0.83           0.666667                 3               6   \n",
       "1                 0.83           0.666667                 6              12   \n",
       "2                 0.83           0.710526                11              27   \n",
       "\n",
       "              data debiased  \n",
       "0  normalised_data      Yes  \n",
       "1  normalised_data      Yes  \n",
       "2  normalised_data      Yes  "
      ]
     },
     "execution_count": 32,
     "metadata": {},
     "output_type": "execute_result"
    }
   ],
   "source": [
    "dqn_debiased_results_df"
   ]
  },
  {
   "cell_type": "code",
   "execution_count": 33,
   "metadata": {},
   "outputs": [],
   "source": [
    "# Save the dqn results to a csv file\n",
    "dqn_debiased_results_df.to_csv(\"dqn_debiased_results_normalised_data.csv\")"
   ]
  }
 ],
 "metadata": {
  "kernelspec": {
   "display_name": "base",
   "language": "python",
   "name": "python3"
  },
  "language_info": {
   "codemirror_mode": {
    "name": "ipython",
    "version": 3
   },
   "file_extension": ".py",
   "mimetype": "text/x-python",
   "name": "python",
   "nbconvert_exporter": "python",
   "pygments_lexer": "ipython3",
   "version": "3.9.13"
  }
 },
 "nbformat": 4,
 "nbformat_minor": 2
}
