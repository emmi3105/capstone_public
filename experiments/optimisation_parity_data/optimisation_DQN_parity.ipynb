{
 "cells": [
  {
   "cell_type": "markdown",
   "metadata": {},
   "source": [
    "<h1 style=\"text-align: center;\">OPTIMISATION DQN PARAMETERS (PARITY DATA)</h1>"
   ]
  },
  {
   "cell_type": "markdown",
   "metadata": {},
   "source": [
    "## 0. PACKAGE REQUIREMENTS"
   ]
  },
  {
   "cell_type": "code",
   "execution_count": 1,
   "metadata": {},
   "outputs": [],
   "source": [
    "# Packages\n",
    "import random\n",
    "import pandas as pd\n",
    "import numpy as np\n",
    "import matplotlib.pyplot as plt\n",
    "from IPython import display\n",
    "from IPython.display import clear_output\n",
    "import warnings\n",
    "\n",
    "# DQN Requirements\n",
    "import torch\n",
    "import torch.nn as nn\n",
    "import torch.optim as optim\n",
    "import torch.nn.functional as F\n",
    "from collections import namedtuple\n",
    "\n",
    "# Model imports\n",
    "import sys\n",
    "import os"
   ]
  },
  {
   "cell_type": "code",
   "execution_count": 2,
   "metadata": {},
   "outputs": [],
   "source": [
    "warnings.filterwarnings(\"ignore\", message=\".*To copy construct from a tensor.*\")"
   ]
  },
  {
   "cell_type": "code",
   "execution_count": 3,
   "metadata": {},
   "outputs": [],
   "source": [
    "# Environment requirements\n",
    "module_path = os.path.abspath(os.path.join('..', '..', 'environment'))\n",
    "if module_path not in sys.path:\n",
    "    sys.path.append(module_path)\n",
    "from environment_basic import Job, Candidate, Environment\n",
    "\n",
    "# Agent requirements\n",
    "module_path = os.path.abspath(os.path.join('..', '..', 'agents'))\n",
    "if module_path not in sys.path:\n",
    "    sys.path.append(module_path)\n",
    "from agents_basic import DQNAgent, DQN, ReplayBuffer\n",
    "\n",
    "# Tool requirements\n",
    "module_path = os.path.abspath(os.path.join('..', '..', 'tools'))\n",
    "if module_path not in sys.path:\n",
    "    sys.path.append(module_path)\n",
    "from tools import calculate_sampled_men, calculate_hired_men, get_best_allocation, visualize_loss, set_seed"
   ]
  },
  {
   "cell_type": "markdown",
   "metadata": {},
   "source": [
    "## 1. DQN EPISODE FUNCTIONS"
   ]
  },
  {
   "cell_type": "code",
   "execution_count": 5,
   "metadata": {},
   "outputs": [],
   "source": [
    "def run_dqn_agent_optimisation(sample_jobs, sample_candidates, batch_size, gamma, epsilon, epsilon_min, epsilon_decay, learning_rate, num_episodes, show_schedule = False):\n",
    "    # Initialize the environment\n",
    "    env = Environment(sample_jobs, sample_candidates)\n",
    "    state = env.reset()\n",
    "    state_tensor = torch.tensor(state.to_tensor(), dtype=torch.float32).unsqueeze(0)\n",
    "\n",
    "    # Initialise the state and action sizes\n",
    "    state_size = state.num_jobs * state.num_candidates\n",
    "    action_size = len(state.available_actions)\n",
    "\n",
    "    episode_rewards = []\n",
    "    loss_list = []\n",
    "    iteration = 0\n",
    "\n",
    "    # Initialise the agent\n",
    "    agent = DQNAgent(state_size, action_size, env, batch_size, gamma, epsilon, epsilon_min, epsilon_decay, learning_rate)\n",
    "\n",
    "    for _ in range(num_episodes):\n",
    "        iteration += 1\n",
    "        state = env.reset()\n",
    "        state_tensor = torch.tensor(state.to_tensor(), dtype=torch.float32).unsqueeze(0)\n",
    "        total_reward = 0\n",
    "        done = False\n",
    "\n",
    "        while not done:\n",
    "            action_tuple = agent.select_action(state_tensor, env.current_state.available_actions, env.action_indices)\n",
    "            next_state, reward, done = env.step(action_tuple)\n",
    "            next_state_tensor = torch.tensor(next_state.to_tensor(), dtype=torch.float32).unsqueeze(0)\n",
    "\n",
    "            agent.store_transition(state_tensor, action_tuple, reward, next_state_tensor, done)\n",
    "            state_tensor = next_state_tensor\n",
    "\n",
    "            loss = agent.optimize_model()\n",
    "            total_reward += reward\n",
    "\n",
    "            if done:\n",
    "                agent.update_target_net()\n",
    "                episode_rewards.append(total_reward)\n",
    "                break\n",
    "        \n",
    "        loss_list.append(loss)\n",
    "\n",
    "    # Save the model\n",
    "    agent.save_model('DQN_optimisation')\n",
    "    agent.load_model('DQN_optimisation')\n",
    "\n",
    "    gender_distribution, tot_reward = get_best_allocation(agent, env, show_schedule=True)\n",
    "    \n",
    "    #return episode_rewards, tot_reward, loss_list\n",
    "    return gender_distribution, tot_reward"
   ]
  },
  {
   "cell_type": "markdown",
   "metadata": {},
   "source": [
    "## 2. INITIALISE THE DATA"
   ]
  },
  {
   "cell_type": "code",
   "execution_count": 4,
   "metadata": {},
   "outputs": [
    {
     "data": {
      "text/plain": [
       "1    2329\n",
       "2    2329\n",
       "Name: Gender, dtype: int64"
      ]
     },
     "execution_count": 4,
     "metadata": {},
     "output_type": "execute_result"
    }
   ],
   "source": [
    "# Read in the job data\n",
    "file_path = '../../data/cleaned_data/jobs_cleaned.csv'\n",
    "jobs_df = pd.read_csv(file_path)\n",
    "\n",
    "# Read in the candidate data\n",
    "file_path = '../../data/cleaned_data/candidates_cleaned.csv'\n",
    "candidates_df = pd.read_csv(file_path)\n",
    "\n",
    "# Create a parity data set\n",
    "women_df = candidates_df[candidates_df['Gender'] == 1]\n",
    "men_df = candidates_df[candidates_df['Gender'] == 2]\n",
    "\n",
    "sampled_men_df = men_df.sample(n=len(women_df), random_state=1)\n",
    "parity_df = pd.concat([women_df, sampled_men_df], ignore_index=True)\n",
    "\n",
    "parity_df['Gender'].value_counts()"
   ]
  },
  {
   "cell_type": "code",
   "execution_count": 6,
   "metadata": {},
   "outputs": [
    {
     "name": "stdout",
     "output_type": "stream",
     "text": [
      "Job Data: 806  Candidate Data: 4658\n"
     ]
    }
   ],
   "source": [
    "# Initialise the class objects with data from the dataframes\n",
    "job_list = []\n",
    "for i in range(len(jobs_df)):\n",
    "    job = Job(i+1, jobs_df['Degree_Bachelor'][i], jobs_df['Degree_Master'][i], jobs_df['Degree_Other'][i],\n",
    "              jobs_df['Software_Programming'][i], jobs_df['C_Programming'][i], jobs_df['Python_Programming'][i], \n",
    "              jobs_df['JavaScript_Programming'][i], jobs_df['Professional_Software_Experience'][i], \n",
    "              jobs_df['Management_Skills'][i], jobs_df['Engineer'][i], int(jobs_df['Minimum_Pay'][i]))\n",
    "    job_list.append(job)\n",
    "\n",
    "candidate_list = []\n",
    "for i in range(len(parity_df)):\n",
    "    candidate = Candidate(i+1, parity_df['Gender'][i], parity_df['Degree_Bachelor'][i], parity_df['Degree_Master'][i], parity_df['Degree_Other'][i], \n",
    "                          parity_df['Software_Programming'][i], parity_df['C_Programming'][i], parity_df['Python_Programming'][i], \n",
    "                          parity_df['JavaScript_Programming'][i], parity_df['Professional_Software_Experience'][i], \n",
    "                          parity_df['Management_Skills'][i], parity_df['Engineer'][i], int(parity_df['Previous_Pay'][i]))\n",
    "    candidate_list.append(candidate)\n",
    "\n",
    "print(\"Job Data:\", len(job_list), \" Candidate Data:\", len(candidate_list))"
   ]
  },
  {
   "cell_type": "markdown",
   "metadata": {},
   "source": [
    "## 3. LOOP THROUGH PARAMETERS"
   ]
  },
  {
   "cell_type": "code",
   "execution_count": 7,
   "metadata": {},
   "outputs": [],
   "source": [
    "# 144 combinations\n",
    "batch_size_values = [16, 32, 64]\n",
    "gamma_values = [0.9, 0.95, 0.99]\n",
    "epsilon_values = [1, 0.5]\n",
    "epsilon_min_values = [0.1, 0.001]\n",
    "epsilon_decay_values = [0.985, 0.995]\n",
    "learning_rate_values = [0.0005, 0.001]\n",
    "\n",
    "columns = [\"candidates\", \"jobs\", \"data_seed\", \"dqn_seed\", \"batch_size\", \"gamma\", \"epsilon\", \"epsilon_min\", \"epsilon_decay\", \"learning_rate\", \"total_reward\"]\n",
    "results_parameters_dqn = pd.DataFrame(columns=columns)"
   ]
  },
  {
   "cell_type": "code",
   "execution_count": 8,
   "metadata": {},
   "outputs": [],
   "source": [
    "def run_optimisation(sample_jobs, sample_candidates, batch_size_values, gamma_values, epsilon_values, epsilon_min_values, epsilon_decay_values, learning_rate_values, results_df):\n",
    "    num_combinations = len(batch_size_values) * len(gamma_values) * len(epsilon_values) * len(epsilon_min_values) * len(epsilon_decay_values) * len(learning_rate_values)\n",
    "    current_iteration = 0\n",
    "    \n",
    "    for batch_size in batch_size_values:\n",
    "        for gamma in gamma_values:\n",
    "            for epsilon in epsilon_values:\n",
    "                for epsilon_min in epsilon_min_values:\n",
    "                    for epsilon_decay in epsilon_decay_values:\n",
    "                        for learning_rate in learning_rate_values:\n",
    "                            clear_output()\n",
    "\n",
    "                            current_iteration += 1\n",
    "                            print(f\"Iteration {current_iteration}/{num_combinations}; Testing combination {batch_size}, {gamma}, {epsilon}, {epsilon_min}, {epsilon_decay}, {learning_rate}\")\n",
    "\n",
    "                            set_seed(1)\n",
    "\n",
    "                            gender_distribution, total_reward = run_dqn_agent_optimisation(sample_jobs, sample_candidates, batch_size, gamma, epsilon, epsilon_min, epsilon_decay, learning_rate, num_episodes=1000)\n",
    "                            \n",
    "                            # Add the results to the dqn_results_df dataframe\n",
    "                            new_row = pd.DataFrame([{\"candidates\": len(sample_candidates), \"jobs\": len(sample_jobs), \"data_seed\": 1, \"dqn_seed\": 1, \n",
    "                                                     \"batch_size\": batch_size, \"gamma\": gamma, \"epsilon\": epsilon, \"epsilon_min\": epsilon_min,\n",
    "                                                     \"epsilon_decay\": epsilon_decay, \"learning_rate\": learning_rate, \"total_reward\": total_reward}])\n",
    "                            print(new_row)\n",
    "                            results_df = pd.concat([results_df, new_row], ignore_index=True)\n",
    "\n",
    "    return results_df"
   ]
  },
  {
   "cell_type": "code",
   "execution_count": 9,
   "metadata": {},
   "outputs": [],
   "source": [
    "# Sample Candidates\n",
    "random.seed(1)\n",
    "sample_candidates_100 = random.sample(candidate_list, 100)\n",
    "\n",
    "# Data set 1: 10 jobs, 100 candidates\n",
    "random.seed(1)\n",
    "sample_jobs_10 = random.sample(job_list, 10)\n",
    "\n",
    "# Data set 2: 20 jobs, 100 candidates\n",
    "random.seed(1)\n",
    "sample_jobs_20 = random.sample(job_list, 20)\n",
    "\n",
    "# Dataset 3: 50 jobs, 100 candidates\n",
    "random.seed(1)\n",
    "sample_jobs_50 = random.sample(job_list, 50)"
   ]
  },
  {
   "cell_type": "code",
   "execution_count": 10,
   "metadata": {},
   "outputs": [
    {
     "name": "stdout",
     "output_type": "stream",
     "text": [
      "Iteration 144/144; Testing combination 64, 0.99, 0.5, 0.001, 0.995, 0.001\n",
      "Allocations:\n",
      "Job 0 allocated to Candidate 7\n",
      "Job 2 allocated to Candidate 23\n",
      "Job 3 allocated to Candidate 99\n",
      "Job 4 allocated to Candidate 71\n",
      "Job 5 allocated to Candidate 19\n",
      "Job 6 allocated to Candidate 54\n",
      "Job 9 allocated to Candidate 70\n",
      "\n",
      "Gender distribution:\n",
      "   Woman  Man\n",
      "0      0    7\n",
      "None\n",
      "Reward:  -101572\n",
      "   candidates  jobs  data_seed  dqn_seed  batch_size  gamma  epsilon  \\\n",
      "0         100    10          1         1          64   0.99      0.5   \n",
      "\n",
      "   epsilon_min  epsilon_decay  learning_rate        total_reward  \n",
      "0        0.001          0.995          0.001  ([Woman], -101572)  \n"
     ]
    }
   ],
   "source": [
    "# Execute the optimisation function on Data Set 1\n",
    "results_parameters_dqn = run_optimisation(sample_jobs_10, sample_candidates_100, batch_size_values, gamma_values, epsilon_values, epsilon_min_values, epsilon_decay_values, learning_rate_values, results_parameters_dqn)"
   ]
  },
  {
   "cell_type": "code",
   "execution_count": 11,
   "metadata": {},
   "outputs": [
    {
     "name": "stdout",
     "output_type": "stream",
     "text": [
      "Iteration 144/144; Testing combination 64, 0.99, 0.5, 0.001, 0.995, 0.001\n",
      "Allocations:\n",
      "Job 0 allocated to Candidate 91\n",
      "Job 2 allocated to Candidate 14\n",
      "Job 3 allocated to Candidate 69\n",
      "Job 4 allocated to Candidate 71\n",
      "Job 5 allocated to Candidate 70\n",
      "Job 6 allocated to Candidate 54\n",
      "Job 9 allocated to Candidate 81\n",
      "Job 10 allocated to Candidate 55\n",
      "Job 11 allocated to Candidate 7\n",
      "Job 12 allocated to Candidate 19\n",
      "Job 13 allocated to Candidate 99\n",
      "Job 16 allocated to Candidate 88\n",
      "Job 17 allocated to Candidate 18\n",
      "Job 18 allocated to Candidate 30\n",
      "Job 19 allocated to Candidate 23\n",
      "\n",
      "Gender distribution:\n",
      "   Woman  Man\n",
      "0      4   11\n",
      "None\n",
      "Reward:  -393935\n",
      "   candidates  jobs  data_seed  dqn_seed  batch_size  gamma  epsilon  \\\n",
      "0         100    20          1         1          64   0.99      0.5   \n",
      "\n",
      "   epsilon_min  epsilon_decay  learning_rate        total_reward  \n",
      "0        0.001          0.995          0.001  ([Woman], -393935)  \n"
     ]
    }
   ],
   "source": [
    "# Execute the optimisation function on Data Set 2\n",
    "results_parameters_dqn = run_optimisation(sample_jobs_20, sample_candidates_100, batch_size_values, gamma_values, epsilon_values, epsilon_min_values, epsilon_decay_values, learning_rate_values, results_parameters_dqn)"
   ]
  },
  {
   "cell_type": "code",
   "execution_count": 12,
   "metadata": {},
   "outputs": [
    {
     "name": "stdout",
     "output_type": "stream",
     "text": [
      "Iteration 144/144; Testing combination 64, 0.99, 0.5, 0.001, 0.995, 0.001\n",
      "Allocations:\n",
      "Job 0 allocated to Candidate 99\n",
      "Job 2 allocated to Candidate 23\n",
      "Job 3 allocated to Candidate 7\n",
      "Job 4 allocated to Candidate 59\n",
      "Job 5 allocated to Candidate 16\n",
      "Job 6 allocated to Candidate 54\n",
      "Job 9 allocated to Candidate 78\n",
      "Job 10 allocated to Candidate 55\n",
      "Job 11 allocated to Candidate 22\n",
      "Job 12 allocated to Candidate 27\n",
      "Job 13 allocated to Candidate 35\n",
      "Job 16 allocated to Candidate 92\n",
      "Job 17 allocated to Candidate 18\n",
      "Job 18 allocated to Candidate 30\n",
      "Job 19 allocated to Candidate 69\n",
      "Job 20 allocated to Candidate 67\n",
      "Job 21 allocated to Candidate 95\n",
      "Job 22 allocated to Candidate 91\n",
      "Job 23 allocated to Candidate 83\n",
      "Job 24 allocated to Candidate 32\n",
      "Job 27 allocated to Candidate 28\n",
      "Job 28 allocated to Candidate 73\n",
      "Job 30 allocated to Candidate 62\n",
      "Job 32 allocated to Candidate 88\n",
      "Job 34 allocated to Candidate 71\n",
      "Job 35 allocated to Candidate 19\n",
      "Job 37 allocated to Candidate 81\n",
      "Job 40 allocated to Candidate 25\n",
      "Job 41 allocated to Candidate 3\n",
      "Job 42 allocated to Candidate 58\n",
      "Job 43 allocated to Candidate 11\n",
      "Job 44 allocated to Candidate 70\n",
      "Job 46 allocated to Candidate 96\n",
      "Job 47 allocated to Candidate 84\n",
      "Job 49 allocated to Candidate 63\n",
      "\n",
      "Gender distribution:\n",
      "   Woman  Man\n",
      "0     12   23\n",
      "None\n",
      "Reward:  -1681003\n",
      "   candidates  jobs  data_seed  dqn_seed  batch_size  gamma  epsilon  \\\n",
      "0         100    50          1         1          64   0.99      0.5   \n",
      "\n",
      "   epsilon_min  epsilon_decay  learning_rate         total_reward  \n",
      "0        0.001          0.995          0.001  ([Woman], -1681003)  \n"
     ]
    }
   ],
   "source": [
    "# Execute the optimisation function on Data Set 3\n",
    "results_parameters_dqn = run_optimisation(sample_jobs_50, sample_candidates_100, batch_size_values, gamma_values, epsilon_values, epsilon_min_values, epsilon_decay_values, learning_rate_values, results_parameters_dqn)"
   ]
  },
  {
   "cell_type": "markdown",
   "metadata": {},
   "source": [
    "## 4. STORE RESULTS"
   ]
  },
  {
   "cell_type": "code",
   "execution_count": 30,
   "metadata": {},
   "outputs": [
    {
     "name": "stdout",
     "output_type": "stream",
     "text": [
      "Results saved to results_parameters_dqn_parity.csv\n"
     ]
    }
   ],
   "source": [
    "# Save the results to a csv file\n",
    "results_parameters_dqn.to_csv(\"results_parameters_dqn_parity.csv\")\n",
    "print(\"Results saved to results_parameters_dqn_parity.csv\")"
   ]
  }
 ],
 "metadata": {
  "kernelspec": {
   "display_name": "base",
   "language": "python",
   "name": "python3"
  },
  "language_info": {
   "codemirror_mode": {
    "name": "ipython",
    "version": 3
   },
   "file_extension": ".py",
   "mimetype": "text/x-python",
   "name": "python",
   "nbconvert_exporter": "python",
   "pygments_lexer": "ipython3",
   "version": "3.9.13"
  }
 },
 "nbformat": 4,
 "nbformat_minor": 2
}
