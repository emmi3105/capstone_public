{
 "cells": [
  {
   "cell_type": "markdown",
   "metadata": {},
   "source": [
    "<h1 style=\"text-align: center;\">DQN EPISODE (INITIAL DATA)</h1>"
   ]
  },
  {
   "cell_type": "markdown",
   "metadata": {},
   "source": [
    "## 0. PACKAGE REQUIREMENTS"
   ]
  },
  {
   "cell_type": "code",
   "execution_count": 1,
   "metadata": {},
   "outputs": [
    {
     "name": "stderr",
     "output_type": "stream",
     "text": [
      "/Users/emilialautz/opt/anaconda3/lib/python3.9/site-packages/scipy/__init__.py:155: UserWarning: A NumPy version >=1.18.5 and <1.25.0 is required for this version of SciPy (detected version 1.26.4\n",
      "  warnings.warn(f\"A NumPy version >={np_minversion} and <{np_maxversion}\"\n"
     ]
    }
   ],
   "source": [
    "# Packages\n",
    "import random\n",
    "import pandas as pd\n",
    "import numpy as np\n",
    "import matplotlib.pyplot as plt\n",
    "import matplotlib \n",
    "from matplotlib.colors import LinearSegmentedColormap\n",
    "import seaborn as sns\n",
    "from IPython import display\n",
    "from IPython.display import clear_output\n",
    "from ipywidgets import Output\n",
    "import warnings\n",
    "\n",
    "# DQN Requirements\n",
    "import torch\n",
    "import torch.nn as nn\n",
    "import torch.optim as optim\n",
    "import torch.nn.functional as F\n",
    "from collections import namedtuple\n",
    "\n",
    "# Model imports\n",
    "import sys\n",
    "import os"
   ]
  },
  {
   "cell_type": "code",
   "execution_count": 2,
   "metadata": {},
   "outputs": [],
   "source": [
    "warnings.filterwarnings(\"ignore\", message=\".*To copy construct from a tensor.*\")"
   ]
  },
  {
   "cell_type": "code",
   "execution_count": 3,
   "metadata": {},
   "outputs": [],
   "source": [
    "# Environment requirements\n",
    "module_path = os.path.abspath(os.path.join('..', '..', 'environment'))\n",
    "if module_path not in sys.path:\n",
    "    sys.path.append(module_path)\n",
    "from environment import Job, Candidate, Environment\n",
    "\n",
    "module_path = os.path.abspath(os.path.join('..', '..', 'environment'))\n",
    "if module_path not in sys.path:\n",
    "    sys.path.append(module_path)\n",
    "from environment_debias import EnvironmentDebiased\n",
    "\n",
    "# Agent requirements\n",
    "module_path = os.path.abspath(os.path.join('..', '..', 'agents'))\n",
    "if module_path not in sys.path:\n",
    "    sys.path.append(module_path)\n",
    "from agents import DQNAgent, DQN, ReplayBuffer\n",
    "\n",
    "# Tool requirements\n",
    "module_path = os.path.abspath(os.path.join('..', '..', 'tools'))\n",
    "if module_path not in sys.path:\n",
    "    sys.path.append(module_path)\n",
    "from tools import calculate_sampled_men, calculate_hired_men, get_best_allocation, visualize_loss, set_seed"
   ]
  },
  {
   "cell_type": "markdown",
   "metadata": {},
   "source": [
    "## 1. DQN EPISODE FUNCTIONS"
   ]
  },
  {
   "cell_type": "code",
   "execution_count": 4,
   "metadata": {},
   "outputs": [],
   "source": [
    "def run_dqn_agent(sample_jobs, sample_candidates, batch_size, gamma, epsilon, epsilon_min, epsilon_decay, learning_rate, num_episodes, show_schedule = False):\n",
    "    # Initialise the environment\n",
    "    env = Environment(sample_jobs, sample_candidates)\n",
    "    state = env.reset()\n",
    "    state_tensor = torch.tensor(state.to_tensor(), dtype=torch.float32).unsqueeze(0)\n",
    "\n",
    "    # Initialise the state and action sizes\n",
    "    state_size = state.num_jobs * state.num_candidates \n",
    "    action_size = len(state.available_actions)\n",
    "\n",
    "    episode_rewards = []\n",
    "    loss_list = []\n",
    "    iteration = 0\n",
    "\n",
    "    # Initialise the agent\n",
    "    agent = DQNAgent(state_size, action_size, env, batch_size, gamma, epsilon, epsilon_min, epsilon_decay, learning_rate)\n",
    "    print(f\"State size: {state_size}, Action size: {action_size}\")\n",
    "\n",
    "    for _ in range(num_episodes):\n",
    "        iteration += 1\n",
    "        state = env.reset()\n",
    "        state_tensor = torch.tensor(state.to_tensor(), dtype=torch.float32).unsqueeze(0)\n",
    "        total_reward = 0\n",
    "        done = False\n",
    "\n",
    "        while not done:\n",
    "            action_tuple = agent.select_action(state_tensor, env.current_state.available_actions, env.action_indices)\n",
    "            next_state, reward, done = env.step(action_tuple)\n",
    "            next_state_tensor = torch.tensor(next_state.to_tensor(), dtype=torch.float32).unsqueeze(0)\n",
    "\n",
    "            agent.store_transition(state_tensor, action_tuple, reward, next_state_tensor, done)\n",
    "            state_tensor = next_state_tensor\n",
    "\n",
    "            loss = agent.optimize_model()\n",
    "            total_reward += reward\n",
    "\n",
    "            if done:\n",
    "                agent.update_target_net()\n",
    "                episode_rewards.append(total_reward)\n",
    "                break\n",
    "        \n",
    "        loss_list.append(loss)\n",
    "\n",
    "        # Visualise the loss\n",
    "        if iteration % 50 == 0:\n",
    "            visualize_loss(loss_list)\n",
    "            print(f\"Episode {iteration}: Model loss = {loss}\")\n",
    "    \n",
    "    # Save and load the model\n",
    "    agent.save_model('DQN_optimisation')\n",
    "    agent.load_model('DQN_optimisation')\n",
    "        \n",
    "    gender_distribution, tot_reward = get_best_allocation(agent, env, show_schedule=True)\n",
    "\n",
    "    return gender_distribution, tot_reward, loss_list"
   ]
  },
  {
   "cell_type": "code",
   "execution_count": 12,
   "metadata": {},
   "outputs": [],
   "source": [
    "def episode_dqn_agent(num_jobs, num_candidates, job_list, candidate_list, results_parameters_dqn, running_seed, num_episodes, results_df):\n",
    "    # Initialise the data\n",
    "    random.seed(1)\n",
    "    sample_jobs = random.sample(job_list, num_jobs)\n",
    "    random.seed(1)\n",
    "    sample_candidates = random.sample(candidate_list, num_candidates)\n",
    "\n",
    "    # Extract the optimised parameters\n",
    "    parameters_df = results_parameters_dqn[(results_parameters_dqn['jobs'] == num_jobs) & (results_parameters_dqn['candidates'] == num_candidates)]\n",
    "    best_row = results_parameters_dqn.iloc[parameters_df['total_reward'].idxmax()]\n",
    "\n",
    "    batch_size = int(best_row['batch_size'])\n",
    "    gamma = best_row['gamma']\n",
    "    epsilon = best_row['epsilon']\n",
    "    epsilon_min = best_row['epsilon_min']\n",
    "    epsilon_decay = best_row['epsilon_decay']\n",
    "    learning_rate = best_row['learning_rate']\n",
    "\n",
    "    # Run the dqn agent\n",
    "    set_seed(running_seed)\n",
    "    gender_distribution, total_reward, loss_list = run_dqn_agent(sample_jobs, sample_candidates, batch_size, gamma, epsilon, epsilon_min, epsilon_decay, learning_rate, num_episodes)\n",
    "\n",
    "    # Evaluate the allocations\n",
    "    sampled_men = calculate_sampled_men(sample_candidates)\n",
    "    hired_men = calculate_hired_men(gender_distribution)\n",
    "\n",
    "    men_count = gender_distribution['Man'][0]\n",
    "    women_count = gender_distribution['Woman'][0]\n",
    "\n",
    "    # Add the results to results_df\n",
    "    new_row = pd.DataFrame([{\"agent\": \"DQN\", \"running_seed\": running_seed, \"sample_seed\": 1, \"num_jobs\": num_jobs, \"num_candidates\": num_candidates, \"reward\": total_reward,  \n",
    "                             \"sampled_men_percent\": sampled_men, \"hired_men_percent\": hired_men, \"hired_women_count\": women_count, \"hired_men_count\": men_count,\n",
    "                             \"data\": 'initial_data', \"debiased\": 'No'}])\n",
    "    results_df = pd.concat([results_df, new_row], ignore_index=True)\n",
    "\n",
    "    return results_df, loss_list\n"
   ]
  },
  {
   "cell_type": "code",
   "execution_count": 13,
   "metadata": {},
   "outputs": [],
   "source": [
    "def run_dqn_agent_debiased(sample_jobs, sample_candidates, batch_size, gamma, epsilon, epsilon_min, epsilon_decay, learning_rate, num_episodes, show_schedule = False):\n",
    "    # Initialise the environment\n",
    "    env = EnvironmentDebiased(sample_jobs, sample_candidates)\n",
    "    state = env.reset()\n",
    "    state_tensor = torch.tensor(state.to_tensor(), dtype=torch.float32).unsqueeze(0)\n",
    "\n",
    "    # Initialise the state and action sizes\n",
    "    state_size = state.num_jobs * state.num_candidates \n",
    "    action_size = len(state.available_actions)\n",
    "\n",
    "    episode_rewards = []\n",
    "    loss_list = []\n",
    "    iteration = 0\n",
    "\n",
    "    # Initialise the agent\n",
    "    agent = DQNAgent(state_size, action_size, env, batch_size, gamma, epsilon, epsilon_min, epsilon_decay, learning_rate)\n",
    "    print(f\"State size: {state_size}, Action size: {action_size}\")\n",
    "\n",
    "    for _ in range(num_episodes):\n",
    "        iteration += 1\n",
    "        state = env.reset()\n",
    "        state_tensor = torch.tensor(state.to_tensor(), dtype=torch.float32).unsqueeze(0)\n",
    "        total_reward = 0\n",
    "        done = False\n",
    "\n",
    "        while not done:\n",
    "            action_tuple = agent.select_action(state_tensor, env.current_state.available_actions, env.action_indices)\n",
    "            next_state, reward, done = env.step(action_tuple)\n",
    "            next_state_tensor = torch.tensor(next_state.to_tensor(), dtype=torch.float32).unsqueeze(0)\n",
    "\n",
    "            agent.store_transition(state_tensor, action_tuple, reward, next_state_tensor, done)\n",
    "            state_tensor = next_state_tensor\n",
    "\n",
    "            loss = agent.optimize_model()\n",
    "            total_reward += reward\n",
    "\n",
    "            if done:\n",
    "                agent.update_target_net()\n",
    "                episode_rewards.append(total_reward)\n",
    "                break\n",
    "        \n",
    "        loss_list.append(loss)\n",
    "\n",
    "        # Visualise the loss\n",
    "        if iteration % 50 == 0:\n",
    "            visualize_loss(loss_list)\n",
    "            print(f\"Episode {iteration}: Model loss = {loss}\")\n",
    "    \n",
    "    # Save and load the model\n",
    "    agent.save_model('DQN_optimisation')\n",
    "    agent.load_model('DQN_optimisation')\n",
    "        \n",
    "    gender_distribution, tot_reward = get_best_allocation(agent, env, show_schedule=True)\n",
    "\n",
    "    return gender_distribution, tot_reward, loss_list"
   ]
  },
  {
   "cell_type": "code",
   "execution_count": 14,
   "metadata": {},
   "outputs": [],
   "source": [
    "def episode_dqn_agent_debiased(num_jobs, num_candidates, job_list, candidate_list, results_parameters_dqn, running_seed, num_episodes, results_df):\n",
    "    # Initialise the data\n",
    "    random.seed(1)\n",
    "    sample_jobs = random.sample(job_list, num_jobs)\n",
    "    random.seed(1)\n",
    "    sample_candidates = random.sample(candidate_list, num_candidates)\n",
    "\n",
    "    # Extract the optimised parameters\n",
    "    parameters_df = results_parameters_dqn[(results_parameters_dqn['jobs'] == num_jobs) & (results_parameters_dqn['candidates'] == num_candidates)]\n",
    "    best_row = results_parameters_dqn.iloc[parameters_df['total_reward'].idxmax()]\n",
    "\n",
    "    batch_size = int(best_row['batch_size'])\n",
    "    gamma = best_row['gamma']\n",
    "    epsilon = best_row['epsilon']\n",
    "    epsilon_min = best_row['epsilon_min']\n",
    "    epsilon_decay = best_row['epsilon_decay']\n",
    "    learning_rate = best_row['learning_rate']\n",
    "\n",
    "    # Run the dqn agent\n",
    "    set_seed(running_seed)\n",
    "    gender_distribution, total_reward, loss_list = run_dqn_agent_debiased(sample_jobs, sample_candidates, batch_size, gamma, epsilon, epsilon_min, epsilon_decay, learning_rate, num_episodes)\n",
    "\n",
    "    # Evaluate the allocations\n",
    "    sampled_men = calculate_sampled_men(sample_candidates)\n",
    "    hired_men = calculate_hired_men(gender_distribution)\n",
    "\n",
    "    men_count = gender_distribution['Man'][0]\n",
    "    women_count = gender_distribution['Woman'][0]\n",
    "\n",
    "    # Add the results to results_df\n",
    "    new_row = pd.DataFrame([{\"agent\": \"DQN\", \"running_seed\": running_seed, \"sample_seed\": 1, \"num_jobs\": num_jobs, \"num_candidates\": num_candidates, \"reward\": total_reward,  \n",
    "                             \"sampled_men_percent\": sampled_men, \"hired_men_percent\": hired_men, \"hired_women_count\": women_count, \"hired_men_count\": men_count,\n",
    "                             \"data\": 'initial_data', \"debiased\": 'Yes'}])\n",
    "    results_df = pd.concat([results_df, new_row], ignore_index=True)\n",
    "\n",
    "    return results_df, loss_list"
   ]
  },
  {
   "cell_type": "markdown",
   "metadata": {},
   "source": [
    "## 2. INITIALISE THE DATA"
   ]
  },
  {
   "cell_type": "code",
   "execution_count": 15,
   "metadata": {},
   "outputs": [
    {
     "name": "stdout",
     "output_type": "stream",
     "text": [
      "Job Data: 806  Candidate Data: 49005\n"
     ]
    }
   ],
   "source": [
    "# Read in the job data\n",
    "file_path = '../../data/jobs_data_cleaned.csv'\n",
    "jobs_df = pd.read_csv(file_path)\n",
    "\n",
    "# Read in the candidate data\n",
    "file_path = '../../data/candidates_data_cleaned.csv'\n",
    "candidates_df = pd.read_csv(file_path)\n",
    "\n",
    "# Initialise the class objects with data from the dataframes\n",
    "job_list = []\n",
    "for i in range(len(jobs_df)):\n",
    "    job = Job(i+1, jobs_df['Degree_Bachelor'][i], jobs_df['Degree_Master'][i], jobs_df['Degree_Other'][i],\n",
    "              jobs_df['Software_Programming'][i], jobs_df['C_Programming'][i], jobs_df['Python_Programming'][i], \n",
    "              jobs_df['JavaScript_Programming'][i], jobs_df['Professional_Software_Experience'][i], \n",
    "              jobs_df['Management_Skills'][i], jobs_df['Engineer'][i], int(jobs_df['Minimum_Pay'][i]))\n",
    "    job_list.append(job)\n",
    "\n",
    "candidate_list = []\n",
    "for i in range(len(candidates_df)):\n",
    "    candidate = Candidate(i+1, candidates_df['Gender'][i], candidates_df['Degree_Bachelor'][i], candidates_df['Degree_Master'][i], candidates_df['Degree_Other'][i], \n",
    "                          candidates_df['Software_Programming'][i], candidates_df['C_Programming'][i], candidates_df['Python_Programming'][i], \n",
    "                          candidates_df['JavaScript_Programming'][i], candidates_df['Professional_Software_Experience'][i], \n",
    "                          candidates_df['Management_Skills'][i], candidates_df['Engineer'][i], int(candidates_df['Previous_Pay'][i]))\n",
    "    candidate_list.append(candidate)\n",
    "\n",
    "print(\"Job Data:\", len(job_list), \" Candidate Data:\", len(candidate_list))"
   ]
  },
  {
   "cell_type": "markdown",
   "metadata": {},
   "source": [
    "## 3. EPISODES (ORIGINAL)"
   ]
  },
  {
   "cell_type": "code",
   "execution_count": 17,
   "metadata": {},
   "outputs": [],
   "source": [
    "# Read in the hyperparameter results\n",
    "results_parameters_dqn = pd.read_csv('../../optimisation/optimisation_initial_data/results_parameters_dqn_initial.csv')\n",
    "\n",
    "# Initialise a dataframe to store the results\n",
    "columns = [\"agent\", \"running_seed\", \"sample_seed\", \"num_jobs\", \"num_candidates\", \"reward\", \"sampled_men_percent\", \"hired_men_percent\", \"hired_women_count\", \"hired_men_count\", \"data\", \"debiased\"]\n",
    "dqn_results_df = pd.DataFrame(columns=columns)"
   ]
  },
  {
   "cell_type": "code",
   "execution_count": 18,
   "metadata": {},
   "outputs": [
    {
     "data": {
      "text/html": [
       "<div>\n",
       "<style scoped>\n",
       "    .dataframe tbody tr th:only-of-type {\n",
       "        vertical-align: middle;\n",
       "    }\n",
       "\n",
       "    .dataframe tbody tr th {\n",
       "        vertical-align: top;\n",
       "    }\n",
       "\n",
       "    .dataframe thead th {\n",
       "        text-align: right;\n",
       "    }\n",
       "</style>\n",
       "<table border=\"1\" class=\"dataframe\">\n",
       "  <thead>\n",
       "    <tr style=\"text-align: right;\">\n",
       "      <th></th>\n",
       "      <th>agent</th>\n",
       "      <th>running_seed</th>\n",
       "      <th>sample_seed</th>\n",
       "      <th>num_jobs</th>\n",
       "      <th>num_candidates</th>\n",
       "      <th>reward</th>\n",
       "      <th>sampled_men_percent</th>\n",
       "      <th>hired_men_percent</th>\n",
       "      <th>hired_women_count</th>\n",
       "      <th>hired_men_count</th>\n",
       "      <th>data</th>\n",
       "      <th>debiased</th>\n",
       "    </tr>\n",
       "  </thead>\n",
       "  <tbody>\n",
       "  </tbody>\n",
       "</table>\n",
       "</div>"
      ],
      "text/plain": [
       "Empty DataFrame\n",
       "Columns: [agent, running_seed, sample_seed, num_jobs, num_candidates, reward, sampled_men_percent, hired_men_percent, hired_women_count, hired_men_count, data, debiased]\n",
       "Index: []"
      ]
     },
     "execution_count": 18,
     "metadata": {},
     "output_type": "execute_result"
    }
   ],
   "source": [
    "dqn_results_df"
   ]
  },
  {
   "cell_type": "code",
   "execution_count": 19,
   "metadata": {},
   "outputs": [
    {
     "data": {
      "text/plain": [
       "<Figure size 640x480 with 0 Axes>"
      ]
     },
     "metadata": {},
     "output_type": "display_data"
    },
    {
     "data": {
      "image/png": "[encoded data removed]",
      "text/plain": [
       "<Figure size 640x480 with 1 Axes>"
      ]
     },
     "metadata": {},
     "output_type": "display_data"
    },
    {
     "name": "stdout",
     "output_type": "stream",
     "text": [
      "Episode 6000: Model loss = 5751.0751953125\n",
      "Allocations:\n",
      "Job 0 allocated to Candidate 12\n",
      "Job 1 allocated to Candidate 81\n",
      "Job 2 allocated to Candidate 86\n",
      "Job 3 allocated to Candidate 95\n",
      "Job 4 allocated to Candidate 25\n",
      "Job 5 allocated to Candidate 13\n",
      "Job 6 allocated to Candidate 24\n",
      "Job 7 allocated to Candidate 52\n",
      "Job 9 allocated to Candidate 56\n",
      "\n",
      "Gender distribution:\n",
      "   Woman  Man\n",
      "0      1    8\n",
      "None\n",
      "Reward:  -204513\n"
     ]
    }
   ],
   "source": [
    "# 10 Jobs, 100 Candidates, running seed 1 (-204513)\n",
    "dqn_results_df, loss_list_10 = episode_dqn_agent(10, 100, job_list, candidate_list, results_parameters_dqn, 1, 6000, dqn_results_df)"
   ]
  },
  {
   "cell_type": "code",
   "execution_count": 14,
   "metadata": {},
   "outputs": [
    {
     "data": {
      "text/plain": [
       "<Figure size 640x480 with 0 Axes>"
      ]
     },
     "metadata": {},
     "output_type": "display_data"
    },
    {
     "data": {
      "image/png": "[encoded data removed]",
      "text/plain": [
       "<Figure size 640x480 with 1 Axes>"
      ]
     },
     "metadata": {},
     "output_type": "display_data"
    },
    {
     "name": "stdout",
     "output_type": "stream",
     "text": [
      "Episode 6000: Model loss = 10441.1611328125\n",
      "Allocations:\n",
      "Job 0 allocated to Candidate 89\n",
      "Job 1 allocated to Candidate 0\n",
      "Job 2 allocated to Candidate 49\n",
      "Job 3 allocated to Candidate 56\n",
      "Job 4 allocated to Candidate 73\n",
      "Job 5 allocated to Candidate 31\n",
      "Job 6 allocated to Candidate 24\n",
      "Job 7 allocated to Candidate 12\n",
      "Job 9 allocated to Candidate 78\n",
      "Job 10 allocated to Candidate 68\n",
      "Job 11 allocated to Candidate 25\n",
      "Job 12 allocated to Candidate 95\n",
      "Job 13 allocated to Candidate 13\n",
      "Job 14 allocated to Candidate 81\n",
      "Job 15 allocated to Candidate 16\n",
      "Job 16 allocated to Candidate 90\n",
      "Job 17 allocated to Candidate 65\n",
      "Job 18 allocated to Candidate 86\n",
      "Job 19 allocated to Candidate 71\n",
      "\n",
      "Gender distribution:\n",
      "   Woman  Man\n",
      "0      2   17\n",
      "None\n",
      "Reward:  -651257\n"
     ]
    }
   ],
   "source": [
    "# 20 Jobs, 100 Candidates, running seed 1 (-651257)\n",
    "dqn_results_df, loss_list_20 = episode_dqn_agent(20, 100, job_list, candidate_list, results_parameters_dqn, 1, 6000, dqn_results_df)"
   ]
  },
  {
   "cell_type": "code",
   "execution_count": 17,
   "metadata": {},
   "outputs": [
    {
     "data": {
      "text/plain": [
       "<Figure size 640x480 with 0 Axes>"
      ]
     },
     "metadata": {},
     "output_type": "display_data"
    },
    {
     "data": {
      "image/png": "[encoded data removed]",
      "text/plain": [
       "<Figure size 640x480 with 1 Axes>"
      ]
     },
     "metadata": {},
     "output_type": "display_data"
    },
    {
     "name": "stdout",
     "output_type": "stream",
     "text": [
      "Episode 6000: Model loss = 3.555452200545686e+25\n",
      "Allocations:\n",
      "Job 0 allocated to Candidate 89\n",
      "Job 2 allocated to Candidate 84\n",
      "Job 3 allocated to Candidate 25\n",
      "Job 4 allocated to Candidate 65\n",
      "Job 5 allocated to Candidate 72\n",
      "Job 6 allocated to Candidate 0\n",
      "Job 7 allocated to Candidate 74\n",
      "Job 9 allocated to Candidate 95\n",
      "Job 10 allocated to Candidate 68\n",
      "Job 11 allocated to Candidate 56\n",
      "Job 12 allocated to Candidate 73\n",
      "Job 13 allocated to Candidate 9\n",
      "Job 14 allocated to Candidate 36\n",
      "Job 16 allocated to Candidate 90\n",
      "Job 17 allocated to Candidate 21\n",
      "Job 18 allocated to Candidate 49\n",
      "Job 19 allocated to Candidate 78\n",
      "Job 20 allocated to Candidate 71\n",
      "Job 21 allocated to Candidate 77\n",
      "Job 22 allocated to Candidate 20\n",
      "Job 23 allocated to Candidate 97\n",
      "Job 24 allocated to Candidate 13\n",
      "Job 25 allocated to Candidate 24\n",
      "Job 27 allocated to Candidate 16\n",
      "Job 28 allocated to Candidate 80\n",
      "Job 30 allocated to Candidate 64\n",
      "Job 32 allocated to Candidate 44\n",
      "Job 33 allocated to Candidate 7\n",
      "Job 34 allocated to Candidate 2\n",
      "Job 35 allocated to Candidate 85\n",
      "Job 37 allocated to Candidate 31\n",
      "Job 40 allocated to Candidate 86\n",
      "Job 41 allocated to Candidate 12\n",
      "Job 42 allocated to Candidate 83\n",
      "Job 43 allocated to Candidate 26\n",
      "Job 44 allocated to Candidate 81\n",
      "Job 46 allocated to Candidate 67\n",
      "Job 47 allocated to Candidate 29\n",
      "Job 48 allocated to Candidate 52\n",
      "Job 49 allocated to Candidate 50\n",
      "\n",
      "Gender distribution:\n",
      "   Woman  Man\n",
      "0      3   37\n",
      "None\n",
      "Reward:  -2099590\n"
     ]
    }
   ],
   "source": [
    "# 50 Jobs, 100 Candidates, running seed 1 (-2099590)\n",
    "dqn_results_df, loss_list_50 = episode_dqn_agent(50, 100, job_list, candidate_list, results_parameters_dqn, 1, 6000, dqn_results_df)"
   ]
  },
  {
   "cell_type": "code",
   "execution_count": 12,
   "metadata": {},
   "outputs": [
    {
     "ename": "ValueError",
     "evalue": "attempt to get argmax of an empty sequence",
     "output_type": "error",
     "traceback": [
      "\u001b[0;31m---------------------------------------------------------------------------\u001b[0m",
      "\u001b[0;31mValueError\u001b[0m                                Traceback (most recent call last)",
      "\u001b[0;32m/var/folders/33/gftgqnd57td6_z801dxqfyy40000gp/T/ipykernel_33548/2281585123.py\u001b[0m in \u001b[0;36m<module>\u001b[0;34m\u001b[0m\n\u001b[1;32m      1\u001b[0m \u001b[0;31m# 100 Jobs, 100 Candidates, running seed 1 (-3491106)\u001b[0m\u001b[0;34m\u001b[0m\u001b[0;34m\u001b[0m\u001b[0m\n\u001b[0;32m----> 2\u001b[0;31m \u001b[0mdqn_results_df\u001b[0m\u001b[0;34m,\u001b[0m \u001b[0mloss_list_100\u001b[0m \u001b[0;34m=\u001b[0m \u001b[0mepisode_dqn_agent\u001b[0m\u001b[0;34m(\u001b[0m\u001b[0;36m100\u001b[0m\u001b[0;34m,\u001b[0m \u001b[0;36m100\u001b[0m\u001b[0;34m,\u001b[0m \u001b[0mjob_list\u001b[0m\u001b[0;34m,\u001b[0m \u001b[0mcandidate_list\u001b[0m\u001b[0;34m,\u001b[0m \u001b[0mresults_parameters_dqn\u001b[0m\u001b[0;34m,\u001b[0m \u001b[0;36m2\u001b[0m\u001b[0;34m,\u001b[0m \u001b[0;36m6000\u001b[0m\u001b[0;34m,\u001b[0m \u001b[0mdqn_results_df\u001b[0m\u001b[0;34m)\u001b[0m\u001b[0;34m\u001b[0m\u001b[0;34m\u001b[0m\u001b[0m\n\u001b[0m",
      "\u001b[0;32m/var/folders/33/gftgqnd57td6_z801dxqfyy40000gp/T/ipykernel_33548/3007969257.py\u001b[0m in \u001b[0;36mepisode_dqn_agent\u001b[0;34m(num_jobs, num_candidates, job_list, candidate_list, results_parameters_dqn, running_seed, num_episodes, results_df)\u001b[0m\n\u001b[1;32m      8\u001b[0m     \u001b[0;31m# Extract the optimised parameters\u001b[0m\u001b[0;34m\u001b[0m\u001b[0;34m\u001b[0m\u001b[0m\n\u001b[1;32m      9\u001b[0m     \u001b[0mparameters_df\u001b[0m \u001b[0;34m=\u001b[0m \u001b[0mresults_parameters_dqn\u001b[0m\u001b[0;34m[\u001b[0m\u001b[0;34m(\u001b[0m\u001b[0mresults_parameters_dqn\u001b[0m\u001b[0;34m[\u001b[0m\u001b[0;34m'jobs'\u001b[0m\u001b[0;34m]\u001b[0m \u001b[0;34m==\u001b[0m \u001b[0mnum_jobs\u001b[0m\u001b[0;34m)\u001b[0m \u001b[0;34m&\u001b[0m \u001b[0;34m(\u001b[0m\u001b[0mresults_parameters_dqn\u001b[0m\u001b[0;34m[\u001b[0m\u001b[0;34m'candidates'\u001b[0m\u001b[0;34m]\u001b[0m \u001b[0;34m==\u001b[0m \u001b[0mnum_candidates\u001b[0m\u001b[0;34m)\u001b[0m\u001b[0;34m]\u001b[0m\u001b[0;34m\u001b[0m\u001b[0;34m\u001b[0m\u001b[0m\n\u001b[0;32m---> 10\u001b[0;31m     \u001b[0mbest_row\u001b[0m \u001b[0;34m=\u001b[0m \u001b[0mresults_parameters_dqn\u001b[0m\u001b[0;34m.\u001b[0m\u001b[0miloc\u001b[0m\u001b[0;34m[\u001b[0m\u001b[0mparameters_df\u001b[0m\u001b[0;34m[\u001b[0m\u001b[0;34m'total_reward'\u001b[0m\u001b[0;34m]\u001b[0m\u001b[0;34m.\u001b[0m\u001b[0midxmax\u001b[0m\u001b[0;34m(\u001b[0m\u001b[0;34m)\u001b[0m\u001b[0;34m]\u001b[0m\u001b[0;34m\u001b[0m\u001b[0;34m\u001b[0m\u001b[0m\n\u001b[0m\u001b[1;32m     11\u001b[0m \u001b[0;34m\u001b[0m\u001b[0m\n\u001b[1;32m     12\u001b[0m     \u001b[0mbatch_size\u001b[0m \u001b[0;34m=\u001b[0m \u001b[0mint\u001b[0m\u001b[0;34m(\u001b[0m\u001b[0mbest_row\u001b[0m\u001b[0;34m[\u001b[0m\u001b[0;34m'batch_size'\u001b[0m\u001b[0;34m]\u001b[0m\u001b[0;34m)\u001b[0m\u001b[0;34m\u001b[0m\u001b[0;34m\u001b[0m\u001b[0m\n",
      "\u001b[0;32m~/opt/anaconda3/lib/python3.9/site-packages/pandas/core/series.py\u001b[0m in \u001b[0;36midxmax\u001b[0;34m(self, axis, skipna, *args, **kwargs)\u001b[0m\n\u001b[1;32m   2402\u001b[0m         \u001b[0mnan\u001b[0m\u001b[0;34m\u001b[0m\u001b[0;34m\u001b[0m\u001b[0m\n\u001b[1;32m   2403\u001b[0m         \"\"\"\n\u001b[0;32m-> 2404\u001b[0;31m         \u001b[0mi\u001b[0m \u001b[0;34m=\u001b[0m \u001b[0mself\u001b[0m\u001b[0;34m.\u001b[0m\u001b[0margmax\u001b[0m\u001b[0;34m(\u001b[0m\u001b[0maxis\u001b[0m\u001b[0;34m,\u001b[0m \u001b[0mskipna\u001b[0m\u001b[0;34m,\u001b[0m \u001b[0;34m*\u001b[0m\u001b[0margs\u001b[0m\u001b[0;34m,\u001b[0m \u001b[0;34m**\u001b[0m\u001b[0mkwargs\u001b[0m\u001b[0;34m)\u001b[0m\u001b[0;34m\u001b[0m\u001b[0;34m\u001b[0m\u001b[0m\n\u001b[0m\u001b[1;32m   2405\u001b[0m         \u001b[0;32mif\u001b[0m \u001b[0mi\u001b[0m \u001b[0;34m==\u001b[0m \u001b[0;34m-\u001b[0m\u001b[0;36m1\u001b[0m\u001b[0;34m:\u001b[0m\u001b[0;34m\u001b[0m\u001b[0;34m\u001b[0m\u001b[0m\n\u001b[1;32m   2406\u001b[0m             \u001b[0;32mreturn\u001b[0m \u001b[0mnp\u001b[0m\u001b[0;34m.\u001b[0m\u001b[0mnan\u001b[0m\u001b[0;34m\u001b[0m\u001b[0;34m\u001b[0m\u001b[0m\n",
      "\u001b[0;32m~/opt/anaconda3/lib/python3.9/site-packages/pandas/core/base.py\u001b[0m in \u001b[0;36margmax\u001b[0;34m(self, axis, skipna, *args, **kwargs)\u001b[0m\n\u001b[1;32m    655\u001b[0m             \u001b[0;31m# error: Incompatible return value type (got \"Union[int, ndarray]\", expected\u001b[0m\u001b[0;34m\u001b[0m\u001b[0;34m\u001b[0m\u001b[0m\n\u001b[1;32m    656\u001b[0m             \u001b[0;31m# \"int\")\u001b[0m\u001b[0;34m\u001b[0m\u001b[0;34m\u001b[0m\u001b[0m\n\u001b[0;32m--> 657\u001b[0;31m             return nanops.nanargmax(  # type: ignore[return-value]\n\u001b[0m\u001b[1;32m    658\u001b[0m                 \u001b[0mdelegate\u001b[0m\u001b[0;34m,\u001b[0m \u001b[0mskipna\u001b[0m\u001b[0;34m=\u001b[0m\u001b[0mskipna\u001b[0m\u001b[0;34m\u001b[0m\u001b[0;34m\u001b[0m\u001b[0m\n\u001b[1;32m    659\u001b[0m             )\n",
      "\u001b[0;32m~/opt/anaconda3/lib/python3.9/site-packages/pandas/core/nanops.py\u001b[0m in \u001b[0;36m_f\u001b[0;34m(*args, **kwargs)\u001b[0m\n\u001b[1;32m     91\u001b[0m             \u001b[0;32mtry\u001b[0m\u001b[0;34m:\u001b[0m\u001b[0;34m\u001b[0m\u001b[0;34m\u001b[0m\u001b[0m\n\u001b[1;32m     92\u001b[0m                 \u001b[0;32mwith\u001b[0m \u001b[0mnp\u001b[0m\u001b[0;34m.\u001b[0m\u001b[0merrstate\u001b[0m\u001b[0;34m(\u001b[0m\u001b[0minvalid\u001b[0m\u001b[0;34m=\u001b[0m\u001b[0;34m\"ignore\"\u001b[0m\u001b[0;34m)\u001b[0m\u001b[0;34m:\u001b[0m\u001b[0;34m\u001b[0m\u001b[0;34m\u001b[0m\u001b[0m\n\u001b[0;32m---> 93\u001b[0;31m                     \u001b[0;32mreturn\u001b[0m \u001b[0mf\u001b[0m\u001b[0;34m(\u001b[0m\u001b[0;34m*\u001b[0m\u001b[0margs\u001b[0m\u001b[0;34m,\u001b[0m \u001b[0;34m**\u001b[0m\u001b[0mkwargs\u001b[0m\u001b[0;34m)\u001b[0m\u001b[0;34m\u001b[0m\u001b[0;34m\u001b[0m\u001b[0m\n\u001b[0m\u001b[1;32m     94\u001b[0m             \u001b[0;32mexcept\u001b[0m \u001b[0mValueError\u001b[0m \u001b[0;32mas\u001b[0m \u001b[0me\u001b[0m\u001b[0;34m:\u001b[0m\u001b[0;34m\u001b[0m\u001b[0;34m\u001b[0m\u001b[0m\n\u001b[1;32m     95\u001b[0m                 \u001b[0;31m# we want to transform an object array\u001b[0m\u001b[0;34m\u001b[0m\u001b[0;34m\u001b[0m\u001b[0m\n",
      "\u001b[0;32m~/opt/anaconda3/lib/python3.9/site-packages/pandas/core/nanops.py\u001b[0m in \u001b[0;36mnanargmax\u001b[0;34m(values, axis, skipna, mask)\u001b[0m\n\u001b[1;32m   1094\u001b[0m     \u001b[0mvalues\u001b[0m\u001b[0;34m,\u001b[0m \u001b[0mmask\u001b[0m\u001b[0;34m,\u001b[0m \u001b[0m_\u001b[0m\u001b[0;34m,\u001b[0m \u001b[0m_\u001b[0m\u001b[0;34m,\u001b[0m \u001b[0m_\u001b[0m \u001b[0;34m=\u001b[0m \u001b[0m_get_values\u001b[0m\u001b[0;34m(\u001b[0m\u001b[0mvalues\u001b[0m\u001b[0;34m,\u001b[0m \u001b[0;32mTrue\u001b[0m\u001b[0;34m,\u001b[0m \u001b[0mfill_value_typ\u001b[0m\u001b[0;34m=\u001b[0m\u001b[0;34m\"-inf\"\u001b[0m\u001b[0;34m,\u001b[0m \u001b[0mmask\u001b[0m\u001b[0;34m=\u001b[0m\u001b[0mmask\u001b[0m\u001b[0;34m)\u001b[0m\u001b[0;34m\u001b[0m\u001b[0;34m\u001b[0m\u001b[0m\n\u001b[1;32m   1095\u001b[0m     \u001b[0;31m# error: Need type annotation for 'result'\u001b[0m\u001b[0;34m\u001b[0m\u001b[0;34m\u001b[0m\u001b[0m\n\u001b[0;32m-> 1096\u001b[0;31m     \u001b[0mresult\u001b[0m \u001b[0;34m=\u001b[0m \u001b[0mvalues\u001b[0m\u001b[0;34m.\u001b[0m\u001b[0margmax\u001b[0m\u001b[0;34m(\u001b[0m\u001b[0maxis\u001b[0m\u001b[0;34m)\u001b[0m  \u001b[0;31m# type: ignore[var-annotated]\u001b[0m\u001b[0;34m\u001b[0m\u001b[0;34m\u001b[0m\u001b[0m\n\u001b[0m\u001b[1;32m   1097\u001b[0m     \u001b[0mresult\u001b[0m \u001b[0;34m=\u001b[0m \u001b[0m_maybe_arg_null_out\u001b[0m\u001b[0;34m(\u001b[0m\u001b[0mresult\u001b[0m\u001b[0;34m,\u001b[0m \u001b[0maxis\u001b[0m\u001b[0;34m,\u001b[0m \u001b[0mmask\u001b[0m\u001b[0;34m,\u001b[0m \u001b[0mskipna\u001b[0m\u001b[0;34m)\u001b[0m\u001b[0;34m\u001b[0m\u001b[0;34m\u001b[0m\u001b[0m\n\u001b[1;32m   1098\u001b[0m     \u001b[0;32mreturn\u001b[0m \u001b[0mresult\u001b[0m\u001b[0;34m\u001b[0m\u001b[0;34m\u001b[0m\u001b[0m\n",
      "\u001b[0;31mValueError\u001b[0m: attempt to get argmax of an empty sequence"
     ]
    }
   ],
   "source": [
    "# 100 Jobs, 100 Candidates, running seed 1 (-3491106)\n",
    "dqn_results_df, loss_list_100 = episode_dqn_agent(100, 100, job_list, candidate_list, results_parameters_dqn, 1, 6000, dqn_results_df)"
   ]
  },
  {
   "cell_type": "markdown",
   "metadata": {},
   "source": [
    "## 4. RESULTS (ORIGINAL)"
   ]
  },
  {
   "cell_type": "code",
   "execution_count": 18,
   "metadata": {},
   "outputs": [
    {
     "data": {
      "text/html": [
       "<div>\n",
       "<style scoped>\n",
       "    .dataframe tbody tr th:only-of-type {\n",
       "        vertical-align: middle;\n",
       "    }\n",
       "\n",
       "    .dataframe tbody tr th {\n",
       "        vertical-align: top;\n",
       "    }\n",
       "\n",
       "    .dataframe thead th {\n",
       "        text-align: right;\n",
       "    }\n",
       "</style>\n",
       "<table border=\"1\" class=\"dataframe\">\n",
       "  <thead>\n",
       "    <tr style=\"text-align: right;\">\n",
       "      <th></th>\n",
       "      <th>agent</th>\n",
       "      <th>running_seed</th>\n",
       "      <th>sample_seed</th>\n",
       "      <th>num_jobs</th>\n",
       "      <th>num_candidates</th>\n",
       "      <th>reward</th>\n",
       "      <th>sampled_men_percent</th>\n",
       "      <th>hired_men_percent</th>\n",
       "      <th>hired_women_count</th>\n",
       "      <th>hired_men_count</th>\n",
       "      <th>data</th>\n",
       "      <th>debiased</th>\n",
       "    </tr>\n",
       "  </thead>\n",
       "  <tbody>\n",
       "    <tr>\n",
       "      <th>0</th>\n",
       "      <td>DQN</td>\n",
       "      <td>1</td>\n",
       "      <td>1</td>\n",
       "      <td>10</td>\n",
       "      <td>100</td>\n",
       "      <td>-204513</td>\n",
       "      <td>0.97</td>\n",
       "      <td>0.888889</td>\n",
       "      <td>1</td>\n",
       "      <td>8</td>\n",
       "      <td>initial_data</td>\n",
       "      <td>No</td>\n",
       "    </tr>\n",
       "    <tr>\n",
       "      <th>1</th>\n",
       "      <td>DQN</td>\n",
       "      <td>1</td>\n",
       "      <td>1</td>\n",
       "      <td>20</td>\n",
       "      <td>100</td>\n",
       "      <td>-651257</td>\n",
       "      <td>0.97</td>\n",
       "      <td>0.894737</td>\n",
       "      <td>2</td>\n",
       "      <td>17</td>\n",
       "      <td>initial_data</td>\n",
       "      <td>No</td>\n",
       "    </tr>\n",
       "    <tr>\n",
       "      <th>2</th>\n",
       "      <td>DQN</td>\n",
       "      <td>1</td>\n",
       "      <td>1</td>\n",
       "      <td>50</td>\n",
       "      <td>100</td>\n",
       "      <td>-2099590</td>\n",
       "      <td>0.97</td>\n",
       "      <td>0.925000</td>\n",
       "      <td>3</td>\n",
       "      <td>37</td>\n",
       "      <td>initial_data</td>\n",
       "      <td>No</td>\n",
       "    </tr>\n",
       "  </tbody>\n",
       "</table>\n",
       "</div>"
      ],
      "text/plain": [
       "  agent running_seed sample_seed num_jobs num_candidates    reward  \\\n",
       "0   DQN            1           1       10            100   -204513   \n",
       "1   DQN            1           1       20            100   -651257   \n",
       "2   DQN            1           1       50            100  -2099590   \n",
       "\n",
       "   sampled_men_percent  hired_men_percent hired_women_count hired_men_count  \\\n",
       "0                 0.97           0.888889                 1               8   \n",
       "1                 0.97           0.894737                 2              17   \n",
       "2                 0.97           0.925000                 3              37   \n",
       "\n",
       "           data debiased  \n",
       "0  initial_data       No  \n",
       "1  initial_data       No  \n",
       "2  initial_data       No  "
      ]
     },
     "execution_count": 18,
     "metadata": {},
     "output_type": "execute_result"
    }
   ],
   "source": [
    "dqn_results_df"
   ]
  },
  {
   "cell_type": "code",
   "execution_count": 19,
   "metadata": {},
   "outputs": [],
   "source": [
    "# Save the dqn results to a csv file\n",
    "dqn_results_df.to_csv(\"dqn_results_initial_data.csv\")"
   ]
  },
  {
   "cell_type": "markdown",
   "metadata": {},
   "source": [
    "## 5. LOSS (ORIGINAL)"
   ]
  },
  {
   "cell_type": "code",
   "execution_count": 20,
   "metadata": {},
   "outputs": [],
   "source": [
    "# Store the loss_lists in a csv file to create graphs\n",
    "#loss_list_df = pd.DataFrame({10: loss_list_10, 20: loss_list_20})\n",
    "loss_list_df = pd.DataFrame({10: loss_list_10, 20: loss_list_20, 50: loss_list_50})\n",
    "loss_list_df.to_csv(\"dqn_loss_initial_data.csv\")"
   ]
  },
  {
   "cell_type": "code",
   "execution_count": 33,
   "metadata": {},
   "outputs": [
    {
     "data": {
      "text/html": [
       "<div>\n",
       "<style scoped>\n",
       "    .dataframe tbody tr th:only-of-type {\n",
       "        vertical-align: middle;\n",
       "    }\n",
       "\n",
       "    .dataframe tbody tr th {\n",
       "        vertical-align: top;\n",
       "    }\n",
       "\n",
       "    .dataframe thead th {\n",
       "        text-align: right;\n",
       "    }\n",
       "</style>\n",
       "<table border=\"1\" class=\"dataframe\">\n",
       "  <thead>\n",
       "    <tr style=\"text-align: right;\">\n",
       "      <th></th>\n",
       "      <th>10</th>\n",
       "      <th>20</th>\n",
       "      <th>50</th>\n",
       "    </tr>\n",
       "  </thead>\n",
       "  <tbody>\n",
       "    <tr>\n",
       "      <th>0</th>\n",
       "      <td>NaN</td>\n",
       "      <td>5.640964e+09</td>\n",
       "      <td>NaN</td>\n",
       "    </tr>\n",
       "    <tr>\n",
       "      <th>1</th>\n",
       "      <td>8.348786e+09</td>\n",
       "      <td>7.670248e+09</td>\n",
       "      <td>6.465258e+09</td>\n",
       "    </tr>\n",
       "    <tr>\n",
       "      <th>2</th>\n",
       "      <td>8.274940e+09</td>\n",
       "      <td>5.649636e+09</td>\n",
       "      <td>6.247072e+09</td>\n",
       "    </tr>\n",
       "    <tr>\n",
       "      <th>3</th>\n",
       "      <td>6.496948e+09</td>\n",
       "      <td>7.045774e+09</td>\n",
       "      <td>6.334169e+09</td>\n",
       "    </tr>\n",
       "    <tr>\n",
       "      <th>4</th>\n",
       "      <td>7.719167e+09</td>\n",
       "      <td>8.713556e+09</td>\n",
       "      <td>7.229299e+09</td>\n",
       "    </tr>\n",
       "  </tbody>\n",
       "</table>\n",
       "</div>"
      ],
      "text/plain": [
       "             10            20            50\n",
       "0           NaN  5.640964e+09           NaN\n",
       "1  8.348786e+09  7.670248e+09  6.465258e+09\n",
       "2  8.274940e+09  5.649636e+09  6.247072e+09\n",
       "3  6.496948e+09  7.045774e+09  6.334169e+09\n",
       "4  7.719167e+09  8.713556e+09  7.229299e+09"
      ]
     },
     "execution_count": 33,
     "metadata": {},
     "output_type": "execute_result"
    }
   ],
   "source": [
    "loss_list_df[:5]"
   ]
  },
  {
   "cell_type": "markdown",
   "metadata": {},
   "source": [
    "## 6. EPISODES (DEBIASED)"
   ]
  },
  {
   "cell_type": "code",
   "execution_count": 23,
   "metadata": {},
   "outputs": [],
   "source": [
    "# Read in the hyperparameter results\n",
    "results_parameters_dqn_debiased = pd.read_csv('../../optimisation/optimisation_debias/results_parameters_dqn_debiased.csv')\n",
    "results_parameters_dqn_debiased = results_parameters_dqn_debiased[results_parameters_dqn_debiased['data'] == 'initial_data'].reset_index(drop=True)\n",
    "\n",
    "# Initialise a dataframe to store the results\n",
    "columns = [\"agent\", \"running_seed\", \"sample_seed\", \"num_jobs\", \"num_candidates\", \"reward\", \"sampled_men_percent\", \"hired_men_percent\", \"hired_women_count\", \"hired_men_count\", \"data\", \"debiased\"]\n",
    "dqn_debiased_results_df = pd.DataFrame(columns=columns)"
   ]
  },
  {
   "cell_type": "code",
   "execution_count": 24,
   "metadata": {},
   "outputs": [
    {
     "data": {
      "text/html": [
       "<div>\n",
       "<style scoped>\n",
       "    .dataframe tbody tr th:only-of-type {\n",
       "        vertical-align: middle;\n",
       "    }\n",
       "\n",
       "    .dataframe tbody tr th {\n",
       "        vertical-align: top;\n",
       "    }\n",
       "\n",
       "    .dataframe thead th {\n",
       "        text-align: right;\n",
       "    }\n",
       "</style>\n",
       "<table border=\"1\" class=\"dataframe\">\n",
       "  <thead>\n",
       "    <tr style=\"text-align: right;\">\n",
       "      <th></th>\n",
       "      <th>agent</th>\n",
       "      <th>running_seed</th>\n",
       "      <th>sample_seed</th>\n",
       "      <th>num_jobs</th>\n",
       "      <th>num_candidates</th>\n",
       "      <th>reward</th>\n",
       "      <th>sampled_men_percent</th>\n",
       "      <th>hired_men_percent</th>\n",
       "      <th>hired_women_count</th>\n",
       "      <th>hired_men_count</th>\n",
       "      <th>data</th>\n",
       "      <th>debiased</th>\n",
       "    </tr>\n",
       "  </thead>\n",
       "  <tbody>\n",
       "  </tbody>\n",
       "</table>\n",
       "</div>"
      ],
      "text/plain": [
       "Empty DataFrame\n",
       "Columns: [agent, running_seed, sample_seed, num_jobs, num_candidates, reward, sampled_men_percent, hired_men_percent, hired_women_count, hired_men_count, data, debiased]\n",
       "Index: []"
      ]
     },
     "execution_count": 24,
     "metadata": {},
     "output_type": "execute_result"
    }
   ],
   "source": [
    "dqn_debiased_results_df"
   ]
  },
  {
   "cell_type": "code",
   "execution_count": 25,
   "metadata": {},
   "outputs": [
    {
     "data": {
      "text/plain": [
       "<Figure size 640x480 with 0 Axes>"
      ]
     },
     "metadata": {},
     "output_type": "display_data"
    },
    {
     "data": {
      "image/png": "[encoded data removed]",
      "text/plain": [
       "<Figure size 640x480 with 1 Axes>"
      ]
     },
     "metadata": {},
     "output_type": "display_data"
    },
    {
     "name": "stdout",
     "output_type": "stream",
     "text": [
      "Episode 6000: Model loss = 496416672.0\n",
      "Allocations:\n",
      "Job 0 allocated to Candidate 12\n",
      "Job 1 allocated to Candidate 81\n",
      "Job 2 allocated to Candidate 86\n",
      "Job 3 allocated to Candidate 13\n",
      "Job 4 allocated to Candidate 95\n",
      "Job 5 allocated to Candidate 56\n",
      "Job 6 allocated to Candidate 24\n",
      "Job 7 allocated to Candidate 44\n",
      "Job 9 allocated to Candidate 31\n",
      "\n",
      "Gender distribution:\n",
      "   Woman  Man\n",
      "0      2    7\n",
      "None\n",
      "Reward:  -261802.10000000003\n"
     ]
    }
   ],
   "source": [
    "# 10 Jobs, 100 Candidates, running seed 1 (-261802.10000000003)\n",
    "dqn_debiased_results_df, loss_list_debiased_10 = episode_dqn_agent_debiased(10, 100, job_list, candidate_list, results_parameters_dqn_debiased, 1, 6000, dqn_debiased_results_df)"
   ]
  },
  {
   "cell_type": "code",
   "execution_count": 27,
   "metadata": {},
   "outputs": [
    {
     "data": {
      "text/plain": [
       "<Figure size 640x480 with 0 Axes>"
      ]
     },
     "metadata": {},
     "output_type": "display_data"
    },
    {
     "data": {
      "image/png": "[encoded data removed]",
      "text/plain": [
       "<Figure size 640x480 with 1 Axes>"
      ]
     },
     "metadata": {},
     "output_type": "display_data"
    },
    {
     "name": "stdout",
     "output_type": "stream",
     "text": [
      "Episode 6000: Model loss = 545676288.0\n",
      "Allocations:\n",
      "Job 0 allocated to Candidate 89\n",
      "Job 1 allocated to Candidate 12\n",
      "Job 2 allocated to Candidate 86\n",
      "Job 3 allocated to Candidate 25\n",
      "Job 4 allocated to Candidate 31\n",
      "Job 5 allocated to Candidate 56\n",
      "Job 6 allocated to Candidate 81\n",
      "Job 7 allocated to Candidate 24\n",
      "Job 9 allocated to Candidate 64\n",
      "Job 10 allocated to Candidate 68\n",
      "Job 11 allocated to Candidate 73\n",
      "Job 12 allocated to Candidate 65\n",
      "Job 13 allocated to Candidate 95\n",
      "Job 14 allocated to Candidate 0\n",
      "Job 15 allocated to Candidate 16\n",
      "Job 16 allocated to Candidate 90\n",
      "Job 17 allocated to Candidate 13\n",
      "Job 18 allocated to Candidate 49\n",
      "Job 19 allocated to Candidate 71\n",
      "\n",
      "Gender distribution:\n",
      "   Woman  Man\n",
      "0      3   16\n",
      "None\n",
      "Reward:  -1189910.6\n"
     ]
    }
   ],
   "source": [
    "# 20 Jobs, 100 Candidates, running seed 1 (-1189910.6)\n",
    "dqn_debiased_results_df, loss_list_debiased_20 = episode_dqn_agent_debiased(20, 100, job_list, candidate_list, results_parameters_dqn_debiased, 1, 6000, dqn_debiased_results_df)"
   ]
  },
  {
   "cell_type": "code",
   "execution_count": 28,
   "metadata": {},
   "outputs": [
    {
     "data": {
      "text/html": [
       "<div>\n",
       "<style scoped>\n",
       "    .dataframe tbody tr th:only-of-type {\n",
       "        vertical-align: middle;\n",
       "    }\n",
       "\n",
       "    .dataframe tbody tr th {\n",
       "        vertical-align: top;\n",
       "    }\n",
       "\n",
       "    .dataframe thead th {\n",
       "        text-align: right;\n",
       "    }\n",
       "</style>\n",
       "<table border=\"1\" class=\"dataframe\">\n",
       "  <thead>\n",
       "    <tr style=\"text-align: right;\">\n",
       "      <th></th>\n",
       "      <th>agent</th>\n",
       "      <th>running_seed</th>\n",
       "      <th>sample_seed</th>\n",
       "      <th>num_jobs</th>\n",
       "      <th>num_candidates</th>\n",
       "      <th>reward</th>\n",
       "      <th>sampled_men_percent</th>\n",
       "      <th>hired_men_percent</th>\n",
       "      <th>hired_women_count</th>\n",
       "      <th>hired_men_count</th>\n",
       "      <th>data</th>\n",
       "      <th>debiased</th>\n",
       "    </tr>\n",
       "  </thead>\n",
       "  <tbody>\n",
       "    <tr>\n",
       "      <th>0</th>\n",
       "      <td>DQN</td>\n",
       "      <td>1</td>\n",
       "      <td>1</td>\n",
       "      <td>10</td>\n",
       "      <td>100</td>\n",
       "      <td>-261802.1</td>\n",
       "      <td>0.97</td>\n",
       "      <td>0.777778</td>\n",
       "      <td>2</td>\n",
       "      <td>7</td>\n",
       "      <td>initial_data</td>\n",
       "      <td>Yes</td>\n",
       "    </tr>\n",
       "    <tr>\n",
       "      <th>1</th>\n",
       "      <td>DQN</td>\n",
       "      <td>1</td>\n",
       "      <td>1</td>\n",
       "      <td>20</td>\n",
       "      <td>100</td>\n",
       "      <td>-1189910.6</td>\n",
       "      <td>0.97</td>\n",
       "      <td>0.842105</td>\n",
       "      <td>3</td>\n",
       "      <td>16</td>\n",
       "      <td>initial_data</td>\n",
       "      <td>Yes</td>\n",
       "    </tr>\n",
       "  </tbody>\n",
       "</table>\n",
       "</div>"
      ],
      "text/plain": [
       "  agent running_seed sample_seed num_jobs num_candidates     reward  \\\n",
       "0   DQN            1           1       10            100  -261802.1   \n",
       "1   DQN            1           1       20            100 -1189910.6   \n",
       "\n",
       "   sampled_men_percent  hired_men_percent hired_women_count hired_men_count  \\\n",
       "0                 0.97           0.777778                 2               7   \n",
       "1                 0.97           0.842105                 3              16   \n",
       "\n",
       "           data debiased  \n",
       "0  initial_data      Yes  \n",
       "1  initial_data      Yes  "
      ]
     },
     "execution_count": 28,
     "metadata": {},
     "output_type": "execute_result"
    }
   ],
   "source": [
    "dqn_debiased_results_df"
   ]
  },
  {
   "cell_type": "code",
   "execution_count": 29,
   "metadata": {},
   "outputs": [
    {
     "data": {
      "text/plain": [
       "<Figure size 640x480 with 0 Axes>"
      ]
     },
     "metadata": {},
     "output_type": "display_data"
    },
    {
     "data": {
      "image/png": "[encoded data removed]",
      "text/plain": [
       "<Figure size 640x480 with 1 Axes>"
      ]
     },
     "metadata": {},
     "output_type": "display_data"
    },
    {
     "name": "stdout",
     "output_type": "stream",
     "text": [
      "Episode 6000: Model loss = 5.425811739072724e+24\n",
      "Allocations:\n",
      "Job 0 allocated to Candidate 77\n",
      "Job 2 allocated to Candidate 9\n",
      "Job 3 allocated to Candidate 31\n",
      "Job 4 allocated to Candidate 81\n",
      "Job 5 allocated to Candidate 83\n",
      "Job 6 allocated to Candidate 7\n",
      "Job 7 allocated to Candidate 85\n",
      "Job 9 allocated to Candidate 2\n",
      "Job 10 allocated to Candidate 68\n",
      "Job 11 allocated to Candidate 73\n",
      "Job 12 allocated to Candidate 78\n",
      "Job 13 allocated to Candidate 95\n",
      "Job 16 allocated to Candidate 67\n",
      "Job 17 allocated to Candidate 56\n",
      "Job 18 allocated to Candidate 64\n",
      "Job 19 allocated to Candidate 24\n",
      "Job 20 allocated to Candidate 49\n",
      "Job 21 allocated to Candidate 69\n",
      "Job 22 allocated to Candidate 21\n",
      "Job 23 allocated to Candidate 97\n",
      "Job 24 allocated to Candidate 65\n",
      "Job 25 allocated to Candidate 36\n",
      "Job 27 allocated to Candidate 72\n",
      "Job 28 allocated to Candidate 29\n",
      "Job 30 allocated to Candidate 44\n",
      "Job 32 allocated to Candidate 16\n",
      "Job 33 allocated to Candidate 0\n",
      "Job 34 allocated to Candidate 90\n",
      "Job 35 allocated to Candidate 86\n",
      "Job 37 allocated to Candidate 25\n",
      "Job 40 allocated to Candidate 71\n",
      "Job 41 allocated to Candidate 12\n",
      "Job 42 allocated to Candidate 52\n",
      "Job 43 allocated to Candidate 13\n",
      "Job 44 allocated to Candidate 50\n",
      "Job 46 allocated to Candidate 92\n",
      "Job 47 allocated to Candidate 89\n",
      "Job 48 allocated to Candidate 74\n",
      "Job 49 allocated to Candidate 80\n",
      "\n",
      "Gender distribution:\n",
      "   Woman  Man\n",
      "0      3   36\n",
      "None\n",
      "Reward:  -5475272.100000001\n"
     ]
    }
   ],
   "source": [
    "# 50 Jobs, 100 Candidates, running seed 1 (-5475272.100000001)\n",
    "dqn_debiased_results_df, loss_list_debiased_50 = episode_dqn_agent_debiased(50, 100, job_list, candidate_list, results_parameters_dqn_debiased, 1, 6000, dqn_debiased_results_df)"
   ]
  },
  {
   "cell_type": "markdown",
   "metadata": {},
   "source": [
    "## 8. RESULTS (DEBIASED)"
   ]
  },
  {
   "cell_type": "code",
   "execution_count": 30,
   "metadata": {},
   "outputs": [
    {
     "data": {
      "text/html": [
       "<div>\n",
       "<style scoped>\n",
       "    .dataframe tbody tr th:only-of-type {\n",
       "        vertical-align: middle;\n",
       "    }\n",
       "\n",
       "    .dataframe tbody tr th {\n",
       "        vertical-align: top;\n",
       "    }\n",
       "\n",
       "    .dataframe thead th {\n",
       "        text-align: right;\n",
       "    }\n",
       "</style>\n",
       "<table border=\"1\" class=\"dataframe\">\n",
       "  <thead>\n",
       "    <tr style=\"text-align: right;\">\n",
       "      <th></th>\n",
       "      <th>agent</th>\n",
       "      <th>running_seed</th>\n",
       "      <th>sample_seed</th>\n",
       "      <th>num_jobs</th>\n",
       "      <th>num_candidates</th>\n",
       "      <th>reward</th>\n",
       "      <th>sampled_men_percent</th>\n",
       "      <th>hired_men_percent</th>\n",
       "      <th>hired_women_count</th>\n",
       "      <th>hired_men_count</th>\n",
       "      <th>data</th>\n",
       "      <th>debiased</th>\n",
       "    </tr>\n",
       "  </thead>\n",
       "  <tbody>\n",
       "    <tr>\n",
       "      <th>0</th>\n",
       "      <td>DQN</td>\n",
       "      <td>1</td>\n",
       "      <td>1</td>\n",
       "      <td>10</td>\n",
       "      <td>100</td>\n",
       "      <td>-261802.1</td>\n",
       "      <td>0.97</td>\n",
       "      <td>0.777778</td>\n",
       "      <td>2</td>\n",
       "      <td>7</td>\n",
       "      <td>initial_data</td>\n",
       "      <td>Yes</td>\n",
       "    </tr>\n",
       "    <tr>\n",
       "      <th>1</th>\n",
       "      <td>DQN</td>\n",
       "      <td>1</td>\n",
       "      <td>1</td>\n",
       "      <td>20</td>\n",
       "      <td>100</td>\n",
       "      <td>-1189910.6</td>\n",
       "      <td>0.97</td>\n",
       "      <td>0.842105</td>\n",
       "      <td>3</td>\n",
       "      <td>16</td>\n",
       "      <td>initial_data</td>\n",
       "      <td>Yes</td>\n",
       "    </tr>\n",
       "    <tr>\n",
       "      <th>2</th>\n",
       "      <td>DQN</td>\n",
       "      <td>1</td>\n",
       "      <td>1</td>\n",
       "      <td>50</td>\n",
       "      <td>100</td>\n",
       "      <td>-5475272.1</td>\n",
       "      <td>0.97</td>\n",
       "      <td>0.923077</td>\n",
       "      <td>3</td>\n",
       "      <td>36</td>\n",
       "      <td>initial_data</td>\n",
       "      <td>Yes</td>\n",
       "    </tr>\n",
       "  </tbody>\n",
       "</table>\n",
       "</div>"
      ],
      "text/plain": [
       "  agent running_seed sample_seed num_jobs num_candidates     reward  \\\n",
       "0   DQN            1           1       10            100  -261802.1   \n",
       "1   DQN            1           1       20            100 -1189910.6   \n",
       "2   DQN            1           1       50            100 -5475272.1   \n",
       "\n",
       "   sampled_men_percent  hired_men_percent hired_women_count hired_men_count  \\\n",
       "0                 0.97           0.777778                 2               7   \n",
       "1                 0.97           0.842105                 3              16   \n",
       "2                 0.97           0.923077                 3              36   \n",
       "\n",
       "           data debiased  \n",
       "0  initial_data      Yes  \n",
       "1  initial_data      Yes  \n",
       "2  initial_data      Yes  "
      ]
     },
     "execution_count": 30,
     "metadata": {},
     "output_type": "execute_result"
    }
   ],
   "source": [
    "dqn_debiased_results_df"
   ]
  },
  {
   "cell_type": "code",
   "execution_count": 31,
   "metadata": {},
   "outputs": [],
   "source": [
    "# Save the dqn results to a csv file\n",
    "dqn_debiased_results_df.to_csv(\"dqn_debiased_results_initial_data.csv\")"
   ]
  }
 ],
 "metadata": {
  "kernelspec": {
   "display_name": "base",
   "language": "python",
   "name": "python3"
  },
  "language_info": {
   "codemirror_mode": {
    "name": "ipython",
    "version": 3
   },
   "file_extension": ".py",
   "mimetype": "text/x-python",
   "name": "python",
   "nbconvert_exporter": "python",
   "pygments_lexer": "ipython3",
   "version": "3.9.13"
  }
 },
 "nbformat": 4,
 "nbformat_minor": 2
}
