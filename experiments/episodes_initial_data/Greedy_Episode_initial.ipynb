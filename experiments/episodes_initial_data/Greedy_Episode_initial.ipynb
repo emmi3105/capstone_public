{
 "cells": [
  {
   "cell_type": "markdown",
   "metadata": {},
   "source": [
    "<h1 style=\"text-align: center;\">GREEDY EPISODE (INITIAL DATA)</h1>"
   ]
  },
  {
   "cell_type": "markdown",
   "metadata": {},
   "source": [
    "## 0. PACKAGE REQUIREMENTS"
   ]
  },
  {
   "cell_type": "code",
   "execution_count": 1,
   "metadata": {},
   "outputs": [],
   "source": [
    "# Packages \n",
    "import random\n",
    "import pandas as pd\n",
    "import numpy as np\n",
    "import sys\n",
    "import os\n",
    "from IPython.display import clear_output\n",
    "\n",
    "# Model imports\n",
    "import sys\n",
    "import os"
   ]
  },
  {
   "cell_type": "code",
   "execution_count": 2,
   "metadata": {},
   "outputs": [],
   "source": [
    "# Environment requirements\n",
    "module_path = os.path.abspath(os.path.join('..', '..', 'environment'))\n",
    "if module_path not in sys.path:\n",
    "    sys.path.append(module_path)\n",
    "from environment_basic import Job, Candidate, Environment\n",
    "\n",
    "# Agent requirements\n",
    "module_path = os.path.abspath(os.path.join('..', '..', 'agents'))\n",
    "if module_path not in sys.path:\n",
    "    sys.path.append(module_path)\n",
    "from agents_basic import GreedyAgent\n",
    "\n",
    "# Tool requirements\n",
    "module_path = os.path.abspath(os.path.join('..', '..', 'tools'))\n",
    "if module_path not in sys.path:\n",
    "    sys.path.append(module_path)\n",
    "from tools import calculate_sampled_men, calculate_hired_men"
   ]
  },
  {
   "cell_type": "markdown",
   "metadata": {},
   "source": [
    "## 1. GREEDY EPISODE FUNCTIONS"
   ]
  },
  {
   "cell_type": "code",
   "execution_count": 3,
   "metadata": {},
   "outputs": [],
   "source": [
    "# Function that runs the greedy agent on the sample data\n",
    "def run_greedy_agent(sample_jobs, sample_candidates):\n",
    "    env = Environment(sample_jobs, sample_candidates)\n",
    "    agent = GreedyAgent()\n",
    "    state = env.reset()\n",
    "    done = False\n",
    "    total_reward = 0\n",
    "\n",
    "    while not done:\n",
    "\n",
    "        action = agent.select_action(state)\n",
    "        next_state, reward, done = env.step(action)\n",
    "        total_reward += reward\n",
    "        state = next_state\n",
    "\n",
    "        if done:\n",
    "            print('Final state:')\n",
    "            state.display_state()\n",
    "            print('\\nEpisode Reward:')\n",
    "            print(total_reward)\n",
    "            gender_distribution = state.gender_distribution \n",
    "            break\n",
    "    \n",
    "    return gender_distribution, total_reward"
   ]
  },
  {
   "cell_type": "code",
   "execution_count": 4,
   "metadata": {},
   "outputs": [],
   "source": [
    "# Function that initialises the sample, sets the seed and executes the greedy agent\n",
    "\n",
    "def episode_greedy_agent(num_jobs, num_candidates, job_list, candidate_list, results_df):\n",
    "    # Initialise the data\n",
    "    random.seed(1)\n",
    "    sample_jobs = random.sample(job_list, num_jobs)\n",
    "\n",
    "    random.seed(1)\n",
    "    sample_candidates = random.sample(candidate_list, num_candidates)\n",
    "\n",
    "    gender_distribution, total_reward = run_greedy_agent(sample_jobs, sample_candidates)\n",
    "\n",
    "    sampled_men = calculate_sampled_men(sample_candidates)\n",
    "    hired_men = calculate_hired_men(gender_distribution)\n",
    "\n",
    "    # Add the results to results_df\n",
    "    new_row = pd.DataFrame([{\"agent\": \"Greedy\", \"running_seed\": None, \"sample_seed\": 1, \"num_jobs\": num_jobs, \"num_candidates\": num_candidates, \n",
    "                                 \"reward\": total_reward,  \"sampled_men_percent\": sampled_men, \"hired_men_percent\": hired_men,\n",
    "                                 \"data\": 'initial_data', \"debiased\": 'No'}])\n",
    "\n",
    "    results_df = pd.concat([results_df, new_row], ignore_index=True)\n",
    "\n",
    "    return results_df"
   ]
  },
  {
   "cell_type": "markdown",
   "metadata": {},
   "source": [
    "## 2. INITIALISE THE DATA"
   ]
  },
  {
   "cell_type": "code",
   "execution_count": 5,
   "metadata": {},
   "outputs": [
    {
     "name": "stdout",
     "output_type": "stream",
     "text": [
      "Job Data: 806  Candidate Data: 49005\n"
     ]
    }
   ],
   "source": [
    "# Read in the job data\n",
    "file_path = '../../data/cleaned_data/jobs_cleaned.csv'\n",
    "jobs_df = pd.read_csv(file_path)\n",
    "\n",
    "# Read in the candidate data\n",
    "file_path = '../../data/cleaned_data/candidates_cleaned.csv'\n",
    "candidates_df = pd.read_csv(file_path)\n",
    "\n",
    "# Initialise the class objects with data from the dataframes\n",
    "job_list = []\n",
    "for i in range(len(jobs_df)):\n",
    "    job = Job(i+1, jobs_df['Degree_Bachelor'][i], jobs_df['Degree_Master'][i], jobs_df['Degree_Other'][i],\n",
    "              jobs_df['Software_Programming'][i], jobs_df['C_Programming'][i], jobs_df['Python_Programming'][i], \n",
    "              jobs_df['JavaScript_Programming'][i], jobs_df['Professional_Software_Experience'][i], \n",
    "              jobs_df['Management_Skills'][i], jobs_df['Engineer'][i], int(jobs_df['Minimum_Pay'][i]))\n",
    "    job_list.append(job)\n",
    "\n",
    "candidate_list = []\n",
    "for i in range(len(candidates_df)):\n",
    "    candidate = Candidate(i+1, candidates_df['Gender'][i], candidates_df['Degree_Bachelor'][i], candidates_df['Degree_Master'][i], candidates_df['Degree_Other'][i], \n",
    "                          candidates_df['Software_Programming'][i], candidates_df['C_Programming'][i], candidates_df['Python_Programming'][i], \n",
    "                          candidates_df['JavaScript_Programming'][i], candidates_df['Professional_Software_Experience'][i], \n",
    "                          candidates_df['Management_Skills'][i], candidates_df['Engineer'][i], int(candidates_df['Previous_Pay'][i]))\n",
    "    candidate_list.append(candidate)\n",
    "\n",
    "print(\"Job Data:\", len(job_list), \" Candidate Data:\", len(candidate_list))"
   ]
  },
  {
   "cell_type": "markdown",
   "metadata": {},
   "source": [
    "## 3. EPISODES"
   ]
  },
  {
   "cell_type": "code",
   "execution_count": 6,
   "metadata": {},
   "outputs": [],
   "source": [
    "# Initialise a dataframe to store the results\n",
    "columns = [\"agent\", \"running_seed\", \"sample_seed\", \"num_jobs\", \"num_candidates\", \"reward\", \"sampled_men_percent\", \"hired_men_percent\", \"data\", \"debiased\"]\n",
    "greedy_results_df = pd.DataFrame(columns=columns)"
   ]
  },
  {
   "cell_type": "code",
   "execution_count": 7,
   "metadata": {},
   "outputs": [
    {
     "name": "stdout",
     "output_type": "stream",
     "text": [
      "Final state:\n",
      "Allocations:\n",
      "Job 0 allocated to Candidate 12\n",
      "Job 1 allocated to Candidate 16\n",
      "Job 2 allocated to Candidate 86\n",
      "Job 3 allocated to Candidate 95\n",
      "Job 4 allocated to Candidate 56\n",
      "Job 5 allocated to Candidate 13\n",
      "Job 6 allocated to Candidate 24\n",
      "Job 7 allocated to Candidate 81\n",
      "Job 9 allocated to Candidate 25\n",
      "\n",
      "Gender distribution:\n",
      "   Woman  Man\n",
      "0      1    8\n",
      "\n",
      "Episode Reward:\n",
      "-211399\n"
     ]
    }
   ],
   "source": [
    "# 10 Jobs, 100 Candidates\n",
    "greedy_results_df = episode_greedy_agent(10, 100, job_list, candidate_list, greedy_results_df)"
   ]
  },
  {
   "cell_type": "code",
   "execution_count": 8,
   "metadata": {},
   "outputs": [
    {
     "name": "stdout",
     "output_type": "stream",
     "text": [
      "Final state:\n",
      "Allocations:\n",
      "Job 0 allocated to Candidate 12\n",
      "Job 1 allocated to Candidate 16\n",
      "Job 2 allocated to Candidate 86\n",
      "Job 3 allocated to Candidate 95\n",
      "Job 4 allocated to Candidate 56\n",
      "Job 5 allocated to Candidate 13\n",
      "Job 6 allocated to Candidate 24\n",
      "Job 7 allocated to Candidate 81\n",
      "Job 9 allocated to Candidate 25\n",
      "Job 10 allocated to Candidate 68\n",
      "Job 11 allocated to Candidate 31\n",
      "Job 12 allocated to Candidate 78\n",
      "Job 13 allocated to Candidate 73\n",
      "Job 14 allocated to Candidate 0\n",
      "Job 15 allocated to Candidate 7\n",
      "Job 16 allocated to Candidate 90\n",
      "Job 17 allocated to Candidate 65\n",
      "Job 18 allocated to Candidate 71\n",
      "Job 19 allocated to Candidate 49\n",
      "\n",
      "Gender distribution:\n",
      "   Woman  Man\n",
      "0      2   17\n",
      "\n",
      "Episode Reward:\n",
      "-658349\n"
     ]
    }
   ],
   "source": [
    "# 20 Jobs, 100 Candidates\n",
    "greedy_results_df = episode_greedy_agent(20, 100, job_list, candidate_list, greedy_results_df)"
   ]
  },
  {
   "cell_type": "code",
   "execution_count": 9,
   "metadata": {},
   "outputs": [
    {
     "name": "stdout",
     "output_type": "stream",
     "text": [
      "Final state:\n",
      "Allocations:\n",
      "Job 0 allocated to Candidate 89\n",
      "Job 1 allocated to Candidate 36\n",
      "Job 2 allocated to Candidate 86\n",
      "Job 3 allocated to Candidate 95\n",
      "Job 4 allocated to Candidate 56\n",
      "Job 5 allocated to Candidate 13\n",
      "Job 6 allocated to Candidate 81\n",
      "Job 7 allocated to Candidate 0\n",
      "Job 9 allocated to Candidate 31\n",
      "Job 10 allocated to Candidate 68\n",
      "Job 11 allocated to Candidate 65\n",
      "Job 12 allocated to Candidate 50\n",
      "Job 13 allocated to Candidate 64\n",
      "Job 16 allocated to Candidate 90\n",
      "Job 17 allocated to Candidate 72\n",
      "Job 18 allocated to Candidate 71\n",
      "Job 19 allocated to Candidate 49\n",
      "Job 20 allocated to Candidate 78\n",
      "Job 21 allocated to Candidate 20\n",
      "Job 22 allocated to Candidate 75\n",
      "Job 23 allocated to Candidate 97\n",
      "Job 24 allocated to Candidate 2\n",
      "Job 25 allocated to Candidate 24\n",
      "Job 27 allocated to Candidate 44\n",
      "Job 28 allocated to Candidate 29\n",
      "Job 30 allocated to Candidate 80\n",
      "Job 32 allocated to Candidate 16\n",
      "Job 33 allocated to Candidate 74\n",
      "Job 34 allocated to Candidate 84\n",
      "Job 35 allocated to Candidate 9\n",
      "Job 37 allocated to Candidate 25\n",
      "Job 40 allocated to Candidate 73\n",
      "Job 41 allocated to Candidate 12\n",
      "Job 42 allocated to Candidate 26\n",
      "Job 43 allocated to Candidate 88\n",
      "Job 44 allocated to Candidate 83\n",
      "Job 45 allocated to Candidate 7\n",
      "Job 46 allocated to Candidate 85\n",
      "Job 47 allocated to Candidate 10\n",
      "Job 48 allocated to Candidate 52\n",
      "Job 49 allocated to Candidate 21\n",
      "\n",
      "Gender distribution:\n",
      "   Woman  Man\n",
      "0      3   38\n",
      "\n",
      "Episode Reward:\n",
      "-2187552\n"
     ]
    }
   ],
   "source": [
    "# 50 Jobs, 100 Candidates\n",
    "greedy_results_df = episode_greedy_agent(50, 100, job_list, candidate_list, greedy_results_df)"
   ]
  },
  {
   "cell_type": "code",
   "execution_count": 10,
   "metadata": {},
   "outputs": [
    {
     "name": "stdout",
     "output_type": "stream",
     "text": [
      "Final state:\n",
      "Allocations:\n",
      "Job 0 allocated to Candidate 89\n",
      "Job 2 allocated to Candidate 71\n",
      "Job 3 allocated to Candidate 95\n",
      "Job 4 allocated to Candidate 56\n",
      "Job 5 allocated to Candidate 88\n",
      "Job 6 allocated to Candidate 16\n",
      "Job 7 allocated to Candidate 0\n",
      "Job 9 allocated to Candidate 83\n",
      "Job 10 allocated to Candidate 68\n",
      "Job 11 allocated to Candidate 85\n",
      "Job 12 allocated to Candidate 21\n",
      "Job 13 allocated to Candidate 99\n",
      "Job 16 allocated to Candidate 90\n",
      "Job 17 allocated to Candidate 67\n",
      "Job 18 allocated to Candidate 49\n",
      "Job 19 allocated to Candidate 78\n",
      "Job 20 allocated to Candidate 73\n",
      "Job 21 allocated to Candidate 69\n",
      "Job 22 allocated to Candidate 33\n",
      "Job 23 allocated to Candidate 70\n",
      "Job 24 allocated to Candidate 92\n",
      "Job 25 allocated to Candidate 24\n",
      "Job 27 allocated to Candidate 20\n",
      "Job 28 allocated to Candidate 87\n",
      "Job 30 allocated to Candidate 6\n",
      "Job 32 allocated to Candidate 36\n",
      "Job 33 allocated to Candidate 7\n",
      "Job 34 allocated to Candidate 75\n",
      "Job 35 allocated to Candidate 46\n",
      "Job 37 allocated to Candidate 25\n",
      "Job 40 allocated to Candidate 65\n",
      "Job 42 allocated to Candidate 31\n",
      "Job 43 allocated to Candidate 18\n",
      "Job 44 allocated to Candidate 23\n",
      "Job 45 allocated to Candidate 74\n",
      "Job 46 allocated to Candidate 63\n",
      "Job 48 allocated to Candidate 77\n",
      "Job 49 allocated to Candidate 42\n",
      "Job 50 allocated to Candidate 52\n",
      "Job 52 allocated to Candidate 12\n",
      "Job 54 allocated to Candidate 10\n",
      "Job 56 allocated to Candidate 1\n",
      "Job 57 allocated to Candidate 81\n",
      "Job 60 allocated to Candidate 13\n",
      "Job 61 allocated to Candidate 50\n",
      "Job 62 allocated to Candidate 84\n",
      "Job 66 allocated to Candidate 64\n",
      "Job 69 allocated to Candidate 72\n",
      "Job 72 allocated to Candidate 94\n",
      "Job 76 allocated to Candidate 98\n",
      "Job 78 allocated to Candidate 9\n",
      "Job 80 allocated to Candidate 19\n",
      "Job 81 allocated to Candidate 14\n",
      "Job 82 allocated to Candidate 26\n",
      "Job 83 allocated to Candidate 66\n",
      "Job 84 allocated to Candidate 2\n",
      "Job 86 allocated to Candidate 29\n",
      "Job 89 allocated to Candidate 44\n",
      "Job 92 allocated to Candidate 80\n",
      "Job 93 allocated to Candidate 58\n",
      "Job 95 allocated to Candidate 86\n",
      "Job 97 allocated to Candidate 97\n",
      "\n",
      "Gender distribution:\n",
      "   Woman  Man\n",
      "0      3   59\n",
      "\n",
      "Episode Reward:\n",
      "-3932078\n"
     ]
    }
   ],
   "source": [
    "# 100 Jobs, 100 Candidates\n",
    "greedy_results_df = episode_greedy_agent(100, 100, job_list, candidate_list, greedy_results_df)"
   ]
  },
  {
   "cell_type": "code",
   "execution_count": 11,
   "metadata": {},
   "outputs": [
    {
     "data": {
      "text/html": [
       "<div>\n",
       "<style scoped>\n",
       "    .dataframe tbody tr th:only-of-type {\n",
       "        vertical-align: middle;\n",
       "    }\n",
       "\n",
       "    .dataframe tbody tr th {\n",
       "        vertical-align: top;\n",
       "    }\n",
       "\n",
       "    .dataframe thead th {\n",
       "        text-align: right;\n",
       "    }\n",
       "</style>\n",
       "<table border=\"1\" class=\"dataframe\">\n",
       "  <thead>\n",
       "    <tr style=\"text-align: right;\">\n",
       "      <th></th>\n",
       "      <th>agent</th>\n",
       "      <th>running_seed</th>\n",
       "      <th>sample_seed</th>\n",
       "      <th>num_jobs</th>\n",
       "      <th>num_candidates</th>\n",
       "      <th>reward</th>\n",
       "      <th>sampled_men_percent</th>\n",
       "      <th>hired_men_percent</th>\n",
       "      <th>data</th>\n",
       "      <th>debiased</th>\n",
       "    </tr>\n",
       "  </thead>\n",
       "  <tbody>\n",
       "    <tr>\n",
       "      <th>0</th>\n",
       "      <td>Greedy</td>\n",
       "      <td>None</td>\n",
       "      <td>1</td>\n",
       "      <td>10</td>\n",
       "      <td>100</td>\n",
       "      <td>-211399</td>\n",
       "      <td>0.97</td>\n",
       "      <td>0.888889</td>\n",
       "      <td>initial_data</td>\n",
       "      <td>No</td>\n",
       "    </tr>\n",
       "    <tr>\n",
       "      <th>1</th>\n",
       "      <td>Greedy</td>\n",
       "      <td>None</td>\n",
       "      <td>1</td>\n",
       "      <td>20</td>\n",
       "      <td>100</td>\n",
       "      <td>-658349</td>\n",
       "      <td>0.97</td>\n",
       "      <td>0.894737</td>\n",
       "      <td>initial_data</td>\n",
       "      <td>No</td>\n",
       "    </tr>\n",
       "    <tr>\n",
       "      <th>2</th>\n",
       "      <td>Greedy</td>\n",
       "      <td>None</td>\n",
       "      <td>1</td>\n",
       "      <td>50</td>\n",
       "      <td>100</td>\n",
       "      <td>-2187552</td>\n",
       "      <td>0.97</td>\n",
       "      <td>0.926829</td>\n",
       "      <td>initial_data</td>\n",
       "      <td>No</td>\n",
       "    </tr>\n",
       "    <tr>\n",
       "      <th>3</th>\n",
       "      <td>Greedy</td>\n",
       "      <td>None</td>\n",
       "      <td>1</td>\n",
       "      <td>100</td>\n",
       "      <td>100</td>\n",
       "      <td>-3932078</td>\n",
       "      <td>0.97</td>\n",
       "      <td>0.951613</td>\n",
       "      <td>initial_data</td>\n",
       "      <td>No</td>\n",
       "    </tr>\n",
       "  </tbody>\n",
       "</table>\n",
       "</div>"
      ],
      "text/plain": [
       "    agent running_seed sample_seed num_jobs num_candidates    reward  \\\n",
       "0  Greedy         None           1       10            100   -211399   \n",
       "1  Greedy         None           1       20            100   -658349   \n",
       "2  Greedy         None           1       50            100  -2187552   \n",
       "3  Greedy         None           1      100            100  -3932078   \n",
       "\n",
       "   sampled_men_percent  hired_men_percent          data debiased  \n",
       "0                 0.97           0.888889  initial_data       No  \n",
       "1                 0.97           0.894737  initial_data       No  \n",
       "2                 0.97           0.926829  initial_data       No  \n",
       "3                 0.97           0.951613  initial_data       No  "
      ]
     },
     "execution_count": 11,
     "metadata": {},
     "output_type": "execute_result"
    }
   ],
   "source": [
    "greedy_results_df"
   ]
  },
  {
   "cell_type": "code",
   "execution_count": 12,
   "metadata": {},
   "outputs": [],
   "source": [
    "# Save the greedy results in a csv\n",
    "greedy_results_df.to_csv(\"greedy_results_initial.csv\")"
   ]
  }
 ],
 "metadata": {
  "kernelspec": {
   "display_name": "base",
   "language": "python",
   "name": "python3"
  },
  "language_info": {
   "codemirror_mode": {
    "name": "ipython",
    "version": 3
   },
   "file_extension": ".py",
   "mimetype": "text/x-python",
   "name": "python",
   "nbconvert_exporter": "python",
   "pygments_lexer": "ipython3",
   "version": "3.9.13"
  }
 },
 "nbformat": 4,
 "nbformat_minor": 2
}
