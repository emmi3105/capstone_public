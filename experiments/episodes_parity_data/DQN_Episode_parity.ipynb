{
 "cells": [
  {
   "cell_type": "markdown",
   "metadata": {},
   "source": [
    "<h1 style=\"text-align: center;\">DQN EPISODE (PARITY DATA)</h1>"
   ]
  },
  {
   "cell_type": "markdown",
   "metadata": {},
   "source": [
    "## 0. PACKAGE REQUIREMENTS"
   ]
  },
  {
   "cell_type": "code",
   "execution_count": 1,
   "metadata": {},
   "outputs": [
    {
     "name": "stderr",
     "output_type": "stream",
     "text": [
      "/Users/emilialautz/opt/anaconda3/lib/python3.9/site-packages/scipy/__init__.py:155: UserWarning: A NumPy version >=1.18.5 and <1.25.0 is required for this version of SciPy (detected version 1.26.4\n",
      "  warnings.warn(f\"A NumPy version >={np_minversion} and <{np_maxversion}\"\n"
     ]
    }
   ],
   "source": [
    "# Packages\n",
    "import random\n",
    "import pandas as pd\n",
    "import numpy as np\n",
    "import matplotlib.pyplot as plt\n",
    "import matplotlib \n",
    "from matplotlib.colors import LinearSegmentedColormap\n",
    "import seaborn as sns\n",
    "from IPython import display\n",
    "from IPython.display import clear_output\n",
    "from ipywidgets import Output\n",
    "import warnings\n",
    "\n",
    "# DQN Requirements\n",
    "import torch\n",
    "import torch.nn as nn\n",
    "import torch.optim as optim\n",
    "import torch.nn.functional as F\n",
    "from collections import namedtuple\n",
    "\n",
    "# Model imports\n",
    "import sys\n",
    "import os"
   ]
  },
  {
   "cell_type": "code",
   "execution_count": 2,
   "metadata": {},
   "outputs": [],
   "source": [
    "warnings.filterwarnings(\"ignore\", message=\".*To copy construct from a tensor.*\")"
   ]
  },
  {
   "cell_type": "code",
   "execution_count": 3,
   "metadata": {},
   "outputs": [],
   "source": [
    "# Environment requirements\n",
    "module_path = os.path.abspath(os.path.join('..', '..', 'environment'))\n",
    "if module_path not in sys.path:\n",
    "    sys.path.append(module_path)\n",
    "from environment import Job, Candidate, Environment\n",
    "\n",
    "module_path = os.path.abspath(os.path.join('..', '..', 'environment'))\n",
    "if module_path not in sys.path:\n",
    "    sys.path.append(module_path)\n",
    "from environment_debias import EnvironmentDebiased\n",
    "\n",
    "# Agent requirements\n",
    "module_path = os.path.abspath(os.path.join('..', '..', 'agents'))\n",
    "if module_path not in sys.path:\n",
    "    sys.path.append(module_path)\n",
    "from agents import DQNAgent, DQN, ReplayBuffer\n",
    "\n",
    "# Tool requirements\n",
    "module_path = os.path.abspath(os.path.join('..', '..', 'tools'))\n",
    "if module_path not in sys.path:\n",
    "    sys.path.append(module_path)\n",
    "from tools import calculate_sampled_men, calculate_hired_men, get_best_allocation, visualize_loss, set_seed"
   ]
  },
  {
   "cell_type": "markdown",
   "metadata": {},
   "source": [
    "## 1. DQN EPISODE FUNCTIONS"
   ]
  },
  {
   "cell_type": "code",
   "execution_count": 4,
   "metadata": {},
   "outputs": [],
   "source": [
    "def run_dqn_agent(sample_jobs, sample_candidates, batch_size, gamma, epsilon, epsilon_min, epsilon_decay, learning_rate, num_episodes, show_schedule = False):\n",
    "    # Initialise the environment\n",
    "    env = Environment(sample_jobs, sample_candidates)\n",
    "    state = env.reset()\n",
    "    state_tensor = torch.tensor(state.to_tensor(), dtype=torch.float32).unsqueeze(0)\n",
    "\n",
    "    # Initialise the state and action sizes\n",
    "    state_size = state.num_jobs * state.num_candidates \n",
    "    action_size = len(state.available_actions)\n",
    "\n",
    "    episode_rewards = []\n",
    "    loss_list = []\n",
    "    iteration = 0\n",
    "\n",
    "    # Initialise the agent\n",
    "    agent = DQNAgent(state_size, action_size, env, batch_size, gamma, epsilon, epsilon_min, epsilon_decay, learning_rate)\n",
    "    print(f\"State size: {state_size}, Action size: {action_size}\")\n",
    "\n",
    "    for _ in range(num_episodes):\n",
    "        iteration += 1\n",
    "        state = env.reset()\n",
    "        state_tensor = torch.tensor(state.to_tensor(), dtype=torch.float32).unsqueeze(0)\n",
    "        total_reward = 0\n",
    "        done = False\n",
    "\n",
    "        while not done:\n",
    "            action_tuple = agent.select_action(state_tensor, env.current_state.available_actions, env.action_indices)\n",
    "            next_state, reward, done = env.step(action_tuple)\n",
    "            next_state_tensor = torch.tensor(next_state.to_tensor(), dtype=torch.float32).unsqueeze(0)\n",
    "\n",
    "            agent.store_transition(state_tensor, action_tuple, reward, next_state_tensor, done)\n",
    "            state_tensor = next_state_tensor\n",
    "\n",
    "            loss = agent.optimize_model()\n",
    "            total_reward += reward\n",
    "\n",
    "            if done:\n",
    "                agent.update_target_net()\n",
    "                episode_rewards.append(total_reward)\n",
    "                break\n",
    "        \n",
    "        loss_list.append(loss)\n",
    "\n",
    "        # Visualise the loss\n",
    "        if iteration % 50 == 0:\n",
    "            visualize_loss(loss_list)\n",
    "            print(f\"Episode {iteration}: Model loss = {loss}\")\n",
    "    \n",
    "    # Save and load the model\n",
    "    agent.save_model('DQN_optimisation')\n",
    "    agent.load_model('DQN_optimisation')\n",
    "        \n",
    "    gender_distribution, tot_reward = get_best_allocation(agent, env, show_schedule=True)\n",
    "\n",
    "    return gender_distribution, tot_reward, loss_list"
   ]
  },
  {
   "cell_type": "code",
   "execution_count": 5,
   "metadata": {},
   "outputs": [],
   "source": [
    "def episode_dqn_agent(num_jobs, num_candidates, job_list, candidate_list, results_parameters_dqn, running_seed, num_episodes, results_df):\n",
    "    # Initialise the data\n",
    "    random.seed(1)\n",
    "    sample_jobs = random.sample(job_list, num_jobs)\n",
    "    random.seed(1)\n",
    "    sample_candidates = random.sample(candidate_list, num_candidates)\n",
    "\n",
    "    # Extract the optimised parameters\n",
    "    parameters_df = results_parameters_dqn[(results_parameters_dqn['jobs'] == num_jobs) & (results_parameters_dqn['candidates'] == num_candidates)]\n",
    "    best_row = results_parameters_dqn.iloc[parameters_df['total_reward'].idxmax()]\n",
    "\n",
    "    batch_size = int(best_row['batch_size'])\n",
    "    gamma = best_row['gamma']\n",
    "    epsilon = best_row['epsilon']\n",
    "    epsilon_min = best_row['epsilon_min']\n",
    "    epsilon_decay = best_row['epsilon_decay']\n",
    "    learning_rate = best_row['learning_rate']\n",
    "\n",
    "    # Run the dqn agent\n",
    "    set_seed(running_seed)\n",
    "    gender_distribution, total_reward, loss_list = run_dqn_agent(sample_jobs, sample_candidates, batch_size, gamma, epsilon, epsilon_min, epsilon_decay, learning_rate, num_episodes)\n",
    "\n",
    "    # Evaluate the allocations\n",
    "    sampled_men = calculate_sampled_men(sample_candidates)\n",
    "    hired_men = calculate_hired_men(gender_distribution)\n",
    "\n",
    "    # Add the results to results_df\n",
    "    new_row = pd.DataFrame([{\"agent\": \"DQN\", \"running_seed\": running_seed, \"sample_seed\": 1, \"num_jobs\": num_jobs, \"num_candidates\": num_candidates, \n",
    "                             \"reward\": total_reward,  \"sampled_men_percent\": sampled_men, \"hired_men_percent\": hired_men,\n",
    "                             \"data\": 'parity_data', \"debiased\": 'No'}])\n",
    "    results_df = pd.concat([results_df, new_row], ignore_index=True)\n",
    "\n",
    "    return results_df, loss_list\n"
   ]
  },
  {
   "cell_type": "code",
   "execution_count": 6,
   "metadata": {},
   "outputs": [],
   "source": [
    "def run_dqn_agent_debiased(sample_jobs, sample_candidates, batch_size, gamma, epsilon, epsilon_min, epsilon_decay, learning_rate, num_episodes, show_schedule = False):\n",
    "    # Initialise the environment\n",
    "    env = EnvironmentDebiased(sample_jobs, sample_candidates)\n",
    "    state = env.reset()\n",
    "    state_tensor = torch.tensor(state.to_tensor(), dtype=torch.float32).unsqueeze(0)\n",
    "\n",
    "    # Initialise the state and action sizes\n",
    "    state_size = state.num_jobs * state.num_candidates \n",
    "    action_size = len(state.available_actions)\n",
    "\n",
    "    episode_rewards = []\n",
    "    loss_list = []\n",
    "    iteration = 0\n",
    "\n",
    "    # Initialise the agent\n",
    "    agent = DQNAgent(state_size, action_size, env, batch_size, gamma, epsilon, epsilon_min, epsilon_decay, learning_rate)\n",
    "    print(f\"State size: {state_size}, Action size: {action_size}\")\n",
    "\n",
    "    for _ in range(num_episodes):\n",
    "        iteration += 1\n",
    "        state = env.reset()\n",
    "        state_tensor = torch.tensor(state.to_tensor(), dtype=torch.float32).unsqueeze(0)\n",
    "        total_reward = 0\n",
    "        done = False\n",
    "\n",
    "        while not done:\n",
    "            action_tuple = agent.select_action(state_tensor, env.current_state.available_actions, env.action_indices)\n",
    "            next_state, reward, done = env.step(action_tuple)\n",
    "            next_state_tensor = torch.tensor(next_state.to_tensor(), dtype=torch.float32).unsqueeze(0)\n",
    "\n",
    "            agent.store_transition(state_tensor, action_tuple, reward, next_state_tensor, done)\n",
    "            state_tensor = next_state_tensor\n",
    "\n",
    "            loss = agent.optimize_model()\n",
    "            total_reward += reward\n",
    "\n",
    "            if done:\n",
    "                agent.update_target_net()\n",
    "                episode_rewards.append(total_reward)\n",
    "                break\n",
    "        \n",
    "        loss_list.append(loss)\n",
    "\n",
    "        # Visualise the loss\n",
    "        if iteration % 50 == 0:\n",
    "            visualize_loss(loss_list)\n",
    "            print(f\"Episode {iteration}: Model loss = {loss}\")\n",
    "    \n",
    "    # Save and load the model\n",
    "    agent.save_model('DQN_optimisation')\n",
    "    agent.load_model('DQN_optimisation')\n",
    "        \n",
    "    gender_distribution, tot_reward = get_best_allocation(agent, env, show_schedule=True)\n",
    "\n",
    "    return gender_distribution, tot_reward, loss_list"
   ]
  },
  {
   "cell_type": "code",
   "execution_count": 7,
   "metadata": {},
   "outputs": [],
   "source": [
    "def episode_dqn_agent_debiased(num_jobs, num_candidates, job_list, candidate_list, results_parameters_dqn, running_seed, num_episodes, results_df):\n",
    "    # Initialise the data\n",
    "    random.seed(1)\n",
    "    sample_jobs = random.sample(job_list, num_jobs)\n",
    "    random.seed(1)\n",
    "    sample_candidates = random.sample(candidate_list, num_candidates)\n",
    "\n",
    "    # Extract the optimised parameters\n",
    "    parameters_df = results_parameters_dqn[(results_parameters_dqn['jobs'] == num_jobs) & (results_parameters_dqn['candidates'] == num_candidates)]\n",
    "    best_row = results_parameters_dqn.iloc[parameters_df['total_reward'].idxmax()]\n",
    "\n",
    "    batch_size = int(best_row['batch_size'])\n",
    "    gamma = best_row['gamma']\n",
    "    epsilon = best_row['epsilon']\n",
    "    epsilon_min = best_row['epsilon_min']\n",
    "    epsilon_decay = best_row['epsilon_decay']\n",
    "    learning_rate = best_row['learning_rate']\n",
    "\n",
    "    # Run the dqn agent\n",
    "    set_seed(running_seed)\n",
    "    gender_distribution, total_reward, loss_list = run_dqn_agent_debiased(sample_jobs, sample_candidates, batch_size, gamma, epsilon, epsilon_min, epsilon_decay, learning_rate, num_episodes)\n",
    "\n",
    "    # Evaluate the allocations\n",
    "    sampled_men = calculate_sampled_men(sample_candidates)\n",
    "    hired_men = calculate_hired_men(gender_distribution)\n",
    "\n",
    "    # Add the results to results_df\n",
    "    new_row = pd.DataFrame([{\"agent\": \"DQN\", \"running_seed\": running_seed, \"sample_seed\": 1, \"num_jobs\": num_jobs, \"num_candidates\": num_candidates, \n",
    "                             \"reward\": total_reward,  \"sampled_men_percent\": sampled_men, \"hired_men_percent\": hired_men,\n",
    "                             \"data\": 'parity_data', \"debiased\": 'Yes'}])\n",
    "    results_df = pd.concat([results_df, new_row], ignore_index=True)\n",
    "\n",
    "    return results_df, loss_list"
   ]
  },
  {
   "cell_type": "markdown",
   "metadata": {},
   "source": [
    "## 2. INITIALISE THE DATA"
   ]
  },
  {
   "cell_type": "code",
   "execution_count": 8,
   "metadata": {},
   "outputs": [
    {
     "data": {
      "text/plain": [
       "1    2329\n",
       "2    2329\n",
       "Name: Gender, dtype: int64"
      ]
     },
     "execution_count": 8,
     "metadata": {},
     "output_type": "execute_result"
    }
   ],
   "source": [
    "# Read in the job data\n",
    "file_path = '../../data/jobs_data_cleaned.csv'\n",
    "jobs_df = pd.read_csv(file_path)\n",
    "\n",
    "# Read in the candidate data\n",
    "file_path = '../../data/candidates_data_cleaned.csv'\n",
    "candidates_df = pd.read_csv(file_path)\n",
    "\n",
    "# Create a parity data set\n",
    "women_df = candidates_df[candidates_df['Gender'] == 1]\n",
    "men_df = candidates_df[candidates_df['Gender'] == 2]\n",
    "\n",
    "sampled_men_df = men_df.sample(n=len(women_df), random_state=1)\n",
    "parity_df = pd.concat([women_df, sampled_men_df], ignore_index=True)\n",
    "\n",
    "parity_df['Gender'].value_counts()"
   ]
  },
  {
   "cell_type": "code",
   "execution_count": 9,
   "metadata": {},
   "outputs": [
    {
     "name": "stdout",
     "output_type": "stream",
     "text": [
      "Job Data: 806  Candidate Data: 4658\n"
     ]
    }
   ],
   "source": [
    "# Initialise the class objects with data from the dataframes\n",
    "job_list = []\n",
    "for i in range(len(jobs_df)):\n",
    "    job = Job(i+1, jobs_df['Degree_Bachelor'][i], jobs_df['Degree_Master'][i], jobs_df['Degree_Other'][i],\n",
    "              jobs_df['Software_Programming'][i], jobs_df['C_Programming'][i], jobs_df['Python_Programming'][i], \n",
    "              jobs_df['JavaScript_Programming'][i], jobs_df['Professional_Software_Experience'][i], \n",
    "              jobs_df['Management_Skills'][i], jobs_df['Engineer'][i], int(jobs_df['Minimum_Pay'][i]))\n",
    "    job_list.append(job)\n",
    "\n",
    "candidate_list = []\n",
    "for i in range(len(parity_df)):\n",
    "    candidate = Candidate(i+1, parity_df['Gender'][i], parity_df['Degree_Bachelor'][i], parity_df['Degree_Master'][i], parity_df['Degree_Other'][i], \n",
    "                          parity_df['Software_Programming'][i], parity_df['C_Programming'][i], parity_df['Python_Programming'][i], \n",
    "                          parity_df['JavaScript_Programming'][i], parity_df['Professional_Software_Experience'][i], \n",
    "                          parity_df['Management_Skills'][i], parity_df['Engineer'][i], int(parity_df['Previous_Pay'][i]))\n",
    "    candidate_list.append(candidate)\n",
    "\n",
    "print(\"Job Data:\", len(job_list), \" Candidate Data:\", len(candidate_list))"
   ]
  },
  {
   "cell_type": "markdown",
   "metadata": {},
   "source": [
    "## 3. EPISODES (INITIAL)"
   ]
  },
  {
   "cell_type": "code",
   "execution_count": 8,
   "metadata": {},
   "outputs": [],
   "source": [
    "# Read in the hyperparameter results\n",
    "results_parameters_dqn = pd.read_csv('../../optimisation/optimisation_parity_data/results_parameters_dqn_parity.csv')\n",
    "\n",
    "# Initialise a dataframe to store the results\n",
    "columns = [\"agent\", \"running_seed\", \"sample_seed\", \"num_jobs\", \"num_candidates\", \"reward\", \"sampled_men_percent\", \"hired_men_percent\", \"data\", \"debiased\"]\n",
    "dqn_results_df = pd.DataFrame(columns=columns)"
   ]
  },
  {
   "cell_type": "code",
   "execution_count": 9,
   "metadata": {},
   "outputs": [
    {
     "data": {
      "text/plain": [
       "<Figure size 640x480 with 0 Axes>"
      ]
     },
     "metadata": {},
     "output_type": "display_data"
    },
    {
     "data": {
      "image/png": "[encoded data removed]",
      "text/plain": [
       "<Figure size 640x480 with 1 Axes>"
      ]
     },
     "metadata": {},
     "output_type": "display_data"
    },
    {
     "name": "stdout",
     "output_type": "stream",
     "text": [
      "Episode 6000: Model loss = 106793.1953125\n",
      "Allocations:\n",
      "Job 0 allocated to Candidate 7\n",
      "Job 2 allocated to Candidate 23\n",
      "Job 3 allocated to Candidate 99\n",
      "Job 4 allocated to Candidate 70\n",
      "Job 5 allocated to Candidate 19\n",
      "Job 6 allocated to Candidate 54\n",
      "Job 9 allocated to Candidate 71\n",
      "\n",
      "Gender distribution:\n",
      "   Woman  Man\n",
      "0      0    7\n",
      "None\n",
      "Reward:  -101572\n"
     ]
    }
   ],
   "source": [
    "# 10 Jobs, 100 Candidates, running seed 1 (-101572)\n",
    "dqn_results_df, loss_list_10 = episode_dqn_agent(10, 100, job_list, candidate_list, results_parameters_dqn, 1, 6000, dqn_results_df)"
   ]
  },
  {
   "cell_type": "code",
   "execution_count": 10,
   "metadata": {},
   "outputs": [
    {
     "data": {
      "text/plain": [
       "<Figure size 640x480 with 0 Axes>"
      ]
     },
     "metadata": {},
     "output_type": "display_data"
    },
    {
     "data": {
      "image/png": "[encoded data removed]",
      "text/plain": [
       "<Figure size 640x480 with 1 Axes>"
      ]
     },
     "metadata": {},
     "output_type": "display_data"
    },
    {
     "name": "stdout",
     "output_type": "stream",
     "text": [
      "Episode 6000: Model loss = 10038.2392578125\n",
      "Allocations:\n",
      "Job 0 allocated to Candidate 99\n",
      "Job 2 allocated to Candidate 14\n",
      "Job 3 allocated to Candidate 81\n",
      "Job 4 allocated to Candidate 19\n",
      "Job 5 allocated to Candidate 25\n",
      "Job 6 allocated to Candidate 54\n",
      "Job 9 allocated to Candidate 7\n",
      "Job 10 allocated to Candidate 55\n",
      "Job 11 allocated to Candidate 11\n",
      "Job 12 allocated to Candidate 71\n",
      "Job 13 allocated to Candidate 70\n",
      "Job 16 allocated to Candidate 88\n",
      "Job 17 allocated to Candidate 18\n",
      "Job 18 allocated to Candidate 23\n",
      "Job 19 allocated to Candidate 30\n",
      "\n",
      "Gender distribution:\n",
      "   Woman  Man\n",
      "0      4   11\n",
      "None\n",
      "Reward:  -362280\n"
     ]
    }
   ],
   "source": [
    "# 20 Jobs, 100 Candidates, running seed 1 (-362280)\n",
    "dqn_results_df, loss_list_20 = episode_dqn_agent(20, 100, job_list, candidate_list, results_parameters_dqn, 1, 6000, dqn_results_df)"
   ]
  },
  {
   "cell_type": "code",
   "execution_count": 11,
   "metadata": {},
   "outputs": [
    {
     "data": {
      "text/plain": [
       "<Figure size 640x480 with 0 Axes>"
      ]
     },
     "metadata": {},
     "output_type": "display_data"
    },
    {
     "data": {
      "image/png": "[encoded data removed]",
      "text/plain": [
       "<Figure size 640x480 with 1 Axes>"
      ]
     },
     "metadata": {},
     "output_type": "display_data"
    },
    {
     "name": "stdout",
     "output_type": "stream",
     "text": [
      "Episode 6000: Model loss = 7.881480356574591e+24\n",
      "Allocations:\n",
      "Job 0 allocated to Candidate 99\n",
      "Job 2 allocated to Candidate 23\n",
      "Job 3 allocated to Candidate 22\n",
      "Job 4 allocated to Candidate 16\n",
      "Job 5 allocated to Candidate 58\n",
      "Job 9 allocated to Candidate 56\n",
      "Job 10 allocated to Candidate 55\n",
      "Job 11 allocated to Candidate 96\n",
      "Job 12 allocated to Candidate 71\n",
      "Job 13 allocated to Candidate 91\n",
      "Job 16 allocated to Candidate 88\n",
      "Job 17 allocated to Candidate 67\n",
      "Job 18 allocated to Candidate 63\n",
      "Job 19 allocated to Candidate 30\n",
      "Job 20 allocated to Candidate 25\n",
      "Job 21 allocated to Candidate 49\n",
      "Job 22 allocated to Candidate 54\n",
      "Job 23 allocated to Candidate 83\n",
      "Job 24 allocated to Candidate 28\n",
      "Job 27 allocated to Candidate 59\n",
      "Job 28 allocated to Candidate 77\n",
      "Job 30 allocated to Candidate 18\n",
      "Job 32 allocated to Candidate 35\n",
      "Job 34 allocated to Candidate 17\n",
      "Job 35 allocated to Candidate 19\n",
      "Job 37 allocated to Candidate 7\n",
      "Job 40 allocated to Candidate 14\n",
      "Job 41 allocated to Candidate 81\n",
      "Job 42 allocated to Candidate 62\n",
      "Job 43 allocated to Candidate 11\n",
      "Job 44 allocated to Candidate 70\n",
      "Job 46 allocated to Candidate 69\n",
      "Job 47 allocated to Candidate 84\n",
      "Job 49 allocated to Candidate 29\n",
      "\n",
      "Gender distribution:\n",
      "   Woman  Man\n",
      "0     13   21\n",
      "None\n",
      "Reward:  -1405377\n"
     ]
    }
   ],
   "source": [
    "# 50 Jobs, 100 Candidates, running seed 1 (-1405377)\n",
    "dqn_results_df, loss_list_50 = episode_dqn_agent(50, 100, job_list, candidate_list, results_parameters_dqn, 1, 6000, dqn_results_df)"
   ]
  },
  {
   "cell_type": "markdown",
   "metadata": {},
   "source": [
    "## 4. RESULTS (INITIAL)"
   ]
  },
  {
   "cell_type": "code",
   "execution_count": 12,
   "metadata": {},
   "outputs": [
    {
     "data": {
      "text/html": [
       "<div>\n",
       "<style scoped>\n",
       "    .dataframe tbody tr th:only-of-type {\n",
       "        vertical-align: middle;\n",
       "    }\n",
       "\n",
       "    .dataframe tbody tr th {\n",
       "        vertical-align: top;\n",
       "    }\n",
       "\n",
       "    .dataframe thead th {\n",
       "        text-align: right;\n",
       "    }\n",
       "</style>\n",
       "<table border=\"1\" class=\"dataframe\">\n",
       "  <thead>\n",
       "    <tr style=\"text-align: right;\">\n",
       "      <th></th>\n",
       "      <th>agent</th>\n",
       "      <th>running_seed</th>\n",
       "      <th>sample_seed</th>\n",
       "      <th>num_jobs</th>\n",
       "      <th>num_candidates</th>\n",
       "      <th>reward</th>\n",
       "      <th>sampled_men_percent</th>\n",
       "      <th>hired_men_percent</th>\n",
       "      <th>data</th>\n",
       "      <th>debiased</th>\n",
       "    </tr>\n",
       "  </thead>\n",
       "  <tbody>\n",
       "    <tr>\n",
       "      <th>0</th>\n",
       "      <td>DQN</td>\n",
       "      <td>1</td>\n",
       "      <td>1</td>\n",
       "      <td>10</td>\n",
       "      <td>100</td>\n",
       "      <td>-101572</td>\n",
       "      <td>0.56</td>\n",
       "      <td>1.000000</td>\n",
       "      <td>parity_data</td>\n",
       "      <td>No</td>\n",
       "    </tr>\n",
       "    <tr>\n",
       "      <th>1</th>\n",
       "      <td>DQN</td>\n",
       "      <td>1</td>\n",
       "      <td>1</td>\n",
       "      <td>20</td>\n",
       "      <td>100</td>\n",
       "      <td>-362280</td>\n",
       "      <td>0.56</td>\n",
       "      <td>0.733333</td>\n",
       "      <td>parity_data</td>\n",
       "      <td>No</td>\n",
       "    </tr>\n",
       "    <tr>\n",
       "      <th>2</th>\n",
       "      <td>DQN</td>\n",
       "      <td>1</td>\n",
       "      <td>1</td>\n",
       "      <td>50</td>\n",
       "      <td>100</td>\n",
       "      <td>-1405377</td>\n",
       "      <td>0.56</td>\n",
       "      <td>0.617647</td>\n",
       "      <td>parity_data</td>\n",
       "      <td>No</td>\n",
       "    </tr>\n",
       "  </tbody>\n",
       "</table>\n",
       "</div>"
      ],
      "text/plain": [
       "  agent running_seed sample_seed num_jobs num_candidates    reward  \\\n",
       "0   DQN            1           1       10            100   -101572   \n",
       "1   DQN            1           1       20            100   -362280   \n",
       "2   DQN            1           1       50            100  -1405377   \n",
       "\n",
       "   sampled_men_percent  hired_men_percent         data debiased  \n",
       "0                 0.56           1.000000  parity_data       No  \n",
       "1                 0.56           0.733333  parity_data       No  \n",
       "2                 0.56           0.617647  parity_data       No  "
      ]
     },
     "execution_count": 12,
     "metadata": {},
     "output_type": "execute_result"
    }
   ],
   "source": [
    "dqn_results_df"
   ]
  },
  {
   "cell_type": "code",
   "execution_count": 13,
   "metadata": {},
   "outputs": [],
   "source": [
    "# Save the dqn results to a csv file\n",
    "dqn_results_df.to_csv(\"dqn_results_parity_data.csv\")"
   ]
  },
  {
   "cell_type": "markdown",
   "metadata": {},
   "source": [
    "## 5. LOSS (INITIAL)"
   ]
  },
  {
   "cell_type": "code",
   "execution_count": 14,
   "metadata": {},
   "outputs": [],
   "source": [
    "# Store the loss_lists in a csv file to create graphs\n",
    "loss_list_df = pd.DataFrame({10: loss_list_10, 20: loss_list_20, 50: loss_list_50})\n",
    "loss_list_df.to_csv(\"dqn_loss_parity_data.csv\")"
   ]
  },
  {
   "cell_type": "code",
   "execution_count": 15,
   "metadata": {},
   "outputs": [
    {
     "data": {
      "text/html": [
       "<div>\n",
       "<style scoped>\n",
       "    .dataframe tbody tr th:only-of-type {\n",
       "        vertical-align: middle;\n",
       "    }\n",
       "\n",
       "    .dataframe tbody tr th {\n",
       "        vertical-align: top;\n",
       "    }\n",
       "\n",
       "    .dataframe thead th {\n",
       "        text-align: right;\n",
       "    }\n",
       "</style>\n",
       "<table border=\"1\" class=\"dataframe\">\n",
       "  <thead>\n",
       "    <tr style=\"text-align: right;\">\n",
       "      <th></th>\n",
       "      <th>10</th>\n",
       "      <th>20</th>\n",
       "      <th>50</th>\n",
       "    </tr>\n",
       "  </thead>\n",
       "  <tbody>\n",
       "    <tr>\n",
       "      <th>0</th>\n",
       "      <td>NaN</td>\n",
       "      <td>5.067653e+09</td>\n",
       "      <td>NaN</td>\n",
       "    </tr>\n",
       "    <tr>\n",
       "      <th>1</th>\n",
       "      <td>NaN</td>\n",
       "      <td>6.160638e+09</td>\n",
       "      <td>6.346334e+09</td>\n",
       "    </tr>\n",
       "    <tr>\n",
       "      <th>2</th>\n",
       "      <td>4.646065e+09</td>\n",
       "      <td>7.113470e+09</td>\n",
       "      <td>6.371330e+09</td>\n",
       "    </tr>\n",
       "    <tr>\n",
       "      <th>3</th>\n",
       "      <td>3.435211e+09</td>\n",
       "      <td>6.323175e+09</td>\n",
       "      <td>6.162646e+09</td>\n",
       "    </tr>\n",
       "    <tr>\n",
       "      <th>4</th>\n",
       "      <td>3.711366e+09</td>\n",
       "      <td>6.824820e+09</td>\n",
       "      <td>5.688139e+09</td>\n",
       "    </tr>\n",
       "  </tbody>\n",
       "</table>\n",
       "</div>"
      ],
      "text/plain": [
       "             10            20            50\n",
       "0           NaN  5.067653e+09           NaN\n",
       "1           NaN  6.160638e+09  6.346334e+09\n",
       "2  4.646065e+09  7.113470e+09  6.371330e+09\n",
       "3  3.435211e+09  6.323175e+09  6.162646e+09\n",
       "4  3.711366e+09  6.824820e+09  5.688139e+09"
      ]
     },
     "execution_count": 15,
     "metadata": {},
     "output_type": "execute_result"
    }
   ],
   "source": [
    "loss_list_df[:5]"
   ]
  },
  {
   "cell_type": "markdown",
   "metadata": {},
   "source": [
    "## 6. EPISODES (DEBIASED)"
   ]
  },
  {
   "cell_type": "code",
   "execution_count": 10,
   "metadata": {},
   "outputs": [],
   "source": [
    "# Read in the hyperparameter results\n",
    "results_parameters_dqn_debiased = pd.read_csv('../../optimisation/optimisation_debias/results_parameters_dqn_debiased.csv')\n",
    "results_parameters_dqn_debiased = results_parameters_dqn_debiased[results_parameters_dqn_debiased['data'] == 'parity_data'].reset_index(drop=True)\n",
    "\n",
    "# Initialise a dataframe to store the results\n",
    "columns = [\"agent\", \"running_seed\", \"sample_seed\", \"num_jobs\", \"num_candidates\", \"reward\", \"sampled_men_percent\", \"hired_men_percent\", \"data\", \"debiased\"]\n",
    "dqn_debiased_results_df = pd.DataFrame(columns=columns)"
   ]
  },
  {
   "cell_type": "code",
   "execution_count": 11,
   "metadata": {},
   "outputs": [
    {
     "data": {
      "text/plain": [
       "<Figure size 640x480 with 0 Axes>"
      ]
     },
     "metadata": {},
     "output_type": "display_data"
    },
    {
     "data": {
      "image/png": "[encoded data removed]",
      "text/plain": [
       "<Figure size 640x480 with 1 Axes>"
      ]
     },
     "metadata": {},
     "output_type": "display_data"
    },
    {
     "name": "stdout",
     "output_type": "stream",
     "text": [
      "Episode 6000: Model loss = 5340274.0\n",
      "Allocations:\n",
      "Job 0 allocated to Candidate 7\n",
      "Job 2 allocated to Candidate 30\n",
      "Job 3 allocated to Candidate 99\n",
      "Job 4 allocated to Candidate 19\n",
      "Job 5 allocated to Candidate 71\n",
      "Job 6 allocated to Candidate 54\n",
      "Job 9 allocated to Candidate 81\n",
      "\n",
      "Gender distribution:\n",
      "   Woman  Man\n",
      "0      1    6\n",
      "None\n",
      "Reward:  -122226.0\n"
     ]
    }
   ],
   "source": [
    "# 10 Jobs, 100 Candidates, running seed 1 (-122226.0)\n",
    "dqn_debiased_results_df, loss_list_debiased_10 = episode_dqn_agent_debiased(10, 100, job_list, candidate_list, results_parameters_dqn_debiased, 1, 6000, dqn_debiased_results_df)"
   ]
  },
  {
   "cell_type": "code",
   "execution_count": 12,
   "metadata": {},
   "outputs": [
    {
     "data": {
      "text/plain": [
       "<Figure size 640x480 with 0 Axes>"
      ]
     },
     "metadata": {},
     "output_type": "display_data"
    },
    {
     "data": {
      "image/png": "[encoded data removed]",
      "text/plain": [
       "<Figure size 640x480 with 1 Axes>"
      ]
     },
     "metadata": {},
     "output_type": "display_data"
    },
    {
     "name": "stdout",
     "output_type": "stream",
     "text": [
      "Episode 6000: Model loss = 19018574.0\n",
      "Allocations:\n",
      "Job 0 allocated to Candidate 99\n",
      "Job 2 allocated to Candidate 14\n",
      "Job 3 allocated to Candidate 7\n",
      "Job 4 allocated to Candidate 70\n",
      "Job 5 allocated to Candidate 71\n",
      "Job 6 allocated to Candidate 54\n",
      "Job 9 allocated to Candidate 19\n",
      "Job 10 allocated to Candidate 9\n",
      "Job 11 allocated to Candidate 11\n",
      "Job 12 allocated to Candidate 81\n",
      "Job 13 allocated to Candidate 18\n",
      "Job 16 allocated to Candidate 88\n",
      "Job 17 allocated to Candidate 69\n",
      "Job 18 allocated to Candidate 23\n",
      "Job 19 allocated to Candidate 30\n",
      "\n",
      "Gender distribution:\n",
      "   Woman  Man\n",
      "0      6    9\n",
      "None\n",
      "Reward:  -435563.8\n"
     ]
    }
   ],
   "source": [
    "# 20 Jobs, 100 Candidates, running seed 1 (-435563.8)\n",
    "dqn_debiased_results_df, loss_list_debiased_20 = episode_dqn_agent_debiased(20, 100, job_list, candidate_list, results_parameters_dqn_debiased, 1, 6000, dqn_debiased_results_df)"
   ]
  },
  {
   "cell_type": "code",
   "execution_count": 13,
   "metadata": {},
   "outputs": [
    {
     "data": {
      "text/plain": [
       "<Figure size 640x480 with 0 Axes>"
      ]
     },
     "metadata": {},
     "output_type": "display_data"
    },
    {
     "data": {
      "image/png": "[encoded data removed]",
      "text/plain": [
       "<Figure size 640x480 with 1 Axes>"
      ]
     },
     "metadata": {},
     "output_type": "display_data"
    },
    {
     "name": "stdout",
     "output_type": "stream",
     "text": [
      "Episode 6000: Model loss = 200927.21875\n",
      "Allocations:\n",
      "Job 0 allocated to Candidate 80\n",
      "Job 2 allocated to Candidate 18\n",
      "Job 3 allocated to Candidate 59\n",
      "Job 4 allocated to Candidate 58\n",
      "Job 5 allocated to Candidate 56\n",
      "Job 6 allocated to Candidate 54\n",
      "Job 9 allocated to Candidate 91\n",
      "Job 10 allocated to Candidate 9\n",
      "Job 11 allocated to Candidate 16\n",
      "Job 12 allocated to Candidate 19\n",
      "Job 13 allocated to Candidate 67\n",
      "Job 16 allocated to Candidate 88\n",
      "Job 17 allocated to Candidate 69\n",
      "Job 18 allocated to Candidate 11\n",
      "Job 19 allocated to Candidate 14\n",
      "Job 20 allocated to Candidate 30\n",
      "Job 21 allocated to Candidate 49\n",
      "Job 22 allocated to Candidate 84\n",
      "Job 23 allocated to Candidate 83\n",
      "Job 24 allocated to Candidate 22\n",
      "Job 27 allocated to Candidate 35\n",
      "Job 28 allocated to Candidate 76\n",
      "Job 30 allocated to Candidate 17\n",
      "Job 32 allocated to Candidate 71\n",
      "Job 34 allocated to Candidate 28\n",
      "Job 35 allocated to Candidate 7\n",
      "Job 37 allocated to Candidate 25\n",
      "Job 40 allocated to Candidate 23\n",
      "Job 41 allocated to Candidate 70\n",
      "Job 42 allocated to Candidate 96\n",
      "Job 43 allocated to Candidate 99\n",
      "Job 44 allocated to Candidate 81\n",
      "Job 46 allocated to Candidate 62\n",
      "Job 47 allocated to Candidate 95\n",
      "Job 49 allocated to Candidate 29\n",
      "\n",
      "Gender distribution:\n",
      "   Woman  Man\n",
      "0     17   18\n",
      "None\n",
      "Reward:  -1476196.7\n"
     ]
    }
   ],
   "source": [
    "# 50 Jobs, 100 Candidates, running seed 1 (-1476196.7)\n",
    "dqn_debiased_results_df, loss_list_debiased_50 = episode_dqn_agent_debiased(50, 100, job_list, candidate_list, results_parameters_dqn_debiased, 1, 6000, dqn_debiased_results_df)"
   ]
  },
  {
   "cell_type": "markdown",
   "metadata": {},
   "source": [
    "## 8. RESULTS (DEBIASED)"
   ]
  },
  {
   "cell_type": "code",
   "execution_count": 16,
   "metadata": {},
   "outputs": [
    {
     "data": {
      "text/html": [
       "<div>\n",
       "<style scoped>\n",
       "    .dataframe tbody tr th:only-of-type {\n",
       "        vertical-align: middle;\n",
       "    }\n",
       "\n",
       "    .dataframe tbody tr th {\n",
       "        vertical-align: top;\n",
       "    }\n",
       "\n",
       "    .dataframe thead th {\n",
       "        text-align: right;\n",
       "    }\n",
       "</style>\n",
       "<table border=\"1\" class=\"dataframe\">\n",
       "  <thead>\n",
       "    <tr style=\"text-align: right;\">\n",
       "      <th></th>\n",
       "      <th>agent</th>\n",
       "      <th>running_seed</th>\n",
       "      <th>sample_seed</th>\n",
       "      <th>num_jobs</th>\n",
       "      <th>num_candidates</th>\n",
       "      <th>reward</th>\n",
       "      <th>sampled_men_percent</th>\n",
       "      <th>hired_men_percent</th>\n",
       "      <th>data</th>\n",
       "      <th>debiased</th>\n",
       "    </tr>\n",
       "  </thead>\n",
       "  <tbody>\n",
       "    <tr>\n",
       "      <th>0</th>\n",
       "      <td>DQN</td>\n",
       "      <td>1</td>\n",
       "      <td>1</td>\n",
       "      <td>10</td>\n",
       "      <td>100</td>\n",
       "      <td>-122226.0</td>\n",
       "      <td>0.56</td>\n",
       "      <td>0.857143</td>\n",
       "      <td>parity_data</td>\n",
       "      <td>Yes</td>\n",
       "    </tr>\n",
       "    <tr>\n",
       "      <th>1</th>\n",
       "      <td>DQN</td>\n",
       "      <td>1</td>\n",
       "      <td>1</td>\n",
       "      <td>20</td>\n",
       "      <td>100</td>\n",
       "      <td>-435563.8</td>\n",
       "      <td>0.56</td>\n",
       "      <td>0.600000</td>\n",
       "      <td>parity_data</td>\n",
       "      <td>Yes</td>\n",
       "    </tr>\n",
       "    <tr>\n",
       "      <th>2</th>\n",
       "      <td>DQN</td>\n",
       "      <td>1</td>\n",
       "      <td>1</td>\n",
       "      <td>50</td>\n",
       "      <td>100</td>\n",
       "      <td>-1476196.7</td>\n",
       "      <td>0.56</td>\n",
       "      <td>0.514286</td>\n",
       "      <td>parity_data</td>\n",
       "      <td>Yes</td>\n",
       "    </tr>\n",
       "  </tbody>\n",
       "</table>\n",
       "</div>"
      ],
      "text/plain": [
       "  agent running_seed sample_seed num_jobs num_candidates     reward  \\\n",
       "0   DQN            1           1       10            100  -122226.0   \n",
       "1   DQN            1           1       20            100  -435563.8   \n",
       "2   DQN            1           1       50            100 -1476196.7   \n",
       "\n",
       "   sampled_men_percent  hired_men_percent         data debiased  \n",
       "0                 0.56           0.857143  parity_data      Yes  \n",
       "1                 0.56           0.600000  parity_data      Yes  \n",
       "2                 0.56           0.514286  parity_data      Yes  "
      ]
     },
     "execution_count": 16,
     "metadata": {},
     "output_type": "execute_result"
    }
   ],
   "source": [
    "dqn_debiased_results_df"
   ]
  },
  {
   "cell_type": "code",
   "execution_count": 15,
   "metadata": {},
   "outputs": [],
   "source": [
    "# Save the dqn results to a csv file\n",
    "dqn_debiased_results_df.to_csv(\"dqn_debiased_results_parity_data.csv\")"
   ]
  }
 ],
 "metadata": {
  "kernelspec": {
   "display_name": "base",
   "language": "python",
   "name": "python3"
  },
  "language_info": {
   "codemirror_mode": {
    "name": "ipython",
    "version": 3
   },
   "file_extension": ".py",
   "mimetype": "text/x-python",
   "name": "python",
   "nbconvert_exporter": "python",
   "pygments_lexer": "ipython3",
   "version": "3.9.13"
  }
 },
 "nbformat": 4,
 "nbformat_minor": 2
}
