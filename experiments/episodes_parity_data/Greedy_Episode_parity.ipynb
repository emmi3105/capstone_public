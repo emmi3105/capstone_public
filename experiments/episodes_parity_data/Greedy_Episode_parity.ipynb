{
 "cells": [
  {
   "cell_type": "markdown",
   "metadata": {},
   "source": [
    "<h1 style=\"text-align: center;\">GREEDY EPISODE (PARITY DATA)</h1>"
   ]
  },
  {
   "cell_type": "markdown",
   "metadata": {},
   "source": [
    "## 0. PACKAGE REQUIREMENTS"
   ]
  },
  {
   "cell_type": "code",
   "execution_count": 1,
   "metadata": {},
   "outputs": [],
   "source": [
    "# Packages \n",
    "import random\n",
    "import pandas as pd\n",
    "import numpy as np\n",
    "import sys\n",
    "import os\n",
    "from IPython.display import clear_output\n",
    "\n",
    "# Model imports\n",
    "import sys\n",
    "import os"
   ]
  },
  {
   "cell_type": "code",
   "execution_count": 2,
   "metadata": {},
   "outputs": [],
   "source": [
    "# Environment requirements\n",
    "module_path = os.path.abspath(os.path.join('..', '..', 'environment'))\n",
    "if module_path not in sys.path:\n",
    "    sys.path.append(module_path)\n",
    "from environment_basic import Job, Candidate, Environment\n",
    "\n",
    "# Agent requirements\n",
    "module_path = os.path.abspath(os.path.join('..', '..', 'agents'))\n",
    "if module_path not in sys.path:\n",
    "    sys.path.append(module_path)\n",
    "from agents_basic import GreedyAgent\n",
    "\n",
    "# Tool requirements\n",
    "module_path = os.path.abspath(os.path.join('..', '..', 'tools'))\n",
    "if module_path not in sys.path:\n",
    "    sys.path.append(module_path)\n",
    "from tools import calculate_sampled_men, calculate_hired_men"
   ]
  },
  {
   "cell_type": "markdown",
   "metadata": {},
   "source": [
    "## 1. GREEDY EPISODE FUNCTIONS"
   ]
  },
  {
   "cell_type": "code",
   "execution_count": 3,
   "metadata": {},
   "outputs": [],
   "source": [
    "# Function that runs the greedy agent on the sample data\n",
    "def run_greedy_agent(sample_jobs, sample_candidates):\n",
    "    env = Environment(sample_jobs, sample_candidates)\n",
    "    agent = GreedyAgent()\n",
    "    state = env.reset()\n",
    "    done = False\n",
    "    total_reward = 0\n",
    "\n",
    "    while not done:\n",
    "\n",
    "        action = agent.select_action(state)\n",
    "        next_state, reward, done = env.step(action)\n",
    "        total_reward += reward\n",
    "        state = next_state\n",
    "\n",
    "        if done:\n",
    "            print('Final state:')\n",
    "            state.display_state()\n",
    "            print('\\nEpisode Reward:')\n",
    "            print(total_reward)\n",
    "            gender_distribution = state.gender_distribution \n",
    "            break\n",
    "    \n",
    "    return gender_distribution, total_reward"
   ]
  },
  {
   "cell_type": "code",
   "execution_count": 4,
   "metadata": {},
   "outputs": [],
   "source": [
    "# Function that initialises the sample, sets the seed and executes the greedy agent\n",
    "\n",
    "def episode_greedy_agent(num_jobs, num_candidates, job_list, candidate_list, results_df):\n",
    "    # Initialise the data\n",
    "    random.seed(1)\n",
    "    sample_jobs = random.sample(job_list, num_jobs)\n",
    "\n",
    "    random.seed(1)\n",
    "    sample_candidates = random.sample(candidate_list, num_candidates)\n",
    "\n",
    "    gender_distribution, total_reward = run_greedy_agent(sample_jobs, sample_candidates)\n",
    "\n",
    "    sampled_men = calculate_sampled_men(sample_candidates)\n",
    "    hired_men = calculate_hired_men(gender_distribution)\n",
    "\n",
    "    # Add the results to results_df\n",
    "    new_row = pd.DataFrame([{\"agent\": \"Greedy\", \"running_seed\": None, \"sample_seed\": 1, \"num_jobs\": num_jobs, \"num_candidates\": num_candidates, \n",
    "                                 \"reward\": total_reward,  \"sampled_men_percent\": sampled_men, \"hired_men_percent\": hired_men,\n",
    "                                 \"data\": 'parity_data', \"debiased\": 'No'}])\n",
    "\n",
    "    results_df = pd.concat([results_df, new_row], ignore_index=True)\n",
    "\n",
    "    return results_df"
   ]
  },
  {
   "cell_type": "markdown",
   "metadata": {},
   "source": [
    "## 2. INITIALISE THE DATA"
   ]
  },
  {
   "cell_type": "code",
   "execution_count": 5,
   "metadata": {},
   "outputs": [
    {
     "data": {
      "text/plain": [
       "1    2329\n",
       "2    2329\n",
       "Name: Gender, dtype: int64"
      ]
     },
     "execution_count": 5,
     "metadata": {},
     "output_type": "execute_result"
    }
   ],
   "source": [
    "# Read in the job data\n",
    "file_path = '../../data/cleaned_data/jobs_cleaned.csv'\n",
    "jobs_df = pd.read_csv(file_path)\n",
    "\n",
    "# Read in the candidate data\n",
    "file_path = '../../data/cleaned_data/candidates_cleaned.csv'\n",
    "candidates_df = pd.read_csv(file_path)\n",
    "\n",
    "# Create a parity data set\n",
    "women_df = candidates_df[candidates_df['Gender'] == 1]\n",
    "men_df = candidates_df[candidates_df['Gender'] == 2]\n",
    "\n",
    "sampled_men_df = men_df.sample(n=len(women_df), random_state=1)\n",
    "parity_df = pd.concat([women_df, sampled_men_df], ignore_index=True)\n",
    "\n",
    "parity_df['Gender'].value_counts()"
   ]
  },
  {
   "cell_type": "code",
   "execution_count": 6,
   "metadata": {},
   "outputs": [
    {
     "name": "stdout",
     "output_type": "stream",
     "text": [
      "Job Data: 806  Candidate Data: 4658\n"
     ]
    }
   ],
   "source": [
    "# Initialise the class objects with data from the dataframes\n",
    "job_list = []\n",
    "for i in range(len(jobs_df)):\n",
    "    job = Job(i+1, jobs_df['Degree_Bachelor'][i], jobs_df['Degree_Master'][i], jobs_df['Degree_Other'][i],\n",
    "              jobs_df['Software_Programming'][i], jobs_df['C_Programming'][i], jobs_df['Python_Programming'][i], \n",
    "              jobs_df['JavaScript_Programming'][i], jobs_df['Professional_Software_Experience'][i], \n",
    "              jobs_df['Management_Skills'][i], jobs_df['Engineer'][i], int(jobs_df['Minimum_Pay'][i]))\n",
    "    job_list.append(job)\n",
    "\n",
    "candidate_list = []\n",
    "for i in range(len(parity_df)):\n",
    "    candidate = Candidate(i+1, parity_df['Gender'][i], parity_df['Degree_Bachelor'][i], parity_df['Degree_Master'][i], parity_df['Degree_Other'][i], \n",
    "                          parity_df['Software_Programming'][i], parity_df['C_Programming'][i], parity_df['Python_Programming'][i], \n",
    "                          parity_df['JavaScript_Programming'][i], parity_df['Professional_Software_Experience'][i], \n",
    "                          parity_df['Management_Skills'][i], parity_df['Engineer'][i], int(parity_df['Previous_Pay'][i]))\n",
    "    candidate_list.append(candidate)\n",
    "\n",
    "print(\"Job Data:\", len(job_list), \" Candidate Data:\", len(candidate_list))"
   ]
  },
  {
   "cell_type": "markdown",
   "metadata": {},
   "source": [
    "## 3. EPISODES"
   ]
  },
  {
   "cell_type": "code",
   "execution_count": 7,
   "metadata": {},
   "outputs": [],
   "source": [
    "# Initialise a dataframe to store the results\n",
    "columns = [\"agent\", \"running_seed\", \"sample_seed\", \"num_jobs\", \"num_candidates\", \"reward\", \"sampled_men_percent\", \"hired_men_percent\", \"data\", \"debiased\"]\n",
    "greedy_results_df = pd.DataFrame(columns=columns)"
   ]
  },
  {
   "cell_type": "code",
   "execution_count": 8,
   "metadata": {},
   "outputs": [
    {
     "name": "stdout",
     "output_type": "stream",
     "text": [
      "Final state:\n",
      "Allocations:\n",
      "Job 0 allocated to Candidate 99\n",
      "Job 2 allocated to Candidate 23\n",
      "Job 3 allocated to Candidate 19\n",
      "Job 4 allocated to Candidate 71\n",
      "Job 5 allocated to Candidate 7\n",
      "Job 6 allocated to Candidate 54\n",
      "Job 9 allocated to Candidate 70\n",
      "\n",
      "Gender distribution:\n",
      "   Woman  Man\n",
      "0      0    7\n",
      "\n",
      "Episode Reward:\n",
      "-101572\n"
     ]
    }
   ],
   "source": [
    "# 10 Jobs, 100 Candidates\n",
    "greedy_results_df = episode_greedy_agent(10, 100, job_list, candidate_list, greedy_results_df)"
   ]
  },
  {
   "cell_type": "code",
   "execution_count": 9,
   "metadata": {},
   "outputs": [
    {
     "name": "stdout",
     "output_type": "stream",
     "text": [
      "Final state:\n",
      "Allocations:\n",
      "Job 0 allocated to Candidate 99\n",
      "Job 2 allocated to Candidate 23\n",
      "Job 3 allocated to Candidate 19\n",
      "Job 4 allocated to Candidate 71\n",
      "Job 5 allocated to Candidate 7\n",
      "Job 6 allocated to Candidate 54\n",
      "Job 9 allocated to Candidate 70\n",
      "Job 10 allocated to Candidate 55\n",
      "Job 11 allocated to Candidate 81\n",
      "Job 12 allocated to Candidate 25\n",
      "Job 13 allocated to Candidate 11\n",
      "Job 16 allocated to Candidate 88\n",
      "Job 17 allocated to Candidate 18\n",
      "Job 18 allocated to Candidate 14\n",
      "Job 19 allocated to Candidate 30\n",
      "\n",
      "Gender distribution:\n",
      "   Woman  Man\n",
      "0      4   11\n",
      "\n",
      "Episode Reward:\n",
      "-362280\n"
     ]
    }
   ],
   "source": [
    "# 20 Jobs, 100 Candidates\n",
    "greedy_results_df = episode_greedy_agent(20, 100, job_list, candidate_list, greedy_results_df)"
   ]
  },
  {
   "cell_type": "code",
   "execution_count": 10,
   "metadata": {},
   "outputs": [
    {
     "name": "stdout",
     "output_type": "stream",
     "text": [
      "Final state:\n",
      "Allocations:\n",
      "Job 0 allocated to Candidate 99\n",
      "Job 2 allocated to Candidate 23\n",
      "Job 3 allocated to Candidate 19\n",
      "Job 4 allocated to Candidate 71\n",
      "Job 5 allocated to Candidate 81\n",
      "Job 6 allocated to Candidate 54\n",
      "Job 9 allocated to Candidate 18\n",
      "Job 10 allocated to Candidate 55\n",
      "Job 11 allocated to Candidate 67\n",
      "Job 12 allocated to Candidate 69\n",
      "Job 13 allocated to Candidate 91\n",
      "Job 16 allocated to Candidate 88\n",
      "Job 17 allocated to Candidate 35\n",
      "Job 18 allocated to Candidate 14\n",
      "Job 19 allocated to Candidate 30\n",
      "Job 20 allocated to Candidate 25\n",
      "Job 21 allocated to Candidate 84\n",
      "Job 22 allocated to Candidate 49\n",
      "Job 23 allocated to Candidate 83\n",
      "Job 24 allocated to Candidate 16\n",
      "Job 27 allocated to Candidate 22\n",
      "Job 28 allocated to Candidate 76\n",
      "Job 30 allocated to Candidate 28\n",
      "Job 32 allocated to Candidate 29\n",
      "Job 34 allocated to Candidate 58\n",
      "Job 35 allocated to Candidate 62\n",
      "Job 37 allocated to Candidate 7\n",
      "Job 40 allocated to Candidate 11\n",
      "Job 41 allocated to Candidate 70\n",
      "Job 42 allocated to Candidate 56\n",
      "Job 43 allocated to Candidate 96\n",
      "Job 44 allocated to Candidate 17\n",
      "Job 46 allocated to Candidate 59\n",
      "Job 47 allocated to Candidate 95\n",
      "Job 49 allocated to Candidate 63\n",
      "\n",
      "Gender distribution:\n",
      "   Woman  Man\n",
      "0     15   20\n",
      "\n",
      "Episode Reward:\n",
      "-1447219\n"
     ]
    }
   ],
   "source": [
    "# 50 Jobs, 100 Candidates\n",
    "greedy_results_df = episode_greedy_agent(50, 100, job_list, candidate_list, greedy_results_df)"
   ]
  },
  {
   "cell_type": "code",
   "execution_count": 11,
   "metadata": {},
   "outputs": [
    {
     "name": "stdout",
     "output_type": "stream",
     "text": [
      "Final state:\n",
      "Allocations:\n",
      "Job 0 allocated to Candidate 59\n",
      "Job 2 allocated to Candidate 14\n",
      "Job 3 allocated to Candidate 19\n",
      "Job 4 allocated to Candidate 71\n",
      "Job 5 allocated to Candidate 62\n",
      "Job 9 allocated to Candidate 56\n",
      "Job 10 allocated to Candidate 9\n",
      "Job 11 allocated to Candidate 96\n",
      "Job 12 allocated to Candidate 17\n",
      "Job 13 allocated to Candidate 63\n",
      "Job 16 allocated to Candidate 88\n",
      "Job 17 allocated to Candidate 78\n",
      "Job 18 allocated to Candidate 30\n",
      "Job 19 allocated to Candidate 25\n",
      "Job 20 allocated to Candidate 11\n",
      "Job 21 allocated to Candidate 84\n",
      "Job 22 allocated to Candidate 41\n",
      "Job 23 allocated to Candidate 79\n",
      "Job 24 allocated to Candidate 27\n",
      "Job 27 allocated to Candidate 66\n",
      "Job 28 allocated to Candidate 76\n",
      "Job 30 allocated to Candidate 80\n",
      "Job 32 allocated to Candidate 13\n",
      "Job 34 allocated to Candidate 43\n",
      "Job 35 allocated to Candidate 15\n",
      "Job 37 allocated to Candidate 7\n",
      "Job 40 allocated to Candidate 18\n",
      "Job 42 allocated to Candidate 81\n",
      "Job 43 allocated to Candidate 89\n",
      "Job 44 allocated to Candidate 92\n",
      "Job 46 allocated to Candidate 72\n",
      "Job 48 allocated to Candidate 87\n",
      "Job 49 allocated to Candidate 95\n",
      "Job 51 allocated to Candidate 53\n",
      "Job 52 allocated to Candidate 70\n",
      "Job 55 allocated to Candidate 82\n",
      "Job 56 allocated to Candidate 73\n",
      "Job 57 allocated to Candidate 67\n",
      "Job 59 allocated to Candidate 61\n",
      "Job 60 allocated to Candidate 99\n",
      "Job 61 allocated to Candidate 69\n",
      "Job 62 allocated to Candidate 28\n",
      "Job 64 allocated to Candidate 3\n",
      "Job 66 allocated to Candidate 91\n",
      "Job 67 allocated to Candidate 60\n",
      "Job 69 allocated to Candidate 35\n",
      "Job 72 allocated to Candidate 55\n",
      "Job 74 allocated to Candidate 32\n",
      "Job 75 allocated to Candidate 51\n",
      "Job 76 allocated to Candidate 85\n",
      "Job 78 allocated to Candidate 29\n",
      "Job 80 allocated to Candidate 77\n",
      "Job 81 allocated to Candidate 83\n",
      "Job 82 allocated to Candidate 58\n",
      "Job 83 allocated to Candidate 6\n",
      "Job 84 allocated to Candidate 16\n",
      "Job 86 allocated to Candidate 49\n",
      "Job 89 allocated to Candidate 54\n",
      "Job 92 allocated to Candidate 22\n",
      "Job 93 allocated to Candidate 0\n",
      "Job 95 allocated to Candidate 23\n",
      "Job 97 allocated to Candidate 50\n",
      "\n",
      "Gender distribution:\n",
      "   Woman  Man\n",
      "0     25   37\n",
      "\n",
      "Episode Reward:\n",
      "-3560055\n"
     ]
    }
   ],
   "source": [
    "# 100 Jobs, 100 Candidates\n",
    "greedy_results_df = episode_greedy_agent(100, 100, job_list, candidate_list, greedy_results_df)"
   ]
  },
  {
   "cell_type": "code",
   "execution_count": 12,
   "metadata": {},
   "outputs": [
    {
     "data": {
      "text/html": [
       "<div>\n",
       "<style scoped>\n",
       "    .dataframe tbody tr th:only-of-type {\n",
       "        vertical-align: middle;\n",
       "    }\n",
       "\n",
       "    .dataframe tbody tr th {\n",
       "        vertical-align: top;\n",
       "    }\n",
       "\n",
       "    .dataframe thead th {\n",
       "        text-align: right;\n",
       "    }\n",
       "</style>\n",
       "<table border=\"1\" class=\"dataframe\">\n",
       "  <thead>\n",
       "    <tr style=\"text-align: right;\">\n",
       "      <th></th>\n",
       "      <th>agent</th>\n",
       "      <th>running_seed</th>\n",
       "      <th>sample_seed</th>\n",
       "      <th>num_jobs</th>\n",
       "      <th>num_candidates</th>\n",
       "      <th>reward</th>\n",
       "      <th>sampled_men_percent</th>\n",
       "      <th>hired_men_percent</th>\n",
       "      <th>data</th>\n",
       "      <th>debiased</th>\n",
       "    </tr>\n",
       "  </thead>\n",
       "  <tbody>\n",
       "    <tr>\n",
       "      <th>0</th>\n",
       "      <td>Greedy</td>\n",
       "      <td>None</td>\n",
       "      <td>1</td>\n",
       "      <td>10</td>\n",
       "      <td>100</td>\n",
       "      <td>-101572</td>\n",
       "      <td>0.56</td>\n",
       "      <td>1.000000</td>\n",
       "      <td>parity_data</td>\n",
       "      <td>No</td>\n",
       "    </tr>\n",
       "    <tr>\n",
       "      <th>1</th>\n",
       "      <td>Greedy</td>\n",
       "      <td>None</td>\n",
       "      <td>1</td>\n",
       "      <td>20</td>\n",
       "      <td>100</td>\n",
       "      <td>-362280</td>\n",
       "      <td>0.56</td>\n",
       "      <td>0.733333</td>\n",
       "      <td>parity_data</td>\n",
       "      <td>No</td>\n",
       "    </tr>\n",
       "    <tr>\n",
       "      <th>2</th>\n",
       "      <td>Greedy</td>\n",
       "      <td>None</td>\n",
       "      <td>1</td>\n",
       "      <td>50</td>\n",
       "      <td>100</td>\n",
       "      <td>-1447219</td>\n",
       "      <td>0.56</td>\n",
       "      <td>0.571429</td>\n",
       "      <td>parity_data</td>\n",
       "      <td>No</td>\n",
       "    </tr>\n",
       "    <tr>\n",
       "      <th>3</th>\n",
       "      <td>Greedy</td>\n",
       "      <td>None</td>\n",
       "      <td>1</td>\n",
       "      <td>100</td>\n",
       "      <td>100</td>\n",
       "      <td>-3560055</td>\n",
       "      <td>0.56</td>\n",
       "      <td>0.596774</td>\n",
       "      <td>parity_data</td>\n",
       "      <td>No</td>\n",
       "    </tr>\n",
       "  </tbody>\n",
       "</table>\n",
       "</div>"
      ],
      "text/plain": [
       "    agent running_seed sample_seed num_jobs num_candidates    reward  \\\n",
       "0  Greedy         None           1       10            100   -101572   \n",
       "1  Greedy         None           1       20            100   -362280   \n",
       "2  Greedy         None           1       50            100  -1447219   \n",
       "3  Greedy         None           1      100            100  -3560055   \n",
       "\n",
       "   sampled_men_percent  hired_men_percent         data debiased  \n",
       "0                 0.56           1.000000  parity_data       No  \n",
       "1                 0.56           0.733333  parity_data       No  \n",
       "2                 0.56           0.571429  parity_data       No  \n",
       "3                 0.56           0.596774  parity_data       No  "
      ]
     },
     "execution_count": 12,
     "metadata": {},
     "output_type": "execute_result"
    }
   ],
   "source": [
    "greedy_results_df"
   ]
  },
  {
   "cell_type": "code",
   "execution_count": 13,
   "metadata": {},
   "outputs": [],
   "source": [
    "# Save the greedy results in a csv\n",
    "greedy_results_df.to_csv(\"greedy_results_parity.csv\")"
   ]
  }
 ],
 "metadata": {
  "kernelspec": {
   "display_name": "base",
   "language": "python",
   "name": "python3"
  },
  "language_info": {
   "codemirror_mode": {
    "name": "ipython",
    "version": 3
   },
   "file_extension": ".py",
   "mimetype": "text/x-python",
   "name": "python",
   "nbconvert_exporter": "python",
   "pygments_lexer": "ipython3",
   "version": "3.9.13"
  }
 },
 "nbformat": 4,
 "nbformat_minor": 2
}
