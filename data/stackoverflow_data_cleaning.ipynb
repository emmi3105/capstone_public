{
 "cells": [
  {
   "cell_type": "markdown",
   "metadata": {},
   "source": [
    "<h1 style=\"text-align: center;\">STACKOVERFLOW DATA CLEANING</h1>"
   ]
  },
  {
   "cell_type": "markdown",
   "metadata": {},
   "source": [
    "## 0. PACKAGE REQUIREMENT LIST"
   ]
  },
  {
   "cell_type": "code",
   "execution_count": 1,
   "metadata": {},
   "outputs": [
    {
     "name": "stderr",
     "output_type": "stream",
     "text": [
      "/Users/emilialautz/opt/anaconda3/lib/python3.9/site-packages/scipy/__init__.py:155: UserWarning: A NumPy version >=1.18.5 and <1.25.0 is required for this version of SciPy (detected version 1.26.4\n",
      "  warnings.warn(f\"A NumPy version >={np_minversion} and <{np_maxversion}\"\n"
     ]
    }
   ],
   "source": [
    "# Package requirement list\n",
    "\n",
    "import pandas as pd\n",
    "import numpy as np\n",
    "import re\n",
    "import matplotlib.pyplot as plt\n",
    "from sklearn.linear_model import LinearRegression\n",
    "from sklearn.preprocessing import OneHotEncoder\n",
    "from sklearn.compose import ColumnTransformer\n",
    "from sklearn.pipeline import Pipeline"
   ]
  },
  {
   "cell_type": "markdown",
   "metadata": {},
   "source": [
    "## 1. ORIGINAL DATA: ANALYSIS & CLEANING (DON'T RUN)"
   ]
  },
  {
   "cell_type": "code",
   "execution_count": 2,
   "metadata": {},
   "outputs": [],
   "source": [
    "# Read the CSV file into a DataFrame\n",
    "#file_path = '../survey_results_public_22.csv'\n",
    "#candidates_df = pd.read_csv(file_path)\n",
    "\n",
    "# Display the first few rows of the DataFrame\n",
    "#candidates_df[:10]"
   ]
  },
  {
   "cell_type": "code",
   "execution_count": 3,
   "metadata": {},
   "outputs": [],
   "source": [
    "#candidates_df.isna().sum()"
   ]
  },
  {
   "cell_type": "code",
   "execution_count": 4,
   "metadata": {},
   "outputs": [],
   "source": [
    "#candidates_df.dtypes"
   ]
  },
  {
   "cell_type": "code",
   "execution_count": 6,
   "metadata": {},
   "outputs": [],
   "source": [
    "# Filter only for variables of interest\n",
    "#candidates_df_selected = candidates_df[[\"MainBranch\", \"EdLevel\", \"YearsCode\", \"YearsCodePro\", \"DevType\", \n",
    "#                                        \"LanguageHaveWorkedWith\", \"ConvertedCompYearly\", \"Gender\"]]\n",
    "\n",
    "#candidates_df_selected[:10]"
   ]
  },
  {
   "cell_type": "code",
   "execution_count": 7,
   "metadata": {},
   "outputs": [],
   "source": [
    "#candidates_df_selected.isna().sum()"
   ]
  },
  {
   "cell_type": "code",
   "execution_count": 8,
   "metadata": {},
   "outputs": [],
   "source": [
    "#candidates_df_selected.dtypes"
   ]
  },
  {
   "cell_type": "code",
   "execution_count": 9,
   "metadata": {},
   "outputs": [],
   "source": [
    "# Save candidates_df_selected as a CSV file\n",
    "#candidates_df_selected.to_csv('raw_data/stackoverflow_data_raw.csv', index=False)"
   ]
  },
  {
   "cell_type": "markdown",
   "metadata": {},
   "source": [
    "## 2. CREATE NEW VARIABLES\n",
    "\n",
    "- \"Degree\"\n",
    "    - From EdLevel\n",
    "- \"Software_Programming\" \n",
    "    - 1: if the answer to \"MainBranch\" is: \n",
    "        - I am a developer by profession\n",
    "        - I am not primarily a developer, but I write code sometimes as part of my work/studies - I used to be a developer by profession, but no longer am\n",
    "        - I code primarily as a hobby\n",
    "    - 0: otherwise\n",
    "- \"C_Programming\" (C or C++)\n",
    "    - 1: if C or C++ in LanguageHaveWorkedWith\n",
    "    - 0: otherwise\n",
    "- \"Python_Programming\"\n",
    "    - 1: if Python in LanguageHaveWorkedWith\n",
    "    - 0: otherwise\n",
    "- \"JavaScript_Programming\"\n",
    "    - 1: if JavaScript in LanguagesHaveWorkedWith\n",
    "    - 0: otherwise\n",
    "- \"Professional_Software_Experience\"\n",
    "    - From YearsCodePro\n",
    "- \"Management_Skills\"\n",
    "    - 1: if \"manager\" or \"management\" in DevType\n",
    "    - 0: otherwise\n",
    "- \"Engineer\"\n",
    "    - 1: if \"Engineer\" in DevType\n",
    "    - 0: otherwise\n",
    "- \"Previous_Pay\"\n",
    "    - From ConvertedCompYearly"
   ]
  },
  {
   "cell_type": "code",
   "execution_count": 2,
   "metadata": {},
   "outputs": [
    {
     "data": {
      "text/plain": [
       "MainBranch                    0\n",
       "EdLevel                       0\n",
       "YearsCode                     0\n",
       "YearsCodePro                  0\n",
       "DevType                       0\n",
       "LanguageHaveWorkedWith        0\n",
       "ConvertedCompYearly       13019\n",
       "Gender                        0\n",
       "dtype: int64"
      ]
     },
     "execution_count": 2,
     "metadata": {},
     "output_type": "execute_result"
    }
   ],
   "source": [
    "# Read the CSV file into a DataFrame\n",
    "file_path = 'raw_data/stackoverflow_data_raw.csv'\n",
    "candidates_df = pd.read_csv(file_path)\n",
    "\n",
    "candidates_df_filtered = candidates_df.dropna(subset=[col for col in candidates_df.columns if col != 'ConvertedCompYearly'])\n",
    "candidates_df_filtered = candidates_df_filtered.copy()\n",
    "\n",
    "candidates_df_filtered.isna().sum()"
   ]
  },
  {
   "cell_type": "code",
   "execution_count": 3,
   "metadata": {},
   "outputs": [
    {
     "data": {
      "text/plain": [
       "50597"
      ]
     },
     "execution_count": 3,
     "metadata": {},
     "output_type": "execute_result"
    }
   ],
   "source": [
    "len(candidates_df_filtered)"
   ]
  },
  {
   "cell_type": "markdown",
   "metadata": {},
   "source": [
    "### A. Degree"
   ]
  },
  {
   "cell_type": "code",
   "execution_count": 4,
   "metadata": {},
   "outputs": [],
   "source": [
    "def check_degree(value):\n",
    "    \"\"\"Check if the row contains a degree and return the degree level.\n",
    "    \"No_Degree\": No degree\n",
    "    \"Bachelor\": Bachelor's degree\n",
    "    \"Master\": Master's degree\n",
    "    \"Other\": Other degree\n",
    "    np.nan: Missing value\n",
    "    \"\"\"\n",
    "    \n",
    "    if isinstance(value, str):\n",
    "        value = value.lower()\n",
    "        if \"bachelor\" in value:\n",
    "            return \"Bachelor\"\n",
    "        elif \"master\" in value:\n",
    "            return \"Master\"       \n",
    "        elif \"professional degree\" in value:\n",
    "            return \"Other\"\n",
    "        elif \"associate degree\" in value:\n",
    "            return \"Other\"\n",
    "        else:\n",
    "            return \"No_Degree\"\n",
    "    return np.nan\n",
    "\n",
    "# Apply the function to each row to create the 'Degree' column\n",
    "candidates_df_filtered['Degree'] = candidates_df_filtered['EdLevel'].apply(check_degree)\n",
    "\n",
    "# One-hot encode the degree variable (No_Degree as baseline)\n",
    "candidates_df_filtered['Degree'] = pd.Categorical(candidates_df_filtered['Degree'], categories=['No_Degree', 'Bachelor', 'Master', 'Other'], ordered=True)\n",
    "candidates_df_filtered = pd.get_dummies(candidates_df_filtered, columns=['Degree'], drop_first=True)"
   ]
  },
  {
   "cell_type": "markdown",
   "metadata": {},
   "source": [
    "### B. Software Programming"
   ]
  },
  {
   "cell_type": "code",
   "execution_count": 5,
   "metadata": {},
   "outputs": [],
   "source": [
    "def check_software_programming(value):\n",
    "    \"\"\"Check if the value contains experience in software programming.\n",
    "    1: if the answer to the question \"MainBranch\" is\n",
    "        - I am a developer by profession\n",
    "        - I am not primarily a developer, but I write code sometimes as part of my work/studies\n",
    "        - I used to be a developer by profession, but no longer am\n",
    "        - I code primarily as a hobby\n",
    "    0: otherwise (no missing values)\n",
    "    \"\"\"\n",
    "\n",
    "    if value in [\"I am a developer by profession\", \n",
    "                 \"I am not primarily a developer, but I write code sometimes as part of my work/studies\",\n",
    "                 \"I used to be a developer by profession, but no longer am\",\n",
    "                 \"I code primarily as a hobby\"]:\n",
    "        return 1\n",
    "    return 0\n",
    "\n",
    "# Apply the function to each row to create the 'Software_Programming' column\n",
    "candidates_df_filtered['Software_Programming'] = candidates_df_filtered['MainBranch'].apply(check_software_programming)"
   ]
  },
  {
   "cell_type": "markdown",
   "metadata": {},
   "source": [
    "### C. C_Programming"
   ]
  },
  {
   "cell_type": "code",
   "execution_count": 6,
   "metadata": {},
   "outputs": [],
   "source": [
    "def check_c_programming(value):\n",
    "    \"\"\"Check if the value contains experience in C programming.\n",
    "    1: if the answer to the question \"LanguageHaveWorkedWith\" contains \"C\" or \"C++\"\n",
    "    0: otherwise (including missing values)\n",
    "    \"\"\"\n",
    "\n",
    "    if isinstance(value, str):\n",
    "        value = value.lower()\n",
    "        if \"c;\" in value or \"c++\" in value or \"c \" in value:\n",
    "            return 1\n",
    "    return 0\n",
    "\n",
    "# Apply the function to each row to create the 'C_Programming' column\n",
    "candidates_df_filtered['C_Programming'] = candidates_df_filtered['LanguageHaveWorkedWith'].apply(check_c_programming)"
   ]
  },
  {
   "cell_type": "markdown",
   "metadata": {},
   "source": [
    "### D. Python_Programming"
   ]
  },
  {
   "cell_type": "code",
   "execution_count": 7,
   "metadata": {},
   "outputs": [],
   "source": [
    "def check_python_programming(value):\n",
    "    \"\"\"Check if the value contains experience in Python programming.\n",
    "    1: if the answer to the question \"LanguageHaveWorkedWith\" contains \"Python\"\n",
    "    0: otherwise (including missing values)\n",
    "    \"\"\"\n",
    "\n",
    "    if isinstance(value, str):\n",
    "        value = value.lower()\n",
    "        if \"python\" in value:\n",
    "            return 1\n",
    "    return 0\n",
    "\n",
    "# Apply the function to each row to create the 'Python_Programming' column\n",
    "candidates_df_filtered['Python_Programming'] = candidates_df_filtered['LanguageHaveWorkedWith'].apply(check_python_programming)"
   ]
  },
  {
   "cell_type": "markdown",
   "metadata": {},
   "source": [
    "### E. JavaScript_Programming"
   ]
  },
  {
   "cell_type": "code",
   "execution_count": 8,
   "metadata": {},
   "outputs": [],
   "source": [
    "def check_javascript_programming(value):\n",
    "    \"\"\"Check if the value contains experience in JavaScript programming.\n",
    "    1: if the answer to the question \"LanguageHaveWorkedWith\" contains \"JavaScript\"\n",
    "    0: otherwise (including missing values)\n",
    "    \"\"\"\n",
    "\n",
    "    if isinstance(value, str):\n",
    "        value = value.lower()\n",
    "        if \"javascript\" in value:\n",
    "            return 1\n",
    "    return 0\n",
    "\n",
    "# Apply the function to each row to create the 'JavaScript_Programming' column\n",
    "candidates_df_filtered['JavaScript_Programming'] = candidates_df_filtered['LanguageHaveWorkedWith'].apply(check_javascript_programming)"
   ]
  },
  {
   "cell_type": "markdown",
   "metadata": {},
   "source": [
    "### F. Professional Software Experience"
   ]
  },
  {
   "cell_type": "code",
   "execution_count": 9,
   "metadata": {},
   "outputs": [],
   "source": [
    "def check_professional_software_experience(value):\n",
    "    \"\"\"Extracts the number of years of non-internship professional software development experience.\n",
    "    \"\"\"\n",
    "\n",
    "    if isinstance(value, str):\n",
    "        if \"Less than 1 year\" in value:\n",
    "            return 0\n",
    "        elif \"More than 50 years\" in value:\n",
    "            return 51 \n",
    "        else:\n",
    "            return int(value)\n",
    "    \n",
    "    return np.nan\n",
    "\n",
    "# Apply the function to each row to create the 'Professional_Software_Experience' column\n",
    "candidates_df_filtered['Professional_Software_Experience'] = candidates_df_filtered['YearsCodePro'].apply(check_professional_software_experience)"
   ]
  },
  {
   "cell_type": "markdown",
   "metadata": {},
   "source": [
    "### G. Management Skills \n",
    "\n"
   ]
  },
  {
   "cell_type": "code",
   "execution_count": 10,
   "metadata": {},
   "outputs": [],
   "source": [
    "def check_management_skills(value):\n",
    "    \"\"\"Check if the value contains experience in management skills.\n",
    "    1: if the answer to the question \"DevType\" contains \"manager\"\n",
    "    0: otherwise (including missing values)\n",
    "    \"\"\"\n",
    "\n",
    "    if isinstance(value, str):\n",
    "        value = value.lower()\n",
    "        if \"manager\" in value:\n",
    "            return 1\n",
    "    return 0\n",
    "\n",
    "# Apply the function to each row to create the 'Management_Skills' column\n",
    "candidates_df_filtered['Management_Skills'] = candidates_df_filtered['DevType'].apply(check_management_skills)"
   ]
  },
  {
   "cell_type": "markdown",
   "metadata": {},
   "source": [
    "### H. Engineer"
   ]
  },
  {
   "cell_type": "code",
   "execution_count": 11,
   "metadata": {},
   "outputs": [],
   "source": [
    "def check_engineer(value):\n",
    "    \"\"\"Check if the value contains experience in engineering.\n",
    "    1: if the answer to the question \"DevType\" contains \"engineer\"\n",
    "    0: otherwise (including missing values)\n",
    "    \"\"\"\n",
    "\n",
    "    if isinstance(value, str):\n",
    "        value = value.lower()\n",
    "        if \"engineer\" in value and \"manager\" not in value:\n",
    "            return 1\n",
    "    return 0\n",
    "\n",
    "# Apply the function to each row to create the 'Engineer' column\n",
    "candidates_df_filtered['Engineer'] = candidates_df_filtered['DevType'].apply(check_engineer)"
   ]
  },
  {
   "cell_type": "markdown",
   "metadata": {},
   "source": [
    "### Previous Pay"
   ]
  },
  {
   "cell_type": "code",
   "execution_count": 12,
   "metadata": {},
   "outputs": [],
   "source": [
    "def check_previous_pay(value):\n",
    "    \"\"\"Extracts the previous yearly compensation from the variable \"ConvertedCompYearly\" (in USD).\n",
    "    \"\"\"\n",
    "\n",
    "    return pd.to_numeric(value, errors='coerce')\n",
    "    \n",
    "# Apply the function to each row to create the 'Previous_Pay' column\n",
    "candidates_df_filtered['Previous_Pay'] = candidates_df_filtered['ConvertedCompYearly'].apply(check_previous_pay)"
   ]
  },
  {
   "cell_type": "markdown",
   "metadata": {},
   "source": [
    "### Gender"
   ]
  },
  {
   "cell_type": "code",
   "execution_count": 13,
   "metadata": {},
   "outputs": [
    {
     "data": {
      "text/plain": [
       "Man                                                                                   46676\n",
       "Woman                                                                                  2329\n",
       "Prefer not to say                                                                       654\n",
       "Non-binary, genderqueer, or gender non-conforming                                       389\n",
       "Or, in your own words:                                                                  154\n",
       "Man;Non-binary, genderqueer, or gender non-conforming                                   138\n",
       "Man;Or, in your own words:                                                              102\n",
       "Woman;Non-binary, genderqueer, or gender non-conforming                                  92\n",
       "Man;Woman;Non-binary, genderqueer, or gender non-conforming                              19\n",
       "Man;Woman                                                                                10\n",
       "Or, in your own words:;Non-binary, genderqueer, or gender non-conforming                  9\n",
       "Or, in your own words:;Woman                                                              7\n",
       "Man;Or, in your own words:;Woman;Non-binary, genderqueer, or gender non-conforming        6\n",
       "Or, in your own words:;Woman;Non-binary, genderqueer, or gender non-conforming            6\n",
       "Man;Or, in your own words:;Non-binary, genderqueer, or gender non-conforming              4\n",
       "Man;Or, in your own words:;Woman                                                          2\n",
       "Name: Gender, dtype: int64"
      ]
     },
     "execution_count": 13,
     "metadata": {},
     "output_type": "execute_result"
    }
   ],
   "source": [
    "candidates_df_filtered[\"Gender\"].value_counts()"
   ]
  },
  {
   "cell_type": "code",
   "execution_count": 14,
   "metadata": {},
   "outputs": [],
   "source": [
    "def recode_gender(gender):\n",
    "    \"\"\"Clean and numerically encode the gender variable.\n",
    "    1: \"Woman\"\n",
    "    2: \"Man\"\n",
    "    3: \"Prefer not to say\" \n",
    "    0: otherwise\n",
    "    \"\"\"\n",
    "    if gender == 'Woman':\n",
    "        return 1\n",
    "    elif gender == 'Man':\n",
    "        return 2\n",
    "    elif gender == 'Prefer not to say':\n",
    "        return 3\n",
    "    else:\n",
    "        return 0\n",
    "\n",
    "candidates_df_filtered['Gender'] = candidates_df_filtered['Gender'].apply(recode_gender)"
   ]
  },
  {
   "cell_type": "code",
   "execution_count": 15,
   "metadata": {},
   "outputs": [
    {
     "data": {
      "text/plain": [
       "2    46676\n",
       "1     2329\n",
       "0      938\n",
       "3      654\n",
       "Name: Gender, dtype: int64"
      ]
     },
     "execution_count": 15,
     "metadata": {},
     "output_type": "execute_result"
    }
   ],
   "source": [
    "candidates_df_filtered[\"Gender\"].value_counts()"
   ]
  },
  {
   "cell_type": "markdown",
   "metadata": {},
   "source": [
    "## 3. IMPUTE MISSING VALUES IN 'Previous_Pay'\n",
    "\n",
    "- Use a regression to impute missing values in 'Previous_Pay'\n",
    "- Predictors:\n",
    "    - 'Gender', \n",
    "    - 'Degree_Bachelor', \n",
    "    - 'Degree_Master',\n",
    "    - 'Degree_Other',\n",
    "    - 'Software_Programming', \n",
    "    - 'C_Programming', \n",
    "    - 'Python_Programming', \n",
    "    - 'JavaScript_Programming',\n",
    "    - 'Professional_Software_Experience', \n",
    "    - 'Management_Skills', \n",
    "    - 'Engineer'"
   ]
  },
  {
   "cell_type": "code",
   "execution_count": 16,
   "metadata": {},
   "outputs": [
    {
     "data": {
      "text/html": [
       "<div>\n",
       "<style scoped>\n",
       "    .dataframe tbody tr th:only-of-type {\n",
       "        vertical-align: middle;\n",
       "    }\n",
       "\n",
       "    .dataframe tbody tr th {\n",
       "        vertical-align: top;\n",
       "    }\n",
       "\n",
       "    .dataframe thead th {\n",
       "        text-align: right;\n",
       "    }\n",
       "</style>\n",
       "<table border=\"1\" class=\"dataframe\">\n",
       "  <thead>\n",
       "    <tr style=\"text-align: right;\">\n",
       "      <th></th>\n",
       "      <th>MainBranch</th>\n",
       "      <th>EdLevel</th>\n",
       "      <th>YearsCode</th>\n",
       "      <th>YearsCodePro</th>\n",
       "      <th>DevType</th>\n",
       "      <th>LanguageHaveWorkedWith</th>\n",
       "      <th>ConvertedCompYearly</th>\n",
       "      <th>Gender</th>\n",
       "      <th>Degree_Bachelor</th>\n",
       "      <th>Degree_Master</th>\n",
       "      <th>Degree_Other</th>\n",
       "      <th>Software_Programming</th>\n",
       "      <th>C_Programming</th>\n",
       "      <th>Python_Programming</th>\n",
       "      <th>JavaScript_Programming</th>\n",
       "      <th>Professional_Software_Experience</th>\n",
       "      <th>Management_Skills</th>\n",
       "      <th>Engineer</th>\n",
       "      <th>Previous_Pay</th>\n",
       "    </tr>\n",
       "  </thead>\n",
       "  <tbody>\n",
       "    <tr>\n",
       "      <th>2</th>\n",
       "      <td>I am not primarily a developer, but I write co...</td>\n",
       "      <td>Master’s degree (M.A., M.S., M.Eng., MBA, etc.)</td>\n",
       "      <td>14</td>\n",
       "      <td>5</td>\n",
       "      <td>Data scientist or machine learning specialist;...</td>\n",
       "      <td>C#;C++;HTML/CSS;JavaScript;Python</td>\n",
       "      <td>40205.0</td>\n",
       "      <td>2</td>\n",
       "      <td>0</td>\n",
       "      <td>1</td>\n",
       "      <td>0</td>\n",
       "      <td>0</td>\n",
       "      <td>1</td>\n",
       "      <td>1</td>\n",
       "      <td>1</td>\n",
       "      <td>5</td>\n",
       "      <td>0</td>\n",
       "      <td>1</td>\n",
       "      <td>40205.0</td>\n",
       "    </tr>\n",
       "    <tr>\n",
       "      <th>3</th>\n",
       "      <td>I am a developer by profession</td>\n",
       "      <td>Bachelor’s degree (B.A., B.S., B.Eng., etc.)</td>\n",
       "      <td>20</td>\n",
       "      <td>17</td>\n",
       "      <td>Developer, full-stack</td>\n",
       "      <td>C#;JavaScript;SQL;TypeScript</td>\n",
       "      <td>215232.0</td>\n",
       "      <td>2</td>\n",
       "      <td>1</td>\n",
       "      <td>0</td>\n",
       "      <td>0</td>\n",
       "      <td>1</td>\n",
       "      <td>0</td>\n",
       "      <td>0</td>\n",
       "      <td>1</td>\n",
       "      <td>17</td>\n",
       "      <td>0</td>\n",
       "      <td>0</td>\n",
       "      <td>215232.0</td>\n",
       "    </tr>\n",
       "    <tr>\n",
       "      <th>9</th>\n",
       "      <td>I am a developer by profession</td>\n",
       "      <td>Some college/university study without earning ...</td>\n",
       "      <td>37</td>\n",
       "      <td>30</td>\n",
       "      <td>Developer, desktop or enterprise applications;...</td>\n",
       "      <td>Delphi;Java;Swift</td>\n",
       "      <td>NaN</td>\n",
       "      <td>1</td>\n",
       "      <td>0</td>\n",
       "      <td>0</td>\n",
       "      <td>0</td>\n",
       "      <td>1</td>\n",
       "      <td>0</td>\n",
       "      <td>0</td>\n",
       "      <td>0</td>\n",
       "      <td>30</td>\n",
       "      <td>0</td>\n",
       "      <td>0</td>\n",
       "      <td>NaN</td>\n",
       "    </tr>\n",
       "    <tr>\n",
       "      <th>10</th>\n",
       "      <td>I am a developer by profession</td>\n",
       "      <td>Bachelor’s degree (B.A., B.S., B.Eng., etc.)</td>\n",
       "      <td>5</td>\n",
       "      <td>2</td>\n",
       "      <td>Developer, full-stack;Developer, back-end</td>\n",
       "      <td>Bash/Shell;C#;HTML/CSS;JavaScript;PowerShell;SQL</td>\n",
       "      <td>60307.0</td>\n",
       "      <td>2</td>\n",
       "      <td>1</td>\n",
       "      <td>0</td>\n",
       "      <td>0</td>\n",
       "      <td>1</td>\n",
       "      <td>0</td>\n",
       "      <td>0</td>\n",
       "      <td>1</td>\n",
       "      <td>2</td>\n",
       "      <td>0</td>\n",
       "      <td>0</td>\n",
       "      <td>60307.0</td>\n",
       "    </tr>\n",
       "    <tr>\n",
       "      <th>11</th>\n",
       "      <td>I am not primarily a developer, but I write co...</td>\n",
       "      <td>Bachelor’s degree (B.A., B.S., B.Eng., etc.)</td>\n",
       "      <td>12</td>\n",
       "      <td>10</td>\n",
       "      <td>Engineering manager</td>\n",
       "      <td>C#;HTML/CSS;JavaScript;PowerShell;Python;Rust;SQL</td>\n",
       "      <td>194400.0</td>\n",
       "      <td>2</td>\n",
       "      <td>1</td>\n",
       "      <td>0</td>\n",
       "      <td>0</td>\n",
       "      <td>0</td>\n",
       "      <td>0</td>\n",
       "      <td>1</td>\n",
       "      <td>1</td>\n",
       "      <td>10</td>\n",
       "      <td>1</td>\n",
       "      <td>0</td>\n",
       "      <td>194400.0</td>\n",
       "    </tr>\n",
       "  </tbody>\n",
       "</table>\n",
       "</div>"
      ],
      "text/plain": [
       "                                           MainBranch  \\\n",
       "2   I am not primarily a developer, but I write co...   \n",
       "3                      I am a developer by profession   \n",
       "9                      I am a developer by profession   \n",
       "10                     I am a developer by profession   \n",
       "11  I am not primarily a developer, but I write co...   \n",
       "\n",
       "                                              EdLevel YearsCode YearsCodePro  \\\n",
       "2     Master’s degree (M.A., M.S., M.Eng., MBA, etc.)        14            5   \n",
       "3        Bachelor’s degree (B.A., B.S., B.Eng., etc.)        20           17   \n",
       "9   Some college/university study without earning ...        37           30   \n",
       "10       Bachelor’s degree (B.A., B.S., B.Eng., etc.)         5            2   \n",
       "11       Bachelor’s degree (B.A., B.S., B.Eng., etc.)        12           10   \n",
       "\n",
       "                                              DevType  \\\n",
       "2   Data scientist or machine learning specialist;...   \n",
       "3                               Developer, full-stack   \n",
       "9   Developer, desktop or enterprise applications;...   \n",
       "10          Developer, full-stack;Developer, back-end   \n",
       "11                                Engineering manager   \n",
       "\n",
       "                               LanguageHaveWorkedWith  ConvertedCompYearly  \\\n",
       "2                   C#;C++;HTML/CSS;JavaScript;Python              40205.0   \n",
       "3                        C#;JavaScript;SQL;TypeScript             215232.0   \n",
       "9                                   Delphi;Java;Swift                  NaN   \n",
       "10   Bash/Shell;C#;HTML/CSS;JavaScript;PowerShell;SQL              60307.0   \n",
       "11  C#;HTML/CSS;JavaScript;PowerShell;Python;Rust;SQL             194400.0   \n",
       "\n",
       "    Gender  Degree_Bachelor  Degree_Master  Degree_Other  \\\n",
       "2        2                0              1             0   \n",
       "3        2                1              0             0   \n",
       "9        1                0              0             0   \n",
       "10       2                1              0             0   \n",
       "11       2                1              0             0   \n",
       "\n",
       "    Software_Programming  C_Programming  Python_Programming  \\\n",
       "2                      0              1                   1   \n",
       "3                      1              0                   0   \n",
       "9                      1              0                   0   \n",
       "10                     1              0                   0   \n",
       "11                     0              0                   1   \n",
       "\n",
       "    JavaScript_Programming  Professional_Software_Experience  \\\n",
       "2                        1                                 5   \n",
       "3                        1                                17   \n",
       "9                        0                                30   \n",
       "10                       1                                 2   \n",
       "11                       1                                10   \n",
       "\n",
       "    Management_Skills  Engineer  Previous_Pay  \n",
       "2                   0         1       40205.0  \n",
       "3                   0         0      215232.0  \n",
       "9                   0         0           NaN  \n",
       "10                  0         0       60307.0  \n",
       "11                  1         0      194400.0  "
      ]
     },
     "execution_count": 16,
     "metadata": {},
     "output_type": "execute_result"
    }
   ],
   "source": [
    "candidates_df_imputed_gender = candidates_df_filtered.copy()\n",
    "candidates_df_imputed_gender[:5]"
   ]
  },
  {
   "cell_type": "code",
   "execution_count": 17,
   "metadata": {},
   "outputs": [],
   "source": [
    "# Filter out categories 0 and 3 in the Gender Variable\n",
    "candidates_df_imputed_gender = candidates_df_imputed_gender.loc[candidates_df_imputed_gender['Gender'].isin([1, 2])]"
   ]
  },
  {
   "cell_type": "code",
   "execution_count": 18,
   "metadata": {},
   "outputs": [
    {
     "data": {
      "text/plain": [
       "49005"
      ]
     },
     "execution_count": 18,
     "metadata": {},
     "output_type": "execute_result"
    }
   ],
   "source": [
    "len(candidates_df_imputed_gender)"
   ]
  },
  {
   "cell_type": "code",
   "execution_count": 19,
   "metadata": {},
   "outputs": [
    {
     "data": {
      "text/plain": [
       "MainBranch                              0\n",
       "EdLevel                                 0\n",
       "YearsCode                               0\n",
       "YearsCodePro                            0\n",
       "DevType                                 0\n",
       "LanguageHaveWorkedWith                  0\n",
       "ConvertedCompYearly                 12495\n",
       "Gender                                  0\n",
       "Degree_Bachelor                         0\n",
       "Degree_Master                           0\n",
       "Degree_Other                            0\n",
       "Software_Programming                    0\n",
       "C_Programming                           0\n",
       "Python_Programming                      0\n",
       "JavaScript_Programming                  0\n",
       "Professional_Software_Experience        0\n",
       "Management_Skills                       0\n",
       "Engineer                                0\n",
       "Previous_Pay                        12495\n",
       "dtype: int64"
      ]
     },
     "execution_count": 19,
     "metadata": {},
     "output_type": "execute_result"
    }
   ],
   "source": [
    "candidates_df_imputed_gender.isna().sum()"
   ]
  },
  {
   "cell_type": "code",
   "execution_count": 21,
   "metadata": {},
   "outputs": [],
   "source": [
    "# Separate the columns to be used for prediction\n",
    "predictors = ['Gender', \n",
    "              'Degree_Bachelor', \n",
    "              'Degree_Master',\n",
    "              'Degree_Other',\n",
    "              'Software_Programming', \n",
    "              'C_Programming', \n",
    "              'Python_Programming', \n",
    "              'JavaScript_Programming',\n",
    "              'Professional_Software_Experience', \n",
    "              'Management_Skills', \n",
    "              'Engineer']\n",
    "\n",
    "preprocessor = ColumnTransformer(\n",
    "    transformers=[\n",
    "        ('onehot', OneHotEncoder(), ['Gender'])\n",
    "    ],\n",
    "    remainder='passthrough'\n",
    ")\n",
    "\n",
    "# Create the pipeline with the preprocessor and the regressor\n",
    "model = Pipeline(steps=[\n",
    "    ('preprocessor', preprocessor),\n",
    "    ('regressor', LinearRegression())\n",
    "])\n",
    "\n",
    "# Function to impute missing values using the regression model\n",
    "def impute_missing_values(df, target):\n",
    "\n",
    "    # Train test split\n",
    "    train_data = df[df[target].notna()]\n",
    "    predict_data = df[df[target].isna()]\n",
    "\n",
    "    # Fit the model on the training data\n",
    "    model.fit(train_data[predictors], train_data[target])\n",
    "\n",
    "    # Predict the missing values\n",
    "    df.loc[df[target].isna(), target] = model.predict(predict_data[predictors])\n",
    "\n",
    "# Impute the missing values in the 'Previous_Pay' column\n",
    "impute_missing_values(candidates_df_imputed_gender, 'Previous_Pay')"
   ]
  },
  {
   "cell_type": "code",
   "execution_count": 22,
   "metadata": {},
   "outputs": [
    {
     "data": {
      "text/plain": [
       "Gender\n",
       "1    153607.655279\n",
       "2    169045.981047\n",
       "Name: Previous_Pay, dtype: float64"
      ]
     },
     "execution_count": 22,
     "metadata": {},
     "output_type": "execute_result"
    }
   ],
   "source": [
    "# Get the mean of the 'Previous_Pay' column by gender\n",
    "candidates_df_imputed_gender.groupby('Gender')['Previous_Pay'].mean()"
   ]
  },
  {
   "cell_type": "markdown",
   "metadata": {},
   "source": [
    "## 4. STORE RESULTS"
   ]
  },
  {
   "cell_type": "code",
   "execution_count": 24,
   "metadata": {},
   "outputs": [],
   "source": [
    "# Write the cleaned data to a CSV file\n",
    "candidates_df_imputed_gender.to_csv('cleaned_data/candidates_cleaned.csv', index=False)"
   ]
  }
 ],
 "metadata": {
  "kernelspec": {
   "display_name": "base",
   "language": "python",
   "name": "python3"
  },
  "language_info": {
   "codemirror_mode": {
    "name": "ipython",
    "version": 3
   },
   "file_extension": ".py",
   "mimetype": "text/x-python",
   "name": "python",
   "nbconvert_exporter": "python",
   "pygments_lexer": "ipython3",
   "version": "3.9.13"
  }
 },
 "nbformat": 4,
 "nbformat_minor": 2
}
