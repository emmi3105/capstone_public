{
 "cells": [
  {
   "cell_type": "markdown",
   "metadata": {},
   "source": [
    "<h1 style=\"text-align: center;\">DATA ANALYSIS: RAW StackOverflow DATA</h1>"
   ]
  },
  {
   "cell_type": "markdown",
   "metadata": {},
   "source": [
    "## 0. PACKAGE REQUIREMENTS"
   ]
  },
  {
   "cell_type": "code",
   "execution_count": 1,
   "metadata": {},
   "outputs": [
    {
     "name": "stderr",
     "output_type": "stream",
     "text": [
      "/Users/emilialautz/opt/anaconda3/lib/python3.9/site-packages/scipy/__init__.py:155: UserWarning: A NumPy version >=1.18.5 and <1.25.0 is required for this version of SciPy (detected version 1.26.4\n",
      "  warnings.warn(f\"A NumPy version >={np_minversion} and <{np_maxversion}\"\n"
     ]
    }
   ],
   "source": [
    "# Packages\n",
    "import pandas as pd\n",
    "import matplotlib.pyplot as plt\n",
    "import numpy as np\n",
    "import seaborn as sns"
   ]
  },
  {
   "cell_type": "markdown",
   "metadata": {},
   "source": [
    "## 1. READ IN THE DATA"
   ]
  },
  {
   "cell_type": "code",
   "execution_count": 3,
   "metadata": {},
   "outputs": [],
   "source": [
    "# Read in the candidate data\n",
    "file_path = '../raw_data/stackoverflow_data_raw.csv'\n",
    "stackoverflow_df = pd.read_csv(file_path)"
   ]
  },
  {
   "cell_type": "code",
   "execution_count": 4,
   "metadata": {},
   "outputs": [
    {
     "data": {
      "text/html": [
       "<div>\n",
       "<style scoped>\n",
       "    .dataframe tbody tr th:only-of-type {\n",
       "        vertical-align: middle;\n",
       "    }\n",
       "\n",
       "    .dataframe tbody tr th {\n",
       "        vertical-align: top;\n",
       "    }\n",
       "\n",
       "    .dataframe thead th {\n",
       "        text-align: right;\n",
       "    }\n",
       "</style>\n",
       "<table border=\"1\" class=\"dataframe\">\n",
       "  <thead>\n",
       "    <tr style=\"text-align: right;\">\n",
       "      <th></th>\n",
       "      <th>MainBranch</th>\n",
       "      <th>EdLevel</th>\n",
       "      <th>YearsCode</th>\n",
       "      <th>YearsCodePro</th>\n",
       "      <th>DevType</th>\n",
       "      <th>LanguageHaveWorkedWith</th>\n",
       "      <th>ConvertedCompYearly</th>\n",
       "      <th>Gender</th>\n",
       "    </tr>\n",
       "  </thead>\n",
       "  <tbody>\n",
       "    <tr>\n",
       "      <th>0</th>\n",
       "      <td>None of these</td>\n",
       "      <td>NaN</td>\n",
       "      <td>NaN</td>\n",
       "      <td>NaN</td>\n",
       "      <td>NaN</td>\n",
       "      <td>NaN</td>\n",
       "      <td>NaN</td>\n",
       "      <td>NaN</td>\n",
       "    </tr>\n",
       "    <tr>\n",
       "      <th>1</th>\n",
       "      <td>I am a developer by profession</td>\n",
       "      <td>NaN</td>\n",
       "      <td>NaN</td>\n",
       "      <td>NaN</td>\n",
       "      <td>NaN</td>\n",
       "      <td>JavaScript;TypeScript</td>\n",
       "      <td>NaN</td>\n",
       "      <td>NaN</td>\n",
       "    </tr>\n",
       "    <tr>\n",
       "      <th>2</th>\n",
       "      <td>I am not primarily a developer, but I write co...</td>\n",
       "      <td>Master’s degree (M.A., M.S., M.Eng., MBA, etc.)</td>\n",
       "      <td>14</td>\n",
       "      <td>5</td>\n",
       "      <td>Data scientist or machine learning specialist;...</td>\n",
       "      <td>C#;C++;HTML/CSS;JavaScript;Python</td>\n",
       "      <td>40205.0</td>\n",
       "      <td>Man</td>\n",
       "    </tr>\n",
       "    <tr>\n",
       "      <th>3</th>\n",
       "      <td>I am a developer by profession</td>\n",
       "      <td>Bachelor’s degree (B.A., B.S., B.Eng., etc.)</td>\n",
       "      <td>20</td>\n",
       "      <td>17</td>\n",
       "      <td>Developer, full-stack</td>\n",
       "      <td>C#;JavaScript;SQL;TypeScript</td>\n",
       "      <td>215232.0</td>\n",
       "      <td>Man</td>\n",
       "    </tr>\n",
       "    <tr>\n",
       "      <th>4</th>\n",
       "      <td>I am a developer by profession</td>\n",
       "      <td>Bachelor’s degree (B.A., B.S., B.Eng., etc.)</td>\n",
       "      <td>8</td>\n",
       "      <td>3</td>\n",
       "      <td>Developer, front-end;Developer, full-stack;Dev...</td>\n",
       "      <td>C#;HTML/CSS;JavaScript;SQL;Swift;TypeScript</td>\n",
       "      <td>NaN</td>\n",
       "      <td>NaN</td>\n",
       "    </tr>\n",
       "    <tr>\n",
       "      <th>...</th>\n",
       "      <td>...</td>\n",
       "      <td>...</td>\n",
       "      <td>...</td>\n",
       "      <td>...</td>\n",
       "      <td>...</td>\n",
       "      <td>...</td>\n",
       "      <td>...</td>\n",
       "      <td>...</td>\n",
       "    </tr>\n",
       "    <tr>\n",
       "      <th>73263</th>\n",
       "      <td>I am a developer by profession</td>\n",
       "      <td>Bachelor’s degree (B.A., B.S., B.Eng., etc.)</td>\n",
       "      <td>8</td>\n",
       "      <td>5</td>\n",
       "      <td>Developer, back-end</td>\n",
       "      <td>Bash/Shell;Dart;JavaScript;PHP;Python;SQL;Type...</td>\n",
       "      <td>NaN</td>\n",
       "      <td>Man</td>\n",
       "    </tr>\n",
       "    <tr>\n",
       "      <th>73264</th>\n",
       "      <td>I am a developer by profession</td>\n",
       "      <td>Master’s degree (M.A., M.S., M.Eng., MBA, etc.)</td>\n",
       "      <td>6</td>\n",
       "      <td>5</td>\n",
       "      <td>Data scientist or machine learning specialist</td>\n",
       "      <td>Bash/Shell;HTML/CSS;JavaScript;Python;SQL</td>\n",
       "      <td>NaN</td>\n",
       "      <td>Man</td>\n",
       "    </tr>\n",
       "    <tr>\n",
       "      <th>73265</th>\n",
       "      <td>I am not primarily a developer, but I write co...</td>\n",
       "      <td>Bachelor’s degree (B.A., B.S., B.Eng., etc.)</td>\n",
       "      <td>42</td>\n",
       "      <td>33</td>\n",
       "      <td>Developer, full-stack;Developer, desktop or en...</td>\n",
       "      <td>HTML/CSS;JavaScript;PHP;Python;SQL</td>\n",
       "      <td>NaN</td>\n",
       "      <td>Man</td>\n",
       "    </tr>\n",
       "    <tr>\n",
       "      <th>73266</th>\n",
       "      <td>I am a developer by profession</td>\n",
       "      <td>Bachelor’s degree (B.A., B.S., B.Eng., etc.)</td>\n",
       "      <td>50</td>\n",
       "      <td>31</td>\n",
       "      <td>Developer, front-end;Developer, desktop or ent...</td>\n",
       "      <td>C#;Delphi;VBA</td>\n",
       "      <td>NaN</td>\n",
       "      <td>Man</td>\n",
       "    </tr>\n",
       "    <tr>\n",
       "      <th>73267</th>\n",
       "      <td>I used to be a developer by profession, but no...</td>\n",
       "      <td>Bachelor’s degree (B.A., B.S., B.Eng., etc.)</td>\n",
       "      <td>16</td>\n",
       "      <td>5</td>\n",
       "      <td>Developer, front-end;Engineer, data;Engineer, ...</td>\n",
       "      <td>C#;JavaScript;Lua;PowerShell;SQL;TypeScript</td>\n",
       "      <td>NaN</td>\n",
       "      <td>Man</td>\n",
       "    </tr>\n",
       "  </tbody>\n",
       "</table>\n",
       "<p>73268 rows × 8 columns</p>\n",
       "</div>"
      ],
      "text/plain": [
       "                                              MainBranch  \\\n",
       "0                                          None of these   \n",
       "1                         I am a developer by profession   \n",
       "2      I am not primarily a developer, but I write co...   \n",
       "3                         I am a developer by profession   \n",
       "4                         I am a developer by profession   \n",
       "...                                                  ...   \n",
       "73263                     I am a developer by profession   \n",
       "73264                     I am a developer by profession   \n",
       "73265  I am not primarily a developer, but I write co...   \n",
       "73266                     I am a developer by profession   \n",
       "73267  I used to be a developer by profession, but no...   \n",
       "\n",
       "                                               EdLevel YearsCode YearsCodePro  \\\n",
       "0                                                  NaN       NaN          NaN   \n",
       "1                                                  NaN       NaN          NaN   \n",
       "2      Master’s degree (M.A., M.S., M.Eng., MBA, etc.)        14            5   \n",
       "3         Bachelor’s degree (B.A., B.S., B.Eng., etc.)        20           17   \n",
       "4         Bachelor’s degree (B.A., B.S., B.Eng., etc.)         8            3   \n",
       "...                                                ...       ...          ...   \n",
       "73263     Bachelor’s degree (B.A., B.S., B.Eng., etc.)         8            5   \n",
       "73264  Master’s degree (M.A., M.S., M.Eng., MBA, etc.)         6            5   \n",
       "73265     Bachelor’s degree (B.A., B.S., B.Eng., etc.)        42           33   \n",
       "73266     Bachelor’s degree (B.A., B.S., B.Eng., etc.)        50           31   \n",
       "73267     Bachelor’s degree (B.A., B.S., B.Eng., etc.)        16            5   \n",
       "\n",
       "                                                 DevType  \\\n",
       "0                                                    NaN   \n",
       "1                                                    NaN   \n",
       "2      Data scientist or machine learning specialist;...   \n",
       "3                                  Developer, full-stack   \n",
       "4      Developer, front-end;Developer, full-stack;Dev...   \n",
       "...                                                  ...   \n",
       "73263                                Developer, back-end   \n",
       "73264      Data scientist or machine learning specialist   \n",
       "73265  Developer, full-stack;Developer, desktop or en...   \n",
       "73266  Developer, front-end;Developer, desktop or ent...   \n",
       "73267  Developer, front-end;Engineer, data;Engineer, ...   \n",
       "\n",
       "                                  LanguageHaveWorkedWith  ConvertedCompYearly  \\\n",
       "0                                                    NaN                  NaN   \n",
       "1                                  JavaScript;TypeScript                  NaN   \n",
       "2                      C#;C++;HTML/CSS;JavaScript;Python              40205.0   \n",
       "3                           C#;JavaScript;SQL;TypeScript             215232.0   \n",
       "4            C#;HTML/CSS;JavaScript;SQL;Swift;TypeScript                  NaN   \n",
       "...                                                  ...                  ...   \n",
       "73263  Bash/Shell;Dart;JavaScript;PHP;Python;SQL;Type...                  NaN   \n",
       "73264          Bash/Shell;HTML/CSS;JavaScript;Python;SQL                  NaN   \n",
       "73265                 HTML/CSS;JavaScript;PHP;Python;SQL                  NaN   \n",
       "73266                                      C#;Delphi;VBA                  NaN   \n",
       "73267        C#;JavaScript;Lua;PowerShell;SQL;TypeScript                  NaN   \n",
       "\n",
       "      Gender  \n",
       "0        NaN  \n",
       "1        NaN  \n",
       "2        Man  \n",
       "3        Man  \n",
       "4        NaN  \n",
       "...      ...  \n",
       "73263    Man  \n",
       "73264    Man  \n",
       "73265    Man  \n",
       "73266    Man  \n",
       "73267    Man  \n",
       "\n",
       "[73268 rows x 8 columns]"
      ]
     },
     "execution_count": 4,
     "metadata": {},
     "output_type": "execute_result"
    }
   ],
   "source": [
    "stackoverflow_df"
   ]
  },
  {
   "cell_type": "markdown",
   "metadata": {},
   "source": [
    "## 2. SUMMARY STATISTICS"
   ]
  },
  {
   "cell_type": "code",
   "execution_count": 4,
   "metadata": {},
   "outputs": [],
   "source": [
    "def get_summary_statistics(column_name):\n",
    "    value_counts = stackoverflow_df[column_name].value_counts()\n",
    "    percentages = stackoverflow_df[column_name].value_counts(normalize=True) * 100\n",
    "\n",
    "    for value in value_counts.index:\n",
    "        count = value_counts[value]\n",
    "        percentage = percentages[value]\n",
    "        print(f'{value}: {count} ({percentage:.2f}%)')\n",
    "    \n",
    "    return value_counts, percentages"
   ]
  },
  {
   "cell_type": "code",
   "execution_count": 5,
   "metadata": {},
   "outputs": [
    {
     "name": "stdout",
     "output_type": "stream",
     "text": [
      "Man: 64607 (91.18%)\n",
      "Woman: 3399 (4.80%)\n",
      "Prefer not to say: 1172 (1.65%)\n",
      "Non-binary, genderqueer, or gender non-conforming: 704 (0.99%)\n",
      "Or, in your own words:: 279 (0.39%)\n",
      "Man;Non-binary, genderqueer, or gender non-conforming: 235 (0.33%)\n",
      "Man;Or, in your own words:: 171 (0.24%)\n",
      "Woman;Non-binary, genderqueer, or gender non-conforming: 160 (0.23%)\n",
      "Man;Woman;Non-binary, genderqueer, or gender non-conforming: 31 (0.04%)\n",
      "Man;Woman: 24 (0.03%)\n",
      "Man;Or, in your own words:;Woman;Non-binary, genderqueer, or gender non-conforming: 18 (0.03%)\n",
      "Or, in your own words:;Woman;Non-binary, genderqueer, or gender non-conforming: 15 (0.02%)\n",
      "Or, in your own words:;Non-binary, genderqueer, or gender non-conforming: 14 (0.02%)\n",
      "Or, in your own words:;Woman: 13 (0.02%)\n",
      "Man;Or, in your own words:;Non-binary, genderqueer, or gender non-conforming: 9 (0.01%)\n",
      "Man;Or, in your own words:;Woman: 2 (0.00%)\n"
     ]
    }
   ],
   "source": [
    "gender_counts, gender_percentages = get_summary_statistics(\"Gender\")"
   ]
  },
  {
   "cell_type": "code",
   "execution_count": 6,
   "metadata": {},
   "outputs": [
    {
     "name": "stdout",
     "output_type": "stream",
     "text": [
      "I am a developer by profession: 53507 (73.03%)\n",
      "I am learning to code: 6309 (8.61%)\n",
      "I am not primarily a developer, but I write code sometimes as part of my work: 5794 (7.91%)\n",
      "I code primarily as a hobby: 4865 (6.64%)\n",
      "None of these: 1497 (2.04%)\n",
      "I used to be a developer by profession, but no longer am: 1296 (1.77%)\n"
     ]
    }
   ],
   "source": [
    "profession_counts, profession_percentages = get_summary_statistics(\"MainBranch\")"
   ]
  }
 ],
 "metadata": {
  "kernelspec": {
   "display_name": "base",
   "language": "python",
   "name": "python3"
  },
  "language_info": {
   "codemirror_mode": {
    "name": "ipython",
    "version": 3
   },
   "file_extension": ".py",
   "mimetype": "text/x-python",
   "name": "python",
   "nbconvert_exporter": "python",
   "pygments_lexer": "ipython3",
   "version": "3.9.13"
  }
 },
 "nbformat": 4,
 "nbformat_minor": 2
}
